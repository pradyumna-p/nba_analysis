{
 "cells": [
  {
   "cell_type": "code",
   "execution_count": 1,
   "id": "51e62de8",
   "metadata": {},
   "outputs": [],
   "source": [
    "import pandas as pd\n",
    "import plotly.express as px\n",
    "import plotly.graph_objects as go\n",
    "pd.set_option('display.max_columns', None)\n",
    "\n",
    "data = pd.read_excel('nba_player_data.xlsx')"
   ]
  },
  {
   "cell_type": "code",
   "execution_count": 2,
   "id": "9fccd88d",
   "metadata": {},
   "outputs": [
    {
     "data": {
      "text/html": [
       "<div>\n",
       "<style scoped>\n",
       "    .dataframe tbody tr th:only-of-type {\n",
       "        vertical-align: middle;\n",
       "    }\n",
       "\n",
       "    .dataframe tbody tr th {\n",
       "        vertical-align: top;\n",
       "    }\n",
       "\n",
       "    .dataframe thead th {\n",
       "        text-align: right;\n",
       "    }\n",
       "</style>\n",
       "<table border=\"1\" class=\"dataframe\">\n",
       "  <thead>\n",
       "    <tr style=\"text-align: right;\">\n",
       "      <th></th>\n",
       "      <th>Year</th>\n",
       "      <th>Season_type</th>\n",
       "      <th>PLAYER_ID</th>\n",
       "      <th>RANK</th>\n",
       "      <th>PLAYER</th>\n",
       "      <th>TEAM_ID</th>\n",
       "      <th>TEAM</th>\n",
       "      <th>GP</th>\n",
       "      <th>MIN</th>\n",
       "      <th>FGM</th>\n",
       "      <th>FGA</th>\n",
       "      <th>FG_PCT</th>\n",
       "      <th>FG3M</th>\n",
       "      <th>FG3A</th>\n",
       "      <th>FG3_PCT</th>\n",
       "      <th>FTM</th>\n",
       "      <th>FTA</th>\n",
       "      <th>FT_PCT</th>\n",
       "      <th>OREB</th>\n",
       "      <th>DREB</th>\n",
       "      <th>REB</th>\n",
       "      <th>AST</th>\n",
       "      <th>STL</th>\n",
       "      <th>BLK</th>\n",
       "      <th>TOV</th>\n",
       "      <th>PTS</th>\n",
       "      <th>EFF</th>\n",
       "    </tr>\n",
       "  </thead>\n",
       "  <tbody>\n",
       "    <tr>\n",
       "      <th>497</th>\n",
       "      <td>2013-14</td>\n",
       "      <td>Regular%20Season</td>\n",
       "      <td>203507</td>\n",
       "      <td>189</td>\n",
       "      <td>Giannis Antetokounmpo</td>\n",
       "      <td>1610612749</td>\n",
       "      <td>MIL</td>\n",
       "      <td>77</td>\n",
       "      <td>24.6</td>\n",
       "      <td>2.2</td>\n",
       "      <td>5.4</td>\n",
       "      <td>0.414</td>\n",
       "      <td>0.5</td>\n",
       "      <td>1.5</td>\n",
       "      <td>0.347</td>\n",
       "      <td>1.8</td>\n",
       "      <td>2.6</td>\n",
       "      <td>0.683</td>\n",
       "      <td>1.0</td>\n",
       "      <td>3.4</td>\n",
       "      <td>4.4</td>\n",
       "      <td>1.9</td>\n",
       "      <td>0.8</td>\n",
       "      <td>0.8</td>\n",
       "      <td>1.6</td>\n",
       "      <td>6.8</td>\n",
       "      <td>9.1</td>\n",
       "    </tr>\n",
       "    <tr>\n",
       "      <th>3059</th>\n",
       "      <td>2019-20</td>\n",
       "      <td>Playoffs</td>\n",
       "      <td>1627788</td>\n",
       "      <td>146</td>\n",
       "      <td>Furkan Korkmaz</td>\n",
       "      <td>1610612755</td>\n",
       "      <td>PHI</td>\n",
       "      <td>4</td>\n",
       "      <td>10.0</td>\n",
       "      <td>0.0</td>\n",
       "      <td>1.8</td>\n",
       "      <td>0.000</td>\n",
       "      <td>0.0</td>\n",
       "      <td>1.5</td>\n",
       "      <td>0.000</td>\n",
       "      <td>0.8</td>\n",
       "      <td>1.3</td>\n",
       "      <td>0.600</td>\n",
       "      <td>0.0</td>\n",
       "      <td>1.5</td>\n",
       "      <td>1.5</td>\n",
       "      <td>0.5</td>\n",
       "      <td>0.3</td>\n",
       "      <td>0.0</td>\n",
       "      <td>0.5</td>\n",
       "      <td>0.8</td>\n",
       "      <td>0.3</td>\n",
       "    </tr>\n",
       "    <tr>\n",
       "      <th>4130</th>\n",
       "      <td>2022-23</td>\n",
       "      <td>Playoffs</td>\n",
       "      <td>1629651</td>\n",
       "      <td>64</td>\n",
       "      <td>Nic Claxton</td>\n",
       "      <td>1610612751</td>\n",
       "      <td>BKN</td>\n",
       "      <td>4</td>\n",
       "      <td>29.3</td>\n",
       "      <td>4.5</td>\n",
       "      <td>6.3</td>\n",
       "      <td>0.720</td>\n",
       "      <td>0.0</td>\n",
       "      <td>0.0</td>\n",
       "      <td>0.000</td>\n",
       "      <td>1.5</td>\n",
       "      <td>2.5</td>\n",
       "      <td>0.600</td>\n",
       "      <td>1.3</td>\n",
       "      <td>6.8</td>\n",
       "      <td>8.0</td>\n",
       "      <td>1.5</td>\n",
       "      <td>0.3</td>\n",
       "      <td>1.8</td>\n",
       "      <td>0.8</td>\n",
       "      <td>10.5</td>\n",
       "      <td>18.5</td>\n",
       "    </tr>\n",
       "    <tr>\n",
       "      <th>3386</th>\n",
       "      <td>2020-21</td>\n",
       "      <td>Playoffs</td>\n",
       "      <td>201577</td>\n",
       "      <td>89</td>\n",
       "      <td>Robin Lopez</td>\n",
       "      <td>1610612764</td>\n",
       "      <td>WAS</td>\n",
       "      <td>5</td>\n",
       "      <td>14.6</td>\n",
       "      <td>3.6</td>\n",
       "      <td>5.0</td>\n",
       "      <td>0.720</td>\n",
       "      <td>0.0</td>\n",
       "      <td>0.0</td>\n",
       "      <td>0.000</td>\n",
       "      <td>0.2</td>\n",
       "      <td>0.8</td>\n",
       "      <td>0.250</td>\n",
       "      <td>0.8</td>\n",
       "      <td>1.0</td>\n",
       "      <td>1.8</td>\n",
       "      <td>0.0</td>\n",
       "      <td>0.0</td>\n",
       "      <td>0.8</td>\n",
       "      <td>0.2</td>\n",
       "      <td>7.4</td>\n",
       "      <td>7.8</td>\n",
       "    </tr>\n",
       "    <tr>\n",
       "      <th>3018</th>\n",
       "      <td>2019-20</td>\n",
       "      <td>Playoffs</td>\n",
       "      <td>1629134</td>\n",
       "      <td>105</td>\n",
       "      <td>Kendrick Nunn</td>\n",
       "      <td>1610612748</td>\n",
       "      <td>MIA</td>\n",
       "      <td>15</td>\n",
       "      <td>15.9</td>\n",
       "      <td>2.4</td>\n",
       "      <td>6.1</td>\n",
       "      <td>0.391</td>\n",
       "      <td>0.8</td>\n",
       "      <td>2.9</td>\n",
       "      <td>0.279</td>\n",
       "      <td>0.5</td>\n",
       "      <td>0.5</td>\n",
       "      <td>1.000</td>\n",
       "      <td>0.2</td>\n",
       "      <td>1.9</td>\n",
       "      <td>2.1</td>\n",
       "      <td>1.3</td>\n",
       "      <td>0.2</td>\n",
       "      <td>0.2</td>\n",
       "      <td>0.8</td>\n",
       "      <td>6.1</td>\n",
       "      <td>5.5</td>\n",
       "    </tr>\n",
       "    <tr>\n",
       "      <th>3655</th>\n",
       "      <td>2021-22</td>\n",
       "      <td>Regular%20Season</td>\n",
       "      <td>1629604</td>\n",
       "      <td>211</td>\n",
       "      <td>CJ Elleby</td>\n",
       "      <td>1610612757</td>\n",
       "      <td>POR</td>\n",
       "      <td>58</td>\n",
       "      <td>20.2</td>\n",
       "      <td>2.1</td>\n",
       "      <td>5.3</td>\n",
       "      <td>0.393</td>\n",
       "      <td>0.6</td>\n",
       "      <td>2.2</td>\n",
       "      <td>0.294</td>\n",
       "      <td>1.0</td>\n",
       "      <td>1.4</td>\n",
       "      <td>0.714</td>\n",
       "      <td>1.1</td>\n",
       "      <td>2.8</td>\n",
       "      <td>3.9</td>\n",
       "      <td>1.5</td>\n",
       "      <td>0.6</td>\n",
       "      <td>0.3</td>\n",
       "      <td>1.0</td>\n",
       "      <td>5.8</td>\n",
       "      <td>7.6</td>\n",
       "    </tr>\n",
       "    <tr>\n",
       "      <th>3471</th>\n",
       "      <td>2021-22</td>\n",
       "      <td>Regular%20Season</td>\n",
       "      <td>1629628</td>\n",
       "      <td>27</td>\n",
       "      <td>RJ Barrett</td>\n",
       "      <td>1610612752</td>\n",
       "      <td>NYK</td>\n",
       "      <td>70</td>\n",
       "      <td>34.5</td>\n",
       "      <td>7.0</td>\n",
       "      <td>17.1</td>\n",
       "      <td>0.408</td>\n",
       "      <td>2.0</td>\n",
       "      <td>5.8</td>\n",
       "      <td>0.342</td>\n",
       "      <td>4.1</td>\n",
       "      <td>5.8</td>\n",
       "      <td>0.714</td>\n",
       "      <td>0.9</td>\n",
       "      <td>4.9</td>\n",
       "      <td>5.8</td>\n",
       "      <td>3.0</td>\n",
       "      <td>0.6</td>\n",
       "      <td>0.2</td>\n",
       "      <td>2.2</td>\n",
       "      <td>20.0</td>\n",
       "      <td>15.8</td>\n",
       "    </tr>\n",
       "    <tr>\n",
       "      <th>4062</th>\n",
       "      <td>2022-23</td>\n",
       "      <td>Regular%20Season</td>\n",
       "      <td>1630540</td>\n",
       "      <td>242</td>\n",
       "      <td>Miles McBride</td>\n",
       "      <td>1610612752</td>\n",
       "      <td>NYK</td>\n",
       "      <td>64</td>\n",
       "      <td>11.9</td>\n",
       "      <td>1.2</td>\n",
       "      <td>3.4</td>\n",
       "      <td>0.358</td>\n",
       "      <td>0.6</td>\n",
       "      <td>2.1</td>\n",
       "      <td>0.299</td>\n",
       "      <td>0.4</td>\n",
       "      <td>0.7</td>\n",
       "      <td>0.667</td>\n",
       "      <td>0.2</td>\n",
       "      <td>0.6</td>\n",
       "      <td>0.8</td>\n",
       "      <td>1.1</td>\n",
       "      <td>0.6</td>\n",
       "      <td>0.1</td>\n",
       "      <td>0.4</td>\n",
       "      <td>3.5</td>\n",
       "      <td>3.3</td>\n",
       "    </tr>\n",
       "    <tr>\n",
       "      <th>1819</th>\n",
       "      <td>2016-17</td>\n",
       "      <td>Regular%20Season</td>\n",
       "      <td>1626169</td>\n",
       "      <td>258</td>\n",
       "      <td>Stanley Johnson</td>\n",
       "      <td>1610612765</td>\n",
       "      <td>DET</td>\n",
       "      <td>77</td>\n",
       "      <td>17.8</td>\n",
       "      <td>1.7</td>\n",
       "      <td>4.7</td>\n",
       "      <td>0.353</td>\n",
       "      <td>0.6</td>\n",
       "      <td>2.0</td>\n",
       "      <td>0.292</td>\n",
       "      <td>0.5</td>\n",
       "      <td>0.7</td>\n",
       "      <td>0.679</td>\n",
       "      <td>0.5</td>\n",
       "      <td>2.0</td>\n",
       "      <td>2.5</td>\n",
       "      <td>1.4</td>\n",
       "      <td>0.7</td>\n",
       "      <td>0.3</td>\n",
       "      <td>0.9</td>\n",
       "      <td>4.4</td>\n",
       "      <td>5.1</td>\n",
       "    </tr>\n",
       "    <tr>\n",
       "      <th>3484</th>\n",
       "      <td>2021-22</td>\n",
       "      <td>Regular%20Season</td>\n",
       "      <td>1630178</td>\n",
       "      <td>40</td>\n",
       "      <td>Tyrese Maxey</td>\n",
       "      <td>1610612755</td>\n",
       "      <td>PHI</td>\n",
       "      <td>75</td>\n",
       "      <td>35.3</td>\n",
       "      <td>6.4</td>\n",
       "      <td>13.3</td>\n",
       "      <td>0.485</td>\n",
       "      <td>1.8</td>\n",
       "      <td>4.1</td>\n",
       "      <td>0.427</td>\n",
       "      <td>2.8</td>\n",
       "      <td>3.3</td>\n",
       "      <td>0.866</td>\n",
       "      <td>0.3</td>\n",
       "      <td>2.9</td>\n",
       "      <td>3.2</td>\n",
       "      <td>4.3</td>\n",
       "      <td>0.7</td>\n",
       "      <td>0.4</td>\n",
       "      <td>1.2</td>\n",
       "      <td>17.5</td>\n",
       "      <td>17.7</td>\n",
       "    </tr>\n",
       "  </tbody>\n",
       "</table>\n",
       "</div>"
      ],
      "text/plain": [
       "         Year       Season_type  PLAYER_ID  RANK                 PLAYER  \\\n",
       "497   2013-14  Regular%20Season     203507   189  Giannis Antetokounmpo   \n",
       "3059  2019-20          Playoffs    1627788   146         Furkan Korkmaz   \n",
       "4130  2022-23          Playoffs    1629651    64            Nic Claxton   \n",
       "3386  2020-21          Playoffs     201577    89            Robin Lopez   \n",
       "3018  2019-20          Playoffs    1629134   105          Kendrick Nunn   \n",
       "3655  2021-22  Regular%20Season    1629604   211              CJ Elleby   \n",
       "3471  2021-22  Regular%20Season    1629628    27             RJ Barrett   \n",
       "4062  2022-23  Regular%20Season    1630540   242          Miles McBride   \n",
       "1819  2016-17  Regular%20Season    1626169   258        Stanley Johnson   \n",
       "3484  2021-22  Regular%20Season    1630178    40           Tyrese Maxey   \n",
       "\n",
       "         TEAM_ID TEAM  GP   MIN  FGM   FGA  FG_PCT  FG3M  FG3A  FG3_PCT  FTM  \\\n",
       "497   1610612749  MIL  77  24.6  2.2   5.4   0.414   0.5   1.5    0.347  1.8   \n",
       "3059  1610612755  PHI   4  10.0  0.0   1.8   0.000   0.0   1.5    0.000  0.8   \n",
       "4130  1610612751  BKN   4  29.3  4.5   6.3   0.720   0.0   0.0    0.000  1.5   \n",
       "3386  1610612764  WAS   5  14.6  3.6   5.0   0.720   0.0   0.0    0.000  0.2   \n",
       "3018  1610612748  MIA  15  15.9  2.4   6.1   0.391   0.8   2.9    0.279  0.5   \n",
       "3655  1610612757  POR  58  20.2  2.1   5.3   0.393   0.6   2.2    0.294  1.0   \n",
       "3471  1610612752  NYK  70  34.5  7.0  17.1   0.408   2.0   5.8    0.342  4.1   \n",
       "4062  1610612752  NYK  64  11.9  1.2   3.4   0.358   0.6   2.1    0.299  0.4   \n",
       "1819  1610612765  DET  77  17.8  1.7   4.7   0.353   0.6   2.0    0.292  0.5   \n",
       "3484  1610612755  PHI  75  35.3  6.4  13.3   0.485   1.8   4.1    0.427  2.8   \n",
       "\n",
       "      FTA  FT_PCT  OREB  DREB  REB  AST  STL  BLK  TOV   PTS   EFF  \n",
       "497   2.6   0.683   1.0   3.4  4.4  1.9  0.8  0.8  1.6   6.8   9.1  \n",
       "3059  1.3   0.600   0.0   1.5  1.5  0.5  0.3  0.0  0.5   0.8   0.3  \n",
       "4130  2.5   0.600   1.3   6.8  8.0  1.5  0.3  1.8  0.8  10.5  18.5  \n",
       "3386  0.8   0.250   0.8   1.0  1.8  0.0  0.0  0.8  0.2   7.4   7.8  \n",
       "3018  0.5   1.000   0.2   1.9  2.1  1.3  0.2  0.2  0.8   6.1   5.5  \n",
       "3655  1.4   0.714   1.1   2.8  3.9  1.5  0.6  0.3  1.0   5.8   7.6  \n",
       "3471  5.8   0.714   0.9   4.9  5.8  3.0  0.6  0.2  2.2  20.0  15.8  \n",
       "4062  0.7   0.667   0.2   0.6  0.8  1.1  0.6  0.1  0.4   3.5   3.3  \n",
       "1819  0.7   0.679   0.5   2.0  2.5  1.4  0.7  0.3  0.9   4.4   5.1  \n",
       "3484  3.3   0.866   0.3   2.9  3.2  4.3  0.7  0.4  1.2  17.5  17.7  "
      ]
     },
     "execution_count": 2,
     "metadata": {},
     "output_type": "execute_result"
    }
   ],
   "source": [
    "data.sample(10)"
   ]
  },
  {
   "cell_type": "code",
   "execution_count": 3,
   "id": "a53dd94b",
   "metadata": {},
   "outputs": [
    {
     "data": {
      "text/plain": [
       "(4210, 27)"
      ]
     },
     "execution_count": 3,
     "metadata": {},
     "output_type": "execute_result"
    }
   ],
   "source": [
    "data.shape"
   ]
  },
  {
   "cell_type": "markdown",
   "id": "6f09f858",
   "metadata": {},
   "source": [
    "# Data cleaning & analysis preparation"
   ]
  },
  {
   "cell_type": "code",
   "execution_count": 14,
   "id": "04a939bc",
   "metadata": {},
   "outputs": [
    {
     "ename": "KeyError",
     "evalue": "\"['RANK', 'EFF'] not found in axis\"",
     "output_type": "error",
     "traceback": [
      "\u001b[0;31m---------------------------------------------------------------------------\u001b[0m",
      "\u001b[0;31mKeyError\u001b[0m                                  Traceback (most recent call last)",
      "Cell \u001b[0;32mIn[14], line 1\u001b[0m\n\u001b[0;32m----> 1\u001b[0m data\u001b[38;5;241m.\u001b[39mdrop(columns\u001b[38;5;241m=\u001b[39m[\u001b[38;5;124m'\u001b[39m\u001b[38;5;124mRANK\u001b[39m\u001b[38;5;124m'\u001b[39m,\u001b[38;5;124m'\u001b[39m\u001b[38;5;124mEFF\u001b[39m\u001b[38;5;124m'\u001b[39m], inplace\u001b[38;5;241m=\u001b[39m\u001b[38;5;28;01mTrue\u001b[39;00m)\n",
      "File \u001b[0;32m~/anaconda3/lib/python3.11/site-packages/pandas/core/frame.py:5258\u001b[0m, in \u001b[0;36mDataFrame.drop\u001b[0;34m(self, labels, axis, index, columns, level, inplace, errors)\u001b[0m\n\u001b[1;32m   5110\u001b[0m \u001b[38;5;28;01mdef\u001b[39;00m \u001b[38;5;21mdrop\u001b[39m(\n\u001b[1;32m   5111\u001b[0m     \u001b[38;5;28mself\u001b[39m,\n\u001b[1;32m   5112\u001b[0m     labels: IndexLabel \u001b[38;5;241m=\u001b[39m \u001b[38;5;28;01mNone\u001b[39;00m,\n\u001b[0;32m   (...)\u001b[0m\n\u001b[1;32m   5119\u001b[0m     errors: IgnoreRaise \u001b[38;5;241m=\u001b[39m \u001b[38;5;124m\"\u001b[39m\u001b[38;5;124mraise\u001b[39m\u001b[38;5;124m\"\u001b[39m,\n\u001b[1;32m   5120\u001b[0m ) \u001b[38;5;241m-\u001b[39m\u001b[38;5;241m>\u001b[39m DataFrame \u001b[38;5;241m|\u001b[39m \u001b[38;5;28;01mNone\u001b[39;00m:\n\u001b[1;32m   5121\u001b[0m \u001b[38;5;250m    \u001b[39m\u001b[38;5;124;03m\"\"\"\u001b[39;00m\n\u001b[1;32m   5122\u001b[0m \u001b[38;5;124;03m    Drop specified labels from rows or columns.\u001b[39;00m\n\u001b[1;32m   5123\u001b[0m \n\u001b[0;32m   (...)\u001b[0m\n\u001b[1;32m   5256\u001b[0m \u001b[38;5;124;03m            weight  1.0     0.8\u001b[39;00m\n\u001b[1;32m   5257\u001b[0m \u001b[38;5;124;03m    \"\"\"\u001b[39;00m\n\u001b[0;32m-> 5258\u001b[0m     \u001b[38;5;28;01mreturn\u001b[39;00m \u001b[38;5;28msuper\u001b[39m()\u001b[38;5;241m.\u001b[39mdrop(\n\u001b[1;32m   5259\u001b[0m         labels\u001b[38;5;241m=\u001b[39mlabels,\n\u001b[1;32m   5260\u001b[0m         axis\u001b[38;5;241m=\u001b[39maxis,\n\u001b[1;32m   5261\u001b[0m         index\u001b[38;5;241m=\u001b[39mindex,\n\u001b[1;32m   5262\u001b[0m         columns\u001b[38;5;241m=\u001b[39mcolumns,\n\u001b[1;32m   5263\u001b[0m         level\u001b[38;5;241m=\u001b[39mlevel,\n\u001b[1;32m   5264\u001b[0m         inplace\u001b[38;5;241m=\u001b[39minplace,\n\u001b[1;32m   5265\u001b[0m         errors\u001b[38;5;241m=\u001b[39merrors,\n\u001b[1;32m   5266\u001b[0m     )\n",
      "File \u001b[0;32m~/anaconda3/lib/python3.11/site-packages/pandas/core/generic.py:4549\u001b[0m, in \u001b[0;36mNDFrame.drop\u001b[0;34m(self, labels, axis, index, columns, level, inplace, errors)\u001b[0m\n\u001b[1;32m   4547\u001b[0m \u001b[38;5;28;01mfor\u001b[39;00m axis, labels \u001b[38;5;129;01min\u001b[39;00m axes\u001b[38;5;241m.\u001b[39mitems():\n\u001b[1;32m   4548\u001b[0m     \u001b[38;5;28;01mif\u001b[39;00m labels \u001b[38;5;129;01mis\u001b[39;00m \u001b[38;5;129;01mnot\u001b[39;00m \u001b[38;5;28;01mNone\u001b[39;00m:\n\u001b[0;32m-> 4549\u001b[0m         obj \u001b[38;5;241m=\u001b[39m obj\u001b[38;5;241m.\u001b[39m_drop_axis(labels, axis, level\u001b[38;5;241m=\u001b[39mlevel, errors\u001b[38;5;241m=\u001b[39merrors)\n\u001b[1;32m   4551\u001b[0m \u001b[38;5;28;01mif\u001b[39;00m inplace:\n\u001b[1;32m   4552\u001b[0m     \u001b[38;5;28mself\u001b[39m\u001b[38;5;241m.\u001b[39m_update_inplace(obj)\n",
      "File \u001b[0;32m~/anaconda3/lib/python3.11/site-packages/pandas/core/generic.py:4591\u001b[0m, in \u001b[0;36mNDFrame._drop_axis\u001b[0;34m(self, labels, axis, level, errors, only_slice)\u001b[0m\n\u001b[1;32m   4589\u001b[0m         new_axis \u001b[38;5;241m=\u001b[39m axis\u001b[38;5;241m.\u001b[39mdrop(labels, level\u001b[38;5;241m=\u001b[39mlevel, errors\u001b[38;5;241m=\u001b[39merrors)\n\u001b[1;32m   4590\u001b[0m     \u001b[38;5;28;01melse\u001b[39;00m:\n\u001b[0;32m-> 4591\u001b[0m         new_axis \u001b[38;5;241m=\u001b[39m axis\u001b[38;5;241m.\u001b[39mdrop(labels, errors\u001b[38;5;241m=\u001b[39merrors)\n\u001b[1;32m   4592\u001b[0m     indexer \u001b[38;5;241m=\u001b[39m axis\u001b[38;5;241m.\u001b[39mget_indexer(new_axis)\n\u001b[1;32m   4594\u001b[0m \u001b[38;5;66;03m# Case for non-unique axis\u001b[39;00m\n\u001b[1;32m   4595\u001b[0m \u001b[38;5;28;01melse\u001b[39;00m:\n",
      "File \u001b[0;32m~/anaconda3/lib/python3.11/site-packages/pandas/core/indexes/base.py:6699\u001b[0m, in \u001b[0;36mIndex.drop\u001b[0;34m(self, labels, errors)\u001b[0m\n\u001b[1;32m   6697\u001b[0m \u001b[38;5;28;01mif\u001b[39;00m mask\u001b[38;5;241m.\u001b[39many():\n\u001b[1;32m   6698\u001b[0m     \u001b[38;5;28;01mif\u001b[39;00m errors \u001b[38;5;241m!=\u001b[39m \u001b[38;5;124m\"\u001b[39m\u001b[38;5;124mignore\u001b[39m\u001b[38;5;124m\"\u001b[39m:\n\u001b[0;32m-> 6699\u001b[0m         \u001b[38;5;28;01mraise\u001b[39;00m \u001b[38;5;167;01mKeyError\u001b[39;00m(\u001b[38;5;124mf\u001b[39m\u001b[38;5;124m\"\u001b[39m\u001b[38;5;132;01m{\u001b[39;00m\u001b[38;5;28mlist\u001b[39m(labels[mask])\u001b[38;5;132;01m}\u001b[39;00m\u001b[38;5;124m not found in axis\u001b[39m\u001b[38;5;124m\"\u001b[39m)\n\u001b[1;32m   6700\u001b[0m     indexer \u001b[38;5;241m=\u001b[39m indexer[\u001b[38;5;241m~\u001b[39mmask]\n\u001b[1;32m   6701\u001b[0m \u001b[38;5;28;01mreturn\u001b[39;00m \u001b[38;5;28mself\u001b[39m\u001b[38;5;241m.\u001b[39mdelete(indexer)\n",
      "\u001b[0;31mKeyError\u001b[0m: \"['RANK', 'EFF'] not found in axis\""
     ]
    }
   ],
   "source": [
    "data.drop(columns=['RANK','EFF'], inplace=True)"
   ]
  },
  {
   "cell_type": "code",
   "execution_count": 17,
   "id": "5de169e2",
   "metadata": {},
   "outputs": [],
   "source": [
    "data['season_start_year'] = data['Year'].str[:4].astype(int)"
   ]
  },
  {
   "cell_type": "code",
   "execution_count": 18,
   "id": "5b4579ce",
   "metadata": {},
   "outputs": [],
   "source": [
    "data['TEAM'].replace(to_replace=['NOP','NOH'], value='NO', inplace=True)"
   ]
  },
  {
   "cell_type": "code",
   "execution_count": 19,
   "id": "1136b323",
   "metadata": {},
   "outputs": [],
   "source": [
    "data['Season_type'].replace('Regular%20Season','RS', inplace=True)"
   ]
  },
  {
   "cell_type": "code",
   "execution_count": 20,
   "id": "428887ab",
   "metadata": {},
   "outputs": [],
   "source": [
    "rs_df = data[data['Season_type']=='RS']\n",
    "playoffs_df = data[data['Season_type']=='Playoffs']"
   ]
  },
  {
   "cell_type": "code",
   "execution_count": 21,
   "id": "0226839d",
   "metadata": {},
   "outputs": [
    {
     "data": {
      "text/plain": [
       "Index(['Year', 'Season_type', 'PLAYER_ID', 'PLAYER', 'TEAM_ID', 'TEAM', 'GP',\n",
       "       'MIN', 'FGM', 'FGA', 'FG_PCT', 'FG3M', 'FG3A', 'FG3_PCT', 'FTM', 'FTA',\n",
       "       'FT_PCT', 'OREB', 'DREB', 'REB', 'AST', 'STL', 'BLK', 'TOV', 'PTS',\n",
       "       'season_start_year'],\n",
       "      dtype='object')"
      ]
     },
     "execution_count": 21,
     "metadata": {},
     "output_type": "execute_result"
    }
   ],
   "source": [
    "data.columns"
   ]
  },
  {
   "cell_type": "code",
   "execution_count": 22,
   "id": "6b4c3542",
   "metadata": {},
   "outputs": [],
   "source": [
    "total_cols = ['MIN','FGM','FGA','FG3M','FG3A','FTM','FTA',\n",
    "              'OREB','DREB','REB','AST','STL','BLK','TOV','PTS']"
   ]
  },
  {
   "cell_type": "markdown",
   "id": "7478985d",
   "metadata": {},
   "source": [
    "# Which player stats are correlated with each other?"
   ]
  },
  {
   "cell_type": "code",
   "execution_count": 23,
   "id": "2067a846",
   "metadata": {},
   "outputs": [
    {
     "ename": "ValueError",
     "evalue": "could not convert string to float: 'Aaron Gordon'",
     "output_type": "error",
     "traceback": [
      "\u001b[0;31m---------------------------------------------------------------------------\u001b[0m",
      "\u001b[0;31mValueError\u001b[0m                                Traceback (most recent call last)",
      "Cell \u001b[0;32mIn[23], line 17\u001b[0m\n\u001b[1;32m     14\u001b[0m data_per_min \u001b[38;5;241m=\u001b[39m data_per_min[data_per_min[\u001b[38;5;124m'\u001b[39m\u001b[38;5;124mMIN\u001b[39m\u001b[38;5;124m'\u001b[39m]\u001b[38;5;241m>\u001b[39m\u001b[38;5;241m=\u001b[39m\u001b[38;5;241m50\u001b[39m]\n\u001b[1;32m     15\u001b[0m data_per_min\u001b[38;5;241m.\u001b[39mdrop(columns\u001b[38;5;241m=\u001b[39m\u001b[38;5;124m'\u001b[39m\u001b[38;5;124mPLAYER_ID\u001b[39m\u001b[38;5;124m'\u001b[39m, inplace\u001b[38;5;241m=\u001b[39m\u001b[38;5;28;01mTrue\u001b[39;00m)\n\u001b[0;32m---> 17\u001b[0m fig \u001b[38;5;241m=\u001b[39m px\u001b[38;5;241m.\u001b[39mimshow(data_per_min\u001b[38;5;241m.\u001b[39mcorr())\n\u001b[1;32m     18\u001b[0m fig\u001b[38;5;241m.\u001b[39mshow()\n",
      "File \u001b[0;32m~/anaconda3/lib/python3.11/site-packages/pandas/core/frame.py:10054\u001b[0m, in \u001b[0;36mDataFrame.corr\u001b[0;34m(self, method, min_periods, numeric_only)\u001b[0m\n\u001b[1;32m  10052\u001b[0m cols \u001b[38;5;241m=\u001b[39m data\u001b[38;5;241m.\u001b[39mcolumns\n\u001b[1;32m  10053\u001b[0m idx \u001b[38;5;241m=\u001b[39m cols\u001b[38;5;241m.\u001b[39mcopy()\n\u001b[0;32m> 10054\u001b[0m mat \u001b[38;5;241m=\u001b[39m data\u001b[38;5;241m.\u001b[39mto_numpy(dtype\u001b[38;5;241m=\u001b[39m\u001b[38;5;28mfloat\u001b[39m, na_value\u001b[38;5;241m=\u001b[39mnp\u001b[38;5;241m.\u001b[39mnan, copy\u001b[38;5;241m=\u001b[39m\u001b[38;5;28;01mFalse\u001b[39;00m)\n\u001b[1;32m  10056\u001b[0m \u001b[38;5;28;01mif\u001b[39;00m method \u001b[38;5;241m==\u001b[39m \u001b[38;5;124m\"\u001b[39m\u001b[38;5;124mpearson\u001b[39m\u001b[38;5;124m\"\u001b[39m:\n\u001b[1;32m  10057\u001b[0m     correl \u001b[38;5;241m=\u001b[39m libalgos\u001b[38;5;241m.\u001b[39mnancorr(mat, minp\u001b[38;5;241m=\u001b[39mmin_periods)\n",
      "File \u001b[0;32m~/anaconda3/lib/python3.11/site-packages/pandas/core/frame.py:1838\u001b[0m, in \u001b[0;36mDataFrame.to_numpy\u001b[0;34m(self, dtype, copy, na_value)\u001b[0m\n\u001b[1;32m   1836\u001b[0m \u001b[38;5;28;01mif\u001b[39;00m dtype \u001b[38;5;129;01mis\u001b[39;00m \u001b[38;5;129;01mnot\u001b[39;00m \u001b[38;5;28;01mNone\u001b[39;00m:\n\u001b[1;32m   1837\u001b[0m     dtype \u001b[38;5;241m=\u001b[39m np\u001b[38;5;241m.\u001b[39mdtype(dtype)\n\u001b[0;32m-> 1838\u001b[0m result \u001b[38;5;241m=\u001b[39m \u001b[38;5;28mself\u001b[39m\u001b[38;5;241m.\u001b[39m_mgr\u001b[38;5;241m.\u001b[39mas_array(dtype\u001b[38;5;241m=\u001b[39mdtype, copy\u001b[38;5;241m=\u001b[39mcopy, na_value\u001b[38;5;241m=\u001b[39mna_value)\n\u001b[1;32m   1839\u001b[0m \u001b[38;5;28;01mif\u001b[39;00m result\u001b[38;5;241m.\u001b[39mdtype \u001b[38;5;129;01mis\u001b[39;00m \u001b[38;5;129;01mnot\u001b[39;00m dtype:\n\u001b[1;32m   1840\u001b[0m     result \u001b[38;5;241m=\u001b[39m np\u001b[38;5;241m.\u001b[39marray(result, dtype\u001b[38;5;241m=\u001b[39mdtype, copy\u001b[38;5;241m=\u001b[39m\u001b[38;5;28;01mFalse\u001b[39;00m)\n",
      "File \u001b[0;32m~/anaconda3/lib/python3.11/site-packages/pandas/core/internals/managers.py:1732\u001b[0m, in \u001b[0;36mBlockManager.as_array\u001b[0;34m(self, dtype, copy, na_value)\u001b[0m\n\u001b[1;32m   1730\u001b[0m         arr\u001b[38;5;241m.\u001b[39mflags\u001b[38;5;241m.\u001b[39mwriteable \u001b[38;5;241m=\u001b[39m \u001b[38;5;28;01mFalse\u001b[39;00m\n\u001b[1;32m   1731\u001b[0m \u001b[38;5;28;01melse\u001b[39;00m:\n\u001b[0;32m-> 1732\u001b[0m     arr \u001b[38;5;241m=\u001b[39m \u001b[38;5;28mself\u001b[39m\u001b[38;5;241m.\u001b[39m_interleave(dtype\u001b[38;5;241m=\u001b[39mdtype, na_value\u001b[38;5;241m=\u001b[39mna_value)\n\u001b[1;32m   1733\u001b[0m     \u001b[38;5;66;03m# The underlying data was copied within _interleave, so no need\u001b[39;00m\n\u001b[1;32m   1734\u001b[0m     \u001b[38;5;66;03m# to further copy if copy=True or setting na_value\u001b[39;00m\n\u001b[1;32m   1736\u001b[0m \u001b[38;5;28;01mif\u001b[39;00m na_value \u001b[38;5;129;01mis\u001b[39;00m \u001b[38;5;129;01mnot\u001b[39;00m lib\u001b[38;5;241m.\u001b[39mno_default:\n",
      "File \u001b[0;32m~/anaconda3/lib/python3.11/site-packages/pandas/core/internals/managers.py:1794\u001b[0m, in \u001b[0;36mBlockManager._interleave\u001b[0;34m(self, dtype, na_value)\u001b[0m\n\u001b[1;32m   1792\u001b[0m     \u001b[38;5;28;01melse\u001b[39;00m:\n\u001b[1;32m   1793\u001b[0m         arr \u001b[38;5;241m=\u001b[39m blk\u001b[38;5;241m.\u001b[39mget_values(dtype)\n\u001b[0;32m-> 1794\u001b[0m     result[rl\u001b[38;5;241m.\u001b[39mindexer] \u001b[38;5;241m=\u001b[39m arr\n\u001b[1;32m   1795\u001b[0m     itemmask[rl\u001b[38;5;241m.\u001b[39mindexer] \u001b[38;5;241m=\u001b[39m \u001b[38;5;241m1\u001b[39m\n\u001b[1;32m   1797\u001b[0m \u001b[38;5;28;01mif\u001b[39;00m \u001b[38;5;129;01mnot\u001b[39;00m itemmask\u001b[38;5;241m.\u001b[39mall():\n",
      "\u001b[0;31mValueError\u001b[0m: could not convert string to float: 'Aaron Gordon'"
     ]
    }
   ],
   "source": [
    "data_per_min = data.groupby(['PLAYER','PLAYER_ID','Year'])[total_cols].sum().reset_index()\n",
    "for col in data_per_min.columns[4:]:\n",
    "    data_per_min[col] = data_per_min[col]/data_per_min['MIN']\n",
    "\n",
    "data_per_min['FG%'] = data_per_min['FGM']/data_per_min['FGA']\n",
    "data_per_min['3PT%'] = data_per_min['FG3M']/data_per_min['FG3A']\n",
    "data_per_min['FT%'] = data_per_min['FTM']/data_per_min['FTA']\n",
    "data_per_min['FG3A%'] = data_per_min['FG3A']/data_per_min['FGA']\n",
    "data_per_min['FG3M/FGM'] = data_per_min['FG3M']/data_per_min['FGM']\n",
    "data_per_min['FTA/FGA'] = data_per_min['FTA']/data_per_min['FGA']\n",
    "data_per_min['TRU%'] = 0.5*data_per_min['PTS']/(data_per_min['FGA']+0.475*data_per_min['FTA'])\n",
    "data_per_min['AST_TOV'] = data_per_min['AST']/data_per_min['TOV']\n",
    "\n",
    "data_per_min = data_per_min[data_per_min['MIN']>=50]\n",
    "data_per_min.drop(columns='PLAYER_ID', inplace=True)\n",
    "\n",
    "fig = px.imshow(data_per_min.corr())\n",
    "fig.show()"
   ]
  },
  {
   "cell_type": "markdown",
   "id": "75f0b356",
   "metadata": {},
   "source": [
    "# How are minutes played distributed?"
   ]
  },
  {
   "cell_type": "code",
   "execution_count": 37,
   "id": "ea5fc69c",
   "metadata": {},
   "outputs": [
    {
     "data": {
      "application/vnd.plotly.v1+json": {
       "config": {
        "plotlyServerURL": "https://plot.ly"
       },
       "data": [
        {
         "alignmentgroup": "True",
         "bingroup": "x",
         "histnorm": "percent",
         "hovertemplate": "x=%{x}<br>percent=%{y}<extra></extra>",
         "legendgroup": "",
         "marker": {
          "color": "#636efa",
          "pattern": {
           "shape": ""
          }
         },
         "name": "",
         "offsetgroup": "",
         "orientation": "v",
         "showlegend": false,
         "type": "histogram",
         "x": [
          44.1,
          40.1,
          40.5,
          41.7,
          41.4,
          37.3,
          37.6,
          39.3,
          41.7,
          36.4,
          43,
          41.1,
          42.5,
          39.7,
          35,
          40.5,
          36.9,
          40.6,
          35.5,
          31.5,
          33.2,
          38.3,
          36.5,
          36.3,
          35.9,
          33.7,
          38.4,
          36.3,
          35.5,
          41.3,
          38.7,
          38.1,
          31.9,
          38,
          37.8,
          25.7,
          29.4,
          36.5,
          33.5,
          36.9,
          35.5,
          40.8,
          33.3,
          26.3,
          33.3,
          35.3,
          34.7,
          22.8,
          32.7,
          34.7,
          31.5,
          34.2,
          20.5,
          27,
          33.3,
          26.7,
          29.3,
          37.5,
          31.9,
          27.1,
          24.3,
          26.8,
          34.1,
          28.3,
          27.3,
          26.3,
          19.7,
          28.1,
          24.9,
          29.5,
          35.4,
          28.3,
          28.1,
          21.3,
          23.8,
          23.7,
          23,
          22.7,
          34,
          19.8,
          17.3,
          27.3,
          18.7,
          30.3,
          18.6,
          31.8,
          34,
          16.2,
          17.2,
          15.2,
          19.2,
          19.9,
          20.4,
          18,
          18.6,
          21.1,
          27.3,
          29.2,
          16.6,
          11.2,
          17.8,
          16.2,
          16.2,
          16.8,
          17.8,
          29.9,
          20.9,
          11.9,
          12.7,
          13.4,
          11.3,
          11.7,
          9.5,
          24,
          20.5,
          16.7,
          9.6,
          19.1,
          13.5,
          11.2,
          8.1,
          8.3,
          8.3,
          5.7,
          20.6,
          2.8,
          42.9,
          38.2,
          43.8,
          38.7,
          40.1,
          38.5,
          40.3,
          36.8,
          42.3,
          42.4,
          41.1,
          39.1,
          38.7,
          35.6,
          36.3,
          38.3,
          38.1,
          41.7,
          34.6,
          41.6,
          37.6,
          35.3,
          30.8,
          39,
          34.7,
          31.3,
          42.7,
          36.7,
          38.2,
          32.7,
          38.1,
          24.1,
          41.7,
          36.2,
          34.3,
          38.7,
          35.7,
          25.5,
          32,
          31,
          32.5,
          30.7,
          37,
          37.1,
          43.6,
          35.7,
          27,
          28.2,
          32.6,
          35.4,
          34.7,
          27.1,
          32.9,
          36.2,
          34.2,
          32.6,
          38.5,
          25.1,
          29.5,
          26,
          27.9,
          27.3,
          33.4,
          28.6,
          28.4,
          42,
          27.3,
          27.1,
          32,
          33.4,
          29.8,
          27.1,
          34,
          24.2,
          17.5,
          20.9,
          31.1,
          28.5,
          23,
          26.4,
          26.3,
          35.1,
          33.7,
          22.8,
          19.2,
          27.6,
          19,
          18.3,
          16.9,
          16.4,
          22.3,
          17,
          23,
          22.4,
          23.4,
          15.3,
          24.7,
          20.8,
          13.5,
          11.6,
          14.3,
          26.8,
          9.7,
          23.3,
          9.5,
          13.5,
          12,
          21.8,
          12.4,
          27.2,
          18,
          15,
          15.5,
          17.7,
          17.6,
          22.6,
          20.2,
          19.3,
          9.8,
          18.4,
          12.2,
          15.7,
          17.7,
          15.7,
          11,
          8.4,
          14.6,
          16.2,
          20.2,
          24.3,
          16.1,
          11.1,
          5.1,
          11.6,
          16,
          10.3,
          6.4,
          14.4,
          9,
          10.6,
          8.4,
          12.6,
          11.4,
          12.8,
          13.3,
          12.7,
          10.8,
          7.5,
          5.3,
          6.2,
          7.6,
          11.6,
          2.4,
          3.8,
          3.6,
          9.2,
          0.9,
          2.7,
          3.8,
          43,
          42.2,
          39.3,
          37.4,
          39.4,
          39.8,
          41.8,
          42.2,
          37.1,
          41.6,
          40.2,
          36.2,
          37.8,
          35.7,
          39.8,
          39,
          37.8,
          36.2,
          35.8,
          35.7,
          29.8,
          33.2,
          33.1,
          41.5,
          33.8,
          38.7,
          34.7,
          35.4,
          38.6,
          29.8,
          34.9,
          32.6,
          31.7,
          30.4,
          41.8,
          37.3,
          23.3,
          33.4,
          38.5,
          34.4,
          31.1,
          25.5,
          27.1,
          30.7,
          25.5,
          33.3,
          20,
          32.8,
          31.8,
          32,
          30.8,
          28.3,
          28,
          33.5,
          26.5,
          25.2,
          30,
          37.6,
          23.7,
          32.4,
          30,
          25,
          23.8,
          32.4,
          26.5,
          29.5,
          31.7,
          30.2,
          34.3,
          26.5,
          32,
          23.6,
          16,
          33.1,
          31.3,
          22.5,
          36.4,
          16.6,
          28.6,
          34.8,
          18.1,
          26,
          27.1,
          25.5,
          26.5,
          23.7,
          22.5,
          17.9,
          29.1,
          18.7,
          25.7,
          15,
          21.2,
          29.2,
          17.5,
          25.3,
          21.8,
          23,
          31,
          24.9,
          26.8,
          17.8,
          18.3,
          21.5,
          27.9,
          20,
          18.3,
          17.8,
          8.6,
          18.5,
          32.9,
          14.9,
          18.9,
          18.8,
          23.4,
          21.5,
          17.9,
          10.9,
          23.2,
          11,
          13.3,
          15.6,
          13.3,
          12.7,
          12.8,
          9.2,
          17.6,
          11.5,
          7.5,
          12.6,
          17.2,
          10.3,
          17,
          3.3,
          12.6,
          8.2,
          19.8,
          8.6,
          4.7,
          12,
          5,
          5.1,
          1.6,
          40.3,
          39.3,
          38.6,
          39.7,
          39.1,
          37.4,
          36.9,
          34.1,
          35.4,
          36.7,
          37.1,
          33.9,
          33.7,
          33.8,
          37.3,
          40.2,
          34,
          38.3,
          36,
          33.2,
          32.8,
          36.5,
          33.7,
          38.2,
          40.3,
          34.4,
          30.7,
          33.8,
          27.9,
          39,
          36.8,
          33.6,
          27.7,
          32.7,
          24,
          35.4,
          36,
          35.7,
          23.8,
          34.6,
          30,
          27,
          35.1,
          29.1,
          32.2,
          33.4,
          32.5,
          19.1,
          33,
          32.1,
          34.8,
          28.8,
          22.8,
          24.7,
          34.8,
          16,
          26.4,
          24,
          31.6,
          28.1,
          26.5,
          30.7,
          27.5,
          32.8,
          17.9,
          19,
          27,
          31,
          32,
          29.8,
          19.6,
          26.7,
          36.7,
          22.3,
          22.6,
          19.6,
          27.3,
          21.4,
          24.6,
          20.3,
          24.2,
          28.3,
          29.2,
          23.5,
          27.1,
          24.8,
          27.8,
          25.4,
          21.3,
          18,
          28.3,
          13.9,
          19.2,
          29.6,
          27.6,
          16.7,
          36.2,
          22.4,
          16.1,
          16.8,
          17.9,
          25,
          25.3,
          16,
          20.3,
          21.8,
          17.6,
          25.8,
          11,
          8.4,
          26.2,
          18.6,
          18.1,
          17.7,
          13.5,
          32.6,
          19.8,
          19,
          22.3,
          16.6,
          15.4,
          8.8,
          9.5,
          12.1,
          12.8,
          13.4,
          11.4,
          19.8,
          10.6,
          13.1,
          9.2,
          17.5,
          7.4,
          12.8,
          5.4,
          11,
          11.9,
          12.9,
          10.6,
          5,
          8.5,
          9.7,
          15.6,
          8.6,
          8.7,
          10.8,
          5.5,
          3.3,
          8.5,
          8.2,
          10.8,
          3.6,
          3,
          5.2,
          38.8,
          41.3,
          35.5,
          37,
          35.4,
          43,
          37.8,
          35.8,
          39,
          36.3,
          37.1,
          38.8,
          40.5,
          35.2,
          37.3,
          36.5,
          37.4,
          34.7,
          39.8,
          35,
          37.3,
          40,
          35.5,
          32.1,
          35.8,
          33.6,
          26.8,
          37.5,
          35.1,
          37.7,
          33.9,
          31.7,
          35.1,
          38.5,
          30.7,
          33.1,
          23.5,
          31.8,
          34.9,
          32.5,
          29.6,
          33.3,
          27,
          28,
          24.7,
          32.9,
          28.7,
          28.3,
          35,
          25.2,
          37,
          27.3,
          22.6,
          31.2,
          29.5,
          36.2,
          33.3,
          37.5,
          26,
          20.4,
          26,
          31,
          17.9,
          30.8,
          25,
          23.6,
          30.5,
          22.2,
          19.2,
          32.5,
          29.4,
          30.5,
          25.2,
          20.3,
          27,
          29.9,
          26.5,
          31.2,
          31.5,
          27.1,
          26.2,
          31.4,
          21.2,
          27.3,
          22.8,
          26.5,
          32,
          20.5,
          14.8,
          19.7,
          22.7,
          20.5,
          14.8,
          24.8,
          26.2,
          13.7,
          11.8,
          20.2,
          17.8,
          14,
          19.8,
          30.3,
          17.2,
          9.3,
          15.3,
          18.1,
          19.3,
          18.5,
          16.3,
          18.1,
          13,
          23,
          19,
          15.7,
          14.1,
          13.2,
          10.3,
          12.6,
          25.1,
          16,
          9,
          25,
          13,
          16.2,
          14.6,
          12.5,
          15.5,
          16.3,
          12.1,
          15,
          12.8,
          12.1,
          17.7,
          8.1,
          18.5,
          10.4,
          13.7,
          14.4,
          13.7,
          13.5,
          10.6,
          10.2,
          8.6,
          10.1,
          6.7,
          11.3,
          8,
          8.8,
          4.3,
          11.3,
          6.3,
          3.6,
          10.3,
          3.7,
          38.5,
          39.1,
          40.8,
          38.5,
          40.6,
          34.3,
          39.7,
          39.7,
          39.4,
          35.9,
          29.3,
          38.6,
          36.7,
          36.3,
          28.8,
          39,
          30.4,
          34.9,
          33.5,
          35.1,
          29.6,
          37.1,
          26.3,
          37,
          37.3,
          27,
          36.1,
          34.3,
          36.9,
          33.6,
          21,
          32.8,
          32.8,
          27.3,
          37.5,
          33.3,
          33.5,
          26.2,
          31.8,
          36.9,
          35.1,
          34.4,
          30.4,
          30.2,
          28.2,
          28.2,
          28.8,
          31.3,
          38.6,
          15.5,
          29.2,
          28.2,
          35,
          29.3,
          20.6,
          31.8,
          35.2,
          26.3,
          26,
          28.8,
          38.7,
          29.2,
          29.4,
          30.4,
          25.4,
          23.5,
          22,
          30.3,
          27.4,
          32.5,
          23.3,
          32.5,
          30,
          31.5,
          30.1,
          29.7,
          21.3,
          30.6,
          20.8,
          23.4,
          29.8,
          24,
          24.3,
          20.1,
          24.7,
          27.5,
          32.8,
          29,
          21.1,
          21.3,
          21.5,
          24.9,
          25.3,
          20.5,
          29.8,
          28.5,
          17.2,
          18.1,
          23.8,
          27.4,
          18.4,
          23.6,
          15.9,
          18,
          30.2,
          17,
          21.6,
          20.3,
          18.7,
          9.5,
          20.4,
          19.3,
          17.3,
          16,
          21.7,
          18.4,
          25.6,
          12,
          12,
          5,
          15.6,
          11,
          12,
          11.4,
          14.7,
          14.6,
          9,
          11.8,
          13.6,
          9.2,
          8.8,
          14.3,
          15.8,
          10.7,
          20.5,
          9.4,
          15.3,
          8.3,
          3.8,
          7.5,
          10.5,
          11.4,
          7.6,
          12.8,
          9.7,
          3.6,
          6,
          4.3,
          7.9,
          15.8,
          10.5,
          2.6,
          3.5,
          3.3,
          2.4,
          37.7,
          35.8,
          36.3,
          37.3,
          39.3,
          37,
          36.6,
          36.3,
          30.8,
          39.6,
          40.6,
          36.5,
          35.8,
          39.2,
          38.4,
          39.5,
          40,
          37.3,
          35.5,
          35,
          36.8,
          39,
          33,
          36.9,
          39.1,
          32.5,
          34,
          36.2,
          30.8,
          37.5,
          34.2,
          32.4,
          38,
          38.6,
          36,
          28.6,
          27,
          39.9,
          32.8,
          33.7,
          32.8,
          36.5,
          37.3,
          35.2,
          30.3,
          22.8,
          31.5,
          38.1,
          32.2,
          23.3,
          24.8,
          25.6,
          28.8,
          34.2,
          26.2,
          29.2,
          26,
          34.3,
          31.4,
          29.4,
          29.8,
          28.6,
          29.7,
          34.4,
          28.4,
          31,
          23.7,
          31.6,
          29,
          23.8,
          18.7,
          35.7,
          33,
          31.8,
          30,
          23,
          30.6,
          26.8,
          33.4,
          24.6,
          21.4,
          28.4,
          24.7,
          16.3,
          24.2,
          25,
          34.5,
          18,
          15.2,
          27.1,
          28.8,
          32.8,
          24.6,
          32,
          23.8,
          13.7,
          21.2,
          20.5,
          33.8,
          16.5,
          18,
          24.3,
          9.3,
          11.9,
          15.9,
          17.1,
          20.7,
          18.4,
          15.7,
          16.3,
          35.6,
          17.9,
          14.5,
          13.3,
          18.7,
          12.5,
          16.1,
          14.2,
          17.8,
          17.6,
          13,
          13.6,
          19.8,
          15.2,
          11.8,
          9,
          17.1,
          19.5,
          11.5,
          8.4,
          13.9,
          10,
          13.5,
          10.9,
          6.7,
          9.2,
          9.3,
          13.7,
          18.8,
          9.4,
          5,
          8,
          6.5,
          12.3,
          5.7,
          10,
          2.1,
          40.1,
          41.3,
          40.4,
          34.6,
          37,
          40.6,
          38.1,
          39,
          34.5,
          37.7,
          32.5,
          40.4,
          40.8,
          35,
          40.1,
          37.3,
          36.1,
          36.5,
          40,
          35.8,
          35,
          34.2,
          37.2,
          31.8,
          35.5,
          36,
          36.6,
          32.7,
          27.1,
          28.8,
          33.2,
          39.7,
          36,
          37.4,
          29.3,
          36.4,
          34,
          33.4,
          33.2,
          34.6,
          34.2,
          38.5,
          32.4,
          32.7,
          33.2,
          25.6,
          32,
          28.6,
          27.4,
          28.8,
          33.3,
          29,
          24.6,
          23.8,
          31.8,
          33.5,
          23.4,
          36.7,
          36.2,
          29.9,
          32.1,
          31,
          33.1,
          26.4,
          38.7,
          25,
          23.3,
          27.8,
          31.6,
          38,
          19,
          27,
          26.5,
          23.3,
          30.5,
          21,
          26.5,
          27.3,
          18.3,
          32.4,
          14.8,
          28.4,
          21.1,
          29.2,
          16.3,
          23.1,
          15.4,
          19.9,
          14.6,
          16.3,
          23.7,
          22.2,
          13.7,
          17.8,
          12.1,
          23.2,
          13,
          22.4,
          21.5,
          13.1,
          17.7,
          14.3,
          16.6,
          29.2,
          20.2,
          15.4,
          19.8,
          14.6,
          18.3,
          19,
          26.7,
          18.3,
          17.6,
          27.6,
          19,
          13.4,
          24,
          12.4,
          17.1,
          12.4,
          18.4,
          10.1,
          29.6,
          17.2,
          8.4,
          12.1,
          17.8,
          11.4,
          11.4,
          13.4,
          13.2,
          15,
          11.7,
          9.4,
          7.4,
          9.2,
          10.8,
          10.5,
          4,
          11.2,
          7.2,
          4.7,
          10.4,
          4.4,
          8.3,
          2.5,
          5.1,
          37.3,
          36.8,
          34.2,
          37,
          34.7,
          37.6,
          39.3,
          44,
          41,
          38.3,
          37.8,
          38.5,
          36.6,
          38.3,
          43.3,
          39,
          37,
          34.9,
          42.5,
          35,
          40.6,
          40.4,
          36.2,
          38.3,
          38.6,
          36,
          35.7,
          39.9,
          35.7,
          30.5,
          34.5,
          28.3,
          36.2,
          27.5,
          38.8,
          34.9,
          36.2,
          27.7,
          37.4,
          33.2,
          34.1,
          30.5,
          29.2,
          33,
          26.8,
          27.8,
          34.8,
          31.2,
          32,
          34.4,
          38.5,
          25.4,
          24.7,
          35.4,
          32.7,
          32.8,
          30.6,
          38.2,
          21.7,
          32.3,
          29.1,
          24.6,
          37.7,
          11.4,
          24.5,
          24.8,
          27.7,
          39.3,
          19.8,
          24.5,
          22.4,
          27.8,
          26.5,
          24.4,
          29.5,
          21.7,
          17.4,
          30.8,
          21.7,
          29,
          21.8,
          25.4,
          27.3,
          26.6,
          25.4,
          19.8,
          19.6,
          25.4,
          27.4,
          32,
          23.5,
          19.5,
          28.3,
          23.2,
          16.8,
          11.1,
          28.3,
          18,
          16.6,
          31.3,
          28.8,
          18.4,
          13,
          13.8,
          20.4,
          12.2,
          17,
          21.5,
          19.5,
          21.6,
          8.6,
          20,
          13.2,
          16.5,
          10.8,
          12.9,
          12.3,
          15.4,
          18.7,
          16,
          21.6,
          13.2,
          10.7,
          17.2,
          15.2,
          10,
          13.8,
          11.8,
          22.6,
          9.9,
          15,
          11.7,
          14.5,
          13.8,
          6.8,
          10.5,
          15.2,
          9.3,
          9.3,
          11.5,
          7.8,
          10.8,
          7.6,
          14.4,
          5.5,
          7.6,
          3.3,
          6,
          41.7,
          39.8,
          37.9,
          39.5,
          38.3,
          42.4,
          40.3,
          38.6,
          40,
          39.7,
          40,
          37.4,
          38.7,
          34.6,
          37.3,
          38.4,
          38.5,
          39.3,
          41.4,
          38,
          37.6,
          38,
          33.4,
          37.8,
          38.5,
          38.8,
          34.3,
          36.4,
          29.3,
          36,
          38,
          36,
          36.7,
          37,
          38.2,
          36.2,
          34,
          37.3,
          33,
          39.8,
          34.7,
          35.6,
          34,
          35.4,
          34,
          31.9,
          29.7,
          32.7,
          26.2,
          29.6,
          35.7,
          30.5,
          30.2,
          24.3,
          26.6,
          36.6,
          22,
          24.9,
          29.8,
          27.3,
          28.1,
          33.6,
          26.6,
          27.8,
          29.3,
          32.1,
          21.8,
          29.8,
          37.6,
          27.7,
          21.4,
          30.6,
          38.2,
          28.1,
          26,
          26,
          26.1,
          18.2,
          21.9,
          30.5,
          16.4,
          26,
          29.6,
          25.2,
          19.3,
          18.2,
          24.9,
          20,
          20.9,
          22.2,
          26.1,
          21.4,
          20,
          15.9,
          18,
          15.9,
          17.8,
          30.9,
          16.9,
          16.8,
          25,
          27.1,
          16.6,
          15,
          25.3,
          13.8,
          18.6,
          21.8,
          13.4,
          18.1,
          26.9,
          17.7,
          29.5,
          26.7,
          18.4,
          14.3,
          16.5,
          20,
          18.4,
          14.3,
          9.3,
          17.2,
          17.5,
          12.7,
          6.1,
          9.8,
          8.9,
          13,
          12.4,
          20,
          7.7,
          11.5,
          12.8,
          8.3,
          11.1,
          6.9,
          10.3,
          10.3,
          11,
          12.3,
          9.8,
          10,
          2.5,
          1.2
         ],
         "xaxis": "x",
         "yaxis": "y"
        }
       ],
       "layout": {
        "barmode": "relative",
        "legend": {
         "tracegroupgap": 0
        },
        "margin": {
         "t": 60
        },
        "template": {
         "data": {
          "bar": [
           {
            "error_x": {
             "color": "#2a3f5f"
            },
            "error_y": {
             "color": "#2a3f5f"
            },
            "marker": {
             "line": {
              "color": "#E5ECF6",
              "width": 0.5
             },
             "pattern": {
              "fillmode": "overlay",
              "size": 10,
              "solidity": 0.2
             }
            },
            "type": "bar"
           }
          ],
          "barpolar": [
           {
            "marker": {
             "line": {
              "color": "#E5ECF6",
              "width": 0.5
             },
             "pattern": {
              "fillmode": "overlay",
              "size": 10,
              "solidity": 0.2
             }
            },
            "type": "barpolar"
           }
          ],
          "carpet": [
           {
            "aaxis": {
             "endlinecolor": "#2a3f5f",
             "gridcolor": "white",
             "linecolor": "white",
             "minorgridcolor": "white",
             "startlinecolor": "#2a3f5f"
            },
            "baxis": {
             "endlinecolor": "#2a3f5f",
             "gridcolor": "white",
             "linecolor": "white",
             "minorgridcolor": "white",
             "startlinecolor": "#2a3f5f"
            },
            "type": "carpet"
           }
          ],
          "choropleth": [
           {
            "colorbar": {
             "outlinewidth": 0,
             "ticks": ""
            },
            "type": "choropleth"
           }
          ],
          "contour": [
           {
            "colorbar": {
             "outlinewidth": 0,
             "ticks": ""
            },
            "colorscale": [
             [
              0,
              "#0d0887"
             ],
             [
              0.1111111111111111,
              "#46039f"
             ],
             [
              0.2222222222222222,
              "#7201a8"
             ],
             [
              0.3333333333333333,
              "#9c179e"
             ],
             [
              0.4444444444444444,
              "#bd3786"
             ],
             [
              0.5555555555555556,
              "#d8576b"
             ],
             [
              0.6666666666666666,
              "#ed7953"
             ],
             [
              0.7777777777777778,
              "#fb9f3a"
             ],
             [
              0.8888888888888888,
              "#fdca26"
             ],
             [
              1,
              "#f0f921"
             ]
            ],
            "type": "contour"
           }
          ],
          "contourcarpet": [
           {
            "colorbar": {
             "outlinewidth": 0,
             "ticks": ""
            },
            "type": "contourcarpet"
           }
          ],
          "heatmap": [
           {
            "colorbar": {
             "outlinewidth": 0,
             "ticks": ""
            },
            "colorscale": [
             [
              0,
              "#0d0887"
             ],
             [
              0.1111111111111111,
              "#46039f"
             ],
             [
              0.2222222222222222,
              "#7201a8"
             ],
             [
              0.3333333333333333,
              "#9c179e"
             ],
             [
              0.4444444444444444,
              "#bd3786"
             ],
             [
              0.5555555555555556,
              "#d8576b"
             ],
             [
              0.6666666666666666,
              "#ed7953"
             ],
             [
              0.7777777777777778,
              "#fb9f3a"
             ],
             [
              0.8888888888888888,
              "#fdca26"
             ],
             [
              1,
              "#f0f921"
             ]
            ],
            "type": "heatmap"
           }
          ],
          "heatmapgl": [
           {
            "colorbar": {
             "outlinewidth": 0,
             "ticks": ""
            },
            "colorscale": [
             [
              0,
              "#0d0887"
             ],
             [
              0.1111111111111111,
              "#46039f"
             ],
             [
              0.2222222222222222,
              "#7201a8"
             ],
             [
              0.3333333333333333,
              "#9c179e"
             ],
             [
              0.4444444444444444,
              "#bd3786"
             ],
             [
              0.5555555555555556,
              "#d8576b"
             ],
             [
              0.6666666666666666,
              "#ed7953"
             ],
             [
              0.7777777777777778,
              "#fb9f3a"
             ],
             [
              0.8888888888888888,
              "#fdca26"
             ],
             [
              1,
              "#f0f921"
             ]
            ],
            "type": "heatmapgl"
           }
          ],
          "histogram": [
           {
            "marker": {
             "pattern": {
              "fillmode": "overlay",
              "size": 10,
              "solidity": 0.2
             }
            },
            "type": "histogram"
           }
          ],
          "histogram2d": [
           {
            "colorbar": {
             "outlinewidth": 0,
             "ticks": ""
            },
            "colorscale": [
             [
              0,
              "#0d0887"
             ],
             [
              0.1111111111111111,
              "#46039f"
             ],
             [
              0.2222222222222222,
              "#7201a8"
             ],
             [
              0.3333333333333333,
              "#9c179e"
             ],
             [
              0.4444444444444444,
              "#bd3786"
             ],
             [
              0.5555555555555556,
              "#d8576b"
             ],
             [
              0.6666666666666666,
              "#ed7953"
             ],
             [
              0.7777777777777778,
              "#fb9f3a"
             ],
             [
              0.8888888888888888,
              "#fdca26"
             ],
             [
              1,
              "#f0f921"
             ]
            ],
            "type": "histogram2d"
           }
          ],
          "histogram2dcontour": [
           {
            "colorbar": {
             "outlinewidth": 0,
             "ticks": ""
            },
            "colorscale": [
             [
              0,
              "#0d0887"
             ],
             [
              0.1111111111111111,
              "#46039f"
             ],
             [
              0.2222222222222222,
              "#7201a8"
             ],
             [
              0.3333333333333333,
              "#9c179e"
             ],
             [
              0.4444444444444444,
              "#bd3786"
             ],
             [
              0.5555555555555556,
              "#d8576b"
             ],
             [
              0.6666666666666666,
              "#ed7953"
             ],
             [
              0.7777777777777778,
              "#fb9f3a"
             ],
             [
              0.8888888888888888,
              "#fdca26"
             ],
             [
              1,
              "#f0f921"
             ]
            ],
            "type": "histogram2dcontour"
           }
          ],
          "mesh3d": [
           {
            "colorbar": {
             "outlinewidth": 0,
             "ticks": ""
            },
            "type": "mesh3d"
           }
          ],
          "parcoords": [
           {
            "line": {
             "colorbar": {
              "outlinewidth": 0,
              "ticks": ""
             }
            },
            "type": "parcoords"
           }
          ],
          "pie": [
           {
            "automargin": true,
            "type": "pie"
           }
          ],
          "scatter": [
           {
            "fillpattern": {
             "fillmode": "overlay",
             "size": 10,
             "solidity": 0.2
            },
            "type": "scatter"
           }
          ],
          "scatter3d": [
           {
            "line": {
             "colorbar": {
              "outlinewidth": 0,
              "ticks": ""
             }
            },
            "marker": {
             "colorbar": {
              "outlinewidth": 0,
              "ticks": ""
             }
            },
            "type": "scatter3d"
           }
          ],
          "scattercarpet": [
           {
            "marker": {
             "colorbar": {
              "outlinewidth": 0,
              "ticks": ""
             }
            },
            "type": "scattercarpet"
           }
          ],
          "scattergeo": [
           {
            "marker": {
             "colorbar": {
              "outlinewidth": 0,
              "ticks": ""
             }
            },
            "type": "scattergeo"
           }
          ],
          "scattergl": [
           {
            "marker": {
             "colorbar": {
              "outlinewidth": 0,
              "ticks": ""
             }
            },
            "type": "scattergl"
           }
          ],
          "scattermapbox": [
           {
            "marker": {
             "colorbar": {
              "outlinewidth": 0,
              "ticks": ""
             }
            },
            "type": "scattermapbox"
           }
          ],
          "scatterpolar": [
           {
            "marker": {
             "colorbar": {
              "outlinewidth": 0,
              "ticks": ""
             }
            },
            "type": "scatterpolar"
           }
          ],
          "scatterpolargl": [
           {
            "marker": {
             "colorbar": {
              "outlinewidth": 0,
              "ticks": ""
             }
            },
            "type": "scatterpolargl"
           }
          ],
          "scatterternary": [
           {
            "marker": {
             "colorbar": {
              "outlinewidth": 0,
              "ticks": ""
             }
            },
            "type": "scatterternary"
           }
          ],
          "surface": [
           {
            "colorbar": {
             "outlinewidth": 0,
             "ticks": ""
            },
            "colorscale": [
             [
              0,
              "#0d0887"
             ],
             [
              0.1111111111111111,
              "#46039f"
             ],
             [
              0.2222222222222222,
              "#7201a8"
             ],
             [
              0.3333333333333333,
              "#9c179e"
             ],
             [
              0.4444444444444444,
              "#bd3786"
             ],
             [
              0.5555555555555556,
              "#d8576b"
             ],
             [
              0.6666666666666666,
              "#ed7953"
             ],
             [
              0.7777777777777778,
              "#fb9f3a"
             ],
             [
              0.8888888888888888,
              "#fdca26"
             ],
             [
              1,
              "#f0f921"
             ]
            ],
            "type": "surface"
           }
          ],
          "table": [
           {
            "cells": {
             "fill": {
              "color": "#EBF0F8"
             },
             "line": {
              "color": "white"
             }
            },
            "header": {
             "fill": {
              "color": "#C8D4E3"
             },
             "line": {
              "color": "white"
             }
            },
            "type": "table"
           }
          ]
         },
         "layout": {
          "annotationdefaults": {
           "arrowcolor": "#2a3f5f",
           "arrowhead": 0,
           "arrowwidth": 1
          },
          "autotypenumbers": "strict",
          "coloraxis": {
           "colorbar": {
            "outlinewidth": 0,
            "ticks": ""
           }
          },
          "colorscale": {
           "diverging": [
            [
             0,
             "#8e0152"
            ],
            [
             0.1,
             "#c51b7d"
            ],
            [
             0.2,
             "#de77ae"
            ],
            [
             0.3,
             "#f1b6da"
            ],
            [
             0.4,
             "#fde0ef"
            ],
            [
             0.5,
             "#f7f7f7"
            ],
            [
             0.6,
             "#e6f5d0"
            ],
            [
             0.7,
             "#b8e186"
            ],
            [
             0.8,
             "#7fbc41"
            ],
            [
             0.9,
             "#4d9221"
            ],
            [
             1,
             "#276419"
            ]
           ],
           "sequential": [
            [
             0,
             "#0d0887"
            ],
            [
             0.1111111111111111,
             "#46039f"
            ],
            [
             0.2222222222222222,
             "#7201a8"
            ],
            [
             0.3333333333333333,
             "#9c179e"
            ],
            [
             0.4444444444444444,
             "#bd3786"
            ],
            [
             0.5555555555555556,
             "#d8576b"
            ],
            [
             0.6666666666666666,
             "#ed7953"
            ],
            [
             0.7777777777777778,
             "#fb9f3a"
            ],
            [
             0.8888888888888888,
             "#fdca26"
            ],
            [
             1,
             "#f0f921"
            ]
           ],
           "sequentialminus": [
            [
             0,
             "#0d0887"
            ],
            [
             0.1111111111111111,
             "#46039f"
            ],
            [
             0.2222222222222222,
             "#7201a8"
            ],
            [
             0.3333333333333333,
             "#9c179e"
            ],
            [
             0.4444444444444444,
             "#bd3786"
            ],
            [
             0.5555555555555556,
             "#d8576b"
            ],
            [
             0.6666666666666666,
             "#ed7953"
            ],
            [
             0.7777777777777778,
             "#fb9f3a"
            ],
            [
             0.8888888888888888,
             "#fdca26"
            ],
            [
             1,
             "#f0f921"
            ]
           ]
          },
          "colorway": [
           "#636efa",
           "#EF553B",
           "#00cc96",
           "#ab63fa",
           "#FFA15A",
           "#19d3f3",
           "#FF6692",
           "#B6E880",
           "#FF97FF",
           "#FECB52"
          ],
          "font": {
           "color": "#2a3f5f"
          },
          "geo": {
           "bgcolor": "white",
           "lakecolor": "white",
           "landcolor": "#E5ECF6",
           "showlakes": true,
           "showland": true,
           "subunitcolor": "white"
          },
          "hoverlabel": {
           "align": "left"
          },
          "hovermode": "closest",
          "mapbox": {
           "style": "light"
          },
          "paper_bgcolor": "white",
          "plot_bgcolor": "#E5ECF6",
          "polar": {
           "angularaxis": {
            "gridcolor": "white",
            "linecolor": "white",
            "ticks": ""
           },
           "bgcolor": "#E5ECF6",
           "radialaxis": {
            "gridcolor": "white",
            "linecolor": "white",
            "ticks": ""
           }
          },
          "scene": {
           "xaxis": {
            "backgroundcolor": "#E5ECF6",
            "gridcolor": "white",
            "gridwidth": 2,
            "linecolor": "white",
            "showbackground": true,
            "ticks": "",
            "zerolinecolor": "white"
           },
           "yaxis": {
            "backgroundcolor": "#E5ECF6",
            "gridcolor": "white",
            "gridwidth": 2,
            "linecolor": "white",
            "showbackground": true,
            "ticks": "",
            "zerolinecolor": "white"
           },
           "zaxis": {
            "backgroundcolor": "#E5ECF6",
            "gridcolor": "white",
            "gridwidth": 2,
            "linecolor": "white",
            "showbackground": true,
            "ticks": "",
            "zerolinecolor": "white"
           }
          },
          "shapedefaults": {
           "line": {
            "color": "#2a3f5f"
           }
          },
          "ternary": {
           "aaxis": {
            "gridcolor": "white",
            "linecolor": "white",
            "ticks": ""
           },
           "baxis": {
            "gridcolor": "white",
            "linecolor": "white",
            "ticks": ""
           },
           "bgcolor": "#E5ECF6",
           "caxis": {
            "gridcolor": "white",
            "linecolor": "white",
            "ticks": ""
           }
          },
          "title": {
           "x": 0.05
          },
          "xaxis": {
           "automargin": true,
           "gridcolor": "white",
           "linecolor": "white",
           "ticks": "",
           "title": {
            "standoff": 15
           },
           "zerolinecolor": "white",
           "zerolinewidth": 2
          },
          "yaxis": {
           "automargin": true,
           "gridcolor": "white",
           "linecolor": "white",
           "ticks": "",
           "title": {
            "standoff": 15
           },
           "zerolinecolor": "white",
           "zerolinewidth": 2
          }
         }
        },
        "xaxis": {
         "anchor": "y",
         "domain": [
          0,
          1
         ],
         "title": {
          "text": "x"
         }
        },
        "yaxis": {
         "anchor": "x",
         "domain": [
          0,
          1
         ],
         "title": {
          "text": "percent"
         }
        }
       }
      },
      "text/html": [
       "<div>                            <div id=\"5a1e5e40-55ae-42f9-9db5-299137c9cc60\" class=\"plotly-graph-div\" style=\"height:525px; width:100%;\"></div>            <script type=\"text/javascript\">                require([\"plotly\"], function(Plotly) {                    window.PLOTLYENV=window.PLOTLYENV || {};                                    if (document.getElementById(\"5a1e5e40-55ae-42f9-9db5-299137c9cc60\")) {                    Plotly.newPlot(                        \"5a1e5e40-55ae-42f9-9db5-299137c9cc60\",                        [{\"alignmentgroup\":\"True\",\"bingroup\":\"x\",\"histnorm\":\"percent\",\"hovertemplate\":\"x=%{x}<br>percent=%{y}<extra></extra>\",\"legendgroup\":\"\",\"marker\":{\"color\":\"#636efa\",\"pattern\":{\"shape\":\"\"}},\"name\":\"\",\"offsetgroup\":\"\",\"orientation\":\"v\",\"showlegend\":false,\"x\":[44.1,40.1,40.5,41.7,41.4,37.3,37.6,39.3,41.7,36.4,43.0,41.1,42.5,39.7,35.0,40.5,36.9,40.6,35.5,31.5,33.2,38.3,36.5,36.3,35.9,33.7,38.4,36.3,35.5,41.3,38.7,38.1,31.9,38.0,37.8,25.7,29.4,36.5,33.5,36.9,35.5,40.8,33.3,26.3,33.3,35.3,34.7,22.8,32.7,34.7,31.5,34.2,20.5,27.0,33.3,26.7,29.3,37.5,31.9,27.1,24.3,26.8,34.1,28.3,27.3,26.3,19.7,28.1,24.9,29.5,35.4,28.3,28.1,21.3,23.8,23.7,23.0,22.7,34.0,19.8,17.3,27.3,18.7,30.3,18.6,31.8,34.0,16.2,17.2,15.2,19.2,19.9,20.4,18.0,18.6,21.1,27.3,29.2,16.6,11.2,17.8,16.2,16.2,16.8,17.8,29.9,20.9,11.9,12.7,13.4,11.3,11.7,9.5,24.0,20.5,16.7,9.6,19.1,13.5,11.2,8.1,8.3,8.3,5.7,20.6,2.8,42.9,38.2,43.8,38.7,40.1,38.5,40.3,36.8,42.3,42.4,41.1,39.1,38.7,35.6,36.3,38.3,38.1,41.7,34.6,41.6,37.6,35.3,30.8,39.0,34.7,31.3,42.7,36.7,38.2,32.7,38.1,24.1,41.7,36.2,34.3,38.7,35.7,25.5,32.0,31.0,32.5,30.7,37.0,37.1,43.6,35.7,27.0,28.2,32.6,35.4,34.7,27.1,32.9,36.2,34.2,32.6,38.5,25.1,29.5,26.0,27.9,27.3,33.4,28.6,28.4,42.0,27.3,27.1,32.0,33.4,29.8,27.1,34.0,24.2,17.5,20.9,31.1,28.5,23.0,26.4,26.3,35.1,33.7,22.8,19.2,27.6,19.0,18.3,16.9,16.4,22.3,17.0,23.0,22.4,23.4,15.3,24.7,20.8,13.5,11.6,14.3,26.8,9.7,23.3,9.5,13.5,12.0,21.8,12.4,27.2,18.0,15.0,15.5,17.7,17.6,22.6,20.2,19.3,9.8,18.4,12.2,15.7,17.7,15.7,11.0,8.4,14.6,16.2,20.2,24.3,16.1,11.1,5.1,11.6,16.0,10.3,6.4,14.4,9.0,10.6,8.4,12.6,11.4,12.8,13.3,12.7,10.8,7.5,5.3,6.2,7.6,11.6,2.4,3.8,3.6,9.2,0.9,2.7,3.8,43.0,42.2,39.3,37.4,39.4,39.8,41.8,42.2,37.1,41.6,40.2,36.2,37.8,35.7,39.8,39.0,37.8,36.2,35.8,35.7,29.8,33.2,33.1,41.5,33.8,38.7,34.7,35.4,38.6,29.8,34.9,32.6,31.7,30.4,41.8,37.3,23.3,33.4,38.5,34.4,31.1,25.5,27.1,30.7,25.5,33.3,20.0,32.8,31.8,32.0,30.8,28.3,28.0,33.5,26.5,25.2,30.0,37.6,23.7,32.4,30.0,25.0,23.8,32.4,26.5,29.5,31.7,30.2,34.3,26.5,32.0,23.6,16.0,33.1,31.3,22.5,36.4,16.6,28.6,34.8,18.1,26.0,27.1,25.5,26.5,23.7,22.5,17.9,29.1,18.7,25.7,15.0,21.2,29.2,17.5,25.3,21.8,23.0,31.0,24.9,26.8,17.8,18.3,21.5,27.9,20.0,18.3,17.8,8.6,18.5,32.9,14.9,18.9,18.8,23.4,21.5,17.9,10.9,23.2,11.0,13.3,15.6,13.3,12.7,12.8,9.2,17.6,11.5,7.5,12.6,17.2,10.3,17.0,3.3,12.6,8.2,19.8,8.6,4.7,12.0,5.0,5.1,1.6,40.3,39.3,38.6,39.7,39.1,37.4,36.9,34.1,35.4,36.7,37.1,33.9,33.7,33.8,37.3,40.2,34.0,38.3,36.0,33.2,32.8,36.5,33.7,38.2,40.3,34.4,30.7,33.8,27.9,39.0,36.8,33.6,27.7,32.7,24.0,35.4,36.0,35.7,23.8,34.6,30.0,27.0,35.1,29.1,32.2,33.4,32.5,19.1,33.0,32.1,34.8,28.8,22.8,24.7,34.8,16.0,26.4,24.0,31.6,28.1,26.5,30.7,27.5,32.8,17.9,19.0,27.0,31.0,32.0,29.8,19.6,26.7,36.7,22.3,22.6,19.6,27.3,21.4,24.6,20.3,24.2,28.3,29.2,23.5,27.1,24.8,27.8,25.4,21.3,18.0,28.3,13.9,19.2,29.6,27.6,16.7,36.2,22.4,16.1,16.8,17.9,25.0,25.3,16.0,20.3,21.8,17.6,25.8,11.0,8.4,26.2,18.6,18.1,17.7,13.5,32.6,19.8,19.0,22.3,16.6,15.4,8.8,9.5,12.1,12.8,13.4,11.4,19.8,10.6,13.1,9.2,17.5,7.4,12.8,5.4,11.0,11.9,12.9,10.6,5.0,8.5,9.7,15.6,8.6,8.7,10.8,5.5,3.3,8.5,8.2,10.8,3.6,3.0,5.2,38.8,41.3,35.5,37.0,35.4,43.0,37.8,35.8,39.0,36.3,37.1,38.8,40.5,35.2,37.3,36.5,37.4,34.7,39.8,35.0,37.3,40.0,35.5,32.1,35.8,33.6,26.8,37.5,35.1,37.7,33.9,31.7,35.1,38.5,30.7,33.1,23.5,31.8,34.9,32.5,29.6,33.3,27.0,28.0,24.7,32.9,28.7,28.3,35.0,25.2,37.0,27.3,22.6,31.2,29.5,36.2,33.3,37.5,26.0,20.4,26.0,31.0,17.9,30.8,25.0,23.6,30.5,22.2,19.2,32.5,29.4,30.5,25.2,20.3,27.0,29.9,26.5,31.2,31.5,27.1,26.2,31.4,21.2,27.3,22.8,26.5,32.0,20.5,14.8,19.7,22.7,20.5,14.8,24.8,26.2,13.7,11.8,20.2,17.8,14.0,19.8,30.3,17.2,9.3,15.3,18.1,19.3,18.5,16.3,18.1,13.0,23.0,19.0,15.7,14.1,13.2,10.3,12.6,25.1,16.0,9.0,25.0,13.0,16.2,14.6,12.5,15.5,16.3,12.1,15.0,12.8,12.1,17.7,8.1,18.5,10.4,13.7,14.4,13.7,13.5,10.6,10.2,8.6,10.1,6.7,11.3,8.0,8.8,4.3,11.3,6.3,3.6,10.3,3.7,38.5,39.1,40.8,38.5,40.6,34.3,39.7,39.7,39.4,35.9,29.3,38.6,36.7,36.3,28.8,39.0,30.4,34.9,33.5,35.1,29.6,37.1,26.3,37.0,37.3,27.0,36.1,34.3,36.9,33.6,21.0,32.8,32.8,27.3,37.5,33.3,33.5,26.2,31.8,36.9,35.1,34.4,30.4,30.2,28.2,28.2,28.8,31.3,38.6,15.5,29.2,28.2,35.0,29.3,20.6,31.8,35.2,26.3,26.0,28.8,38.7,29.2,29.4,30.4,25.4,23.5,22.0,30.3,27.4,32.5,23.3,32.5,30.0,31.5,30.1,29.7,21.3,30.6,20.8,23.4,29.8,24.0,24.3,20.1,24.7,27.5,32.8,29.0,21.1,21.3,21.5,24.9,25.3,20.5,29.8,28.5,17.2,18.1,23.8,27.4,18.4,23.6,15.9,18.0,30.2,17.0,21.6,20.3,18.7,9.5,20.4,19.3,17.3,16.0,21.7,18.4,25.6,12.0,12.0,5.0,15.6,11.0,12.0,11.4,14.7,14.6,9.0,11.8,13.6,9.2,8.8,14.3,15.8,10.7,20.5,9.4,15.3,8.3,3.8,7.5,10.5,11.4,7.6,12.8,9.7,3.6,6.0,4.3,7.9,15.8,10.5,2.6,3.5,3.3,2.4,37.7,35.8,36.3,37.3,39.3,37.0,36.6,36.3,30.8,39.6,40.6,36.5,35.8,39.2,38.4,39.5,40.0,37.3,35.5,35.0,36.8,39.0,33.0,36.9,39.1,32.5,34.0,36.2,30.8,37.5,34.2,32.4,38.0,38.6,36.0,28.6,27.0,39.9,32.8,33.7,32.8,36.5,37.3,35.2,30.3,22.8,31.5,38.1,32.2,23.3,24.8,25.6,28.8,34.2,26.2,29.2,26.0,34.3,31.4,29.4,29.8,28.6,29.7,34.4,28.4,31.0,23.7,31.6,29.0,23.8,18.7,35.7,33.0,31.8,30.0,23.0,30.6,26.8,33.4,24.6,21.4,28.4,24.7,16.3,24.2,25.0,34.5,18.0,15.2,27.1,28.8,32.8,24.6,32.0,23.8,13.7,21.2,20.5,33.8,16.5,18.0,24.3,9.3,11.9,15.9,17.1,20.7,18.4,15.7,16.3,35.6,17.9,14.5,13.3,18.7,12.5,16.1,14.2,17.8,17.6,13.0,13.6,19.8,15.2,11.8,9.0,17.1,19.5,11.5,8.4,13.9,10.0,13.5,10.9,6.7,9.2,9.3,13.7,18.8,9.4,5.0,8.0,6.5,12.3,5.7,10.0,2.1,40.1,41.3,40.4,34.6,37.0,40.6,38.1,39.0,34.5,37.7,32.5,40.4,40.8,35.0,40.1,37.3,36.1,36.5,40.0,35.8,35.0,34.2,37.2,31.8,35.5,36.0,36.6,32.7,27.1,28.8,33.2,39.7,36.0,37.4,29.3,36.4,34.0,33.4,33.2,34.6,34.2,38.5,32.4,32.7,33.2,25.6,32.0,28.6,27.4,28.8,33.3,29.0,24.6,23.8,31.8,33.5,23.4,36.7,36.2,29.9,32.1,31.0,33.1,26.4,38.7,25.0,23.3,27.8,31.6,38.0,19.0,27.0,26.5,23.3,30.5,21.0,26.5,27.3,18.3,32.4,14.8,28.4,21.1,29.2,16.3,23.1,15.4,19.9,14.6,16.3,23.7,22.2,13.7,17.8,12.1,23.2,13.0,22.4,21.5,13.1,17.7,14.3,16.6,29.2,20.2,15.4,19.8,14.6,18.3,19.0,26.7,18.3,17.6,27.6,19.0,13.4,24.0,12.4,17.1,12.4,18.4,10.1,29.6,17.2,8.4,12.1,17.8,11.4,11.4,13.4,13.2,15.0,11.7,9.4,7.4,9.2,10.8,10.5,4.0,11.2,7.2,4.7,10.4,4.4,8.3,2.5,5.1,37.3,36.8,34.2,37.0,34.7,37.6,39.3,44.0,41.0,38.3,37.8,38.5,36.6,38.3,43.3,39.0,37.0,34.9,42.5,35.0,40.6,40.4,36.2,38.3,38.6,36.0,35.7,39.9,35.7,30.5,34.5,28.3,36.2,27.5,38.8,34.9,36.2,27.7,37.4,33.2,34.1,30.5,29.2,33.0,26.8,27.8,34.8,31.2,32.0,34.4,38.5,25.4,24.7,35.4,32.7,32.8,30.6,38.2,21.7,32.3,29.1,24.6,37.7,11.4,24.5,24.8,27.7,39.3,19.8,24.5,22.4,27.8,26.5,24.4,29.5,21.7,17.4,30.8,21.7,29.0,21.8,25.4,27.3,26.6,25.4,19.8,19.6,25.4,27.4,32.0,23.5,19.5,28.3,23.2,16.8,11.1,28.3,18.0,16.6,31.3,28.8,18.4,13.0,13.8,20.4,12.2,17.0,21.5,19.5,21.6,8.6,20.0,13.2,16.5,10.8,12.9,12.3,15.4,18.7,16.0,21.6,13.2,10.7,17.2,15.2,10.0,13.8,11.8,22.6,9.9,15.0,11.7,14.5,13.8,6.8,10.5,15.2,9.3,9.3,11.5,7.8,10.8,7.6,14.4,5.5,7.6,3.3,6.0,41.7,39.8,37.9,39.5,38.3,42.4,40.3,38.6,40.0,39.7,40.0,37.4,38.7,34.6,37.3,38.4,38.5,39.3,41.4,38.0,37.6,38.0,33.4,37.8,38.5,38.8,34.3,36.4,29.3,36.0,38.0,36.0,36.7,37.0,38.2,36.2,34.0,37.3,33.0,39.8,34.7,35.6,34.0,35.4,34.0,31.9,29.7,32.7,26.2,29.6,35.7,30.5,30.2,24.3,26.6,36.6,22.0,24.9,29.8,27.3,28.1,33.6,26.6,27.8,29.3,32.1,21.8,29.8,37.6,27.7,21.4,30.6,38.2,28.1,26.0,26.0,26.1,18.2,21.9,30.5,16.4,26.0,29.6,25.2,19.3,18.2,24.9,20.0,20.9,22.2,26.1,21.4,20.0,15.9,18.0,15.9,17.8,30.9,16.9,16.8,25.0,27.1,16.6,15.0,25.3,13.8,18.6,21.8,13.4,18.1,26.9,17.7,29.5,26.7,18.4,14.3,16.5,20.0,18.4,14.3,9.3,17.2,17.5,12.7,6.1,9.8,8.9,13.0,12.4,20.0,7.7,11.5,12.8,8.3,11.1,6.9,10.3,10.3,11.0,12.3,9.8,10.0,2.5,1.2],\"xaxis\":\"x\",\"yaxis\":\"y\",\"type\":\"histogram\"}],                        {\"template\":{\"data\":{\"histogram2dcontour\":[{\"type\":\"histogram2dcontour\",\"colorbar\":{\"outlinewidth\":0,\"ticks\":\"\"},\"colorscale\":[[0.0,\"#0d0887\"],[0.1111111111111111,\"#46039f\"],[0.2222222222222222,\"#7201a8\"],[0.3333333333333333,\"#9c179e\"],[0.4444444444444444,\"#bd3786\"],[0.5555555555555556,\"#d8576b\"],[0.6666666666666666,\"#ed7953\"],[0.7777777777777778,\"#fb9f3a\"],[0.8888888888888888,\"#fdca26\"],[1.0,\"#f0f921\"]]}],\"choropleth\":[{\"type\":\"choropleth\",\"colorbar\":{\"outlinewidth\":0,\"ticks\":\"\"}}],\"histogram2d\":[{\"type\":\"histogram2d\",\"colorbar\":{\"outlinewidth\":0,\"ticks\":\"\"},\"colorscale\":[[0.0,\"#0d0887\"],[0.1111111111111111,\"#46039f\"],[0.2222222222222222,\"#7201a8\"],[0.3333333333333333,\"#9c179e\"],[0.4444444444444444,\"#bd3786\"],[0.5555555555555556,\"#d8576b\"],[0.6666666666666666,\"#ed7953\"],[0.7777777777777778,\"#fb9f3a\"],[0.8888888888888888,\"#fdca26\"],[1.0,\"#f0f921\"]]}],\"heatmap\":[{\"type\":\"heatmap\",\"colorbar\":{\"outlinewidth\":0,\"ticks\":\"\"},\"colorscale\":[[0.0,\"#0d0887\"],[0.1111111111111111,\"#46039f\"],[0.2222222222222222,\"#7201a8\"],[0.3333333333333333,\"#9c179e\"],[0.4444444444444444,\"#bd3786\"],[0.5555555555555556,\"#d8576b\"],[0.6666666666666666,\"#ed7953\"],[0.7777777777777778,\"#fb9f3a\"],[0.8888888888888888,\"#fdca26\"],[1.0,\"#f0f921\"]]}],\"heatmapgl\":[{\"type\":\"heatmapgl\",\"colorbar\":{\"outlinewidth\":0,\"ticks\":\"\"},\"colorscale\":[[0.0,\"#0d0887\"],[0.1111111111111111,\"#46039f\"],[0.2222222222222222,\"#7201a8\"],[0.3333333333333333,\"#9c179e\"],[0.4444444444444444,\"#bd3786\"],[0.5555555555555556,\"#d8576b\"],[0.6666666666666666,\"#ed7953\"],[0.7777777777777778,\"#fb9f3a\"],[0.8888888888888888,\"#fdca26\"],[1.0,\"#f0f921\"]]}],\"contourcarpet\":[{\"type\":\"contourcarpet\",\"colorbar\":{\"outlinewidth\":0,\"ticks\":\"\"}}],\"contour\":[{\"type\":\"contour\",\"colorbar\":{\"outlinewidth\":0,\"ticks\":\"\"},\"colorscale\":[[0.0,\"#0d0887\"],[0.1111111111111111,\"#46039f\"],[0.2222222222222222,\"#7201a8\"],[0.3333333333333333,\"#9c179e\"],[0.4444444444444444,\"#bd3786\"],[0.5555555555555556,\"#d8576b\"],[0.6666666666666666,\"#ed7953\"],[0.7777777777777778,\"#fb9f3a\"],[0.8888888888888888,\"#fdca26\"],[1.0,\"#f0f921\"]]}],\"surface\":[{\"type\":\"surface\",\"colorbar\":{\"outlinewidth\":0,\"ticks\":\"\"},\"colorscale\":[[0.0,\"#0d0887\"],[0.1111111111111111,\"#46039f\"],[0.2222222222222222,\"#7201a8\"],[0.3333333333333333,\"#9c179e\"],[0.4444444444444444,\"#bd3786\"],[0.5555555555555556,\"#d8576b\"],[0.6666666666666666,\"#ed7953\"],[0.7777777777777778,\"#fb9f3a\"],[0.8888888888888888,\"#fdca26\"],[1.0,\"#f0f921\"]]}],\"mesh3d\":[{\"type\":\"mesh3d\",\"colorbar\":{\"outlinewidth\":0,\"ticks\":\"\"}}],\"scatter\":[{\"fillpattern\":{\"fillmode\":\"overlay\",\"size\":10,\"solidity\":0.2},\"type\":\"scatter\"}],\"parcoords\":[{\"type\":\"parcoords\",\"line\":{\"colorbar\":{\"outlinewidth\":0,\"ticks\":\"\"}}}],\"scatterpolargl\":[{\"type\":\"scatterpolargl\",\"marker\":{\"colorbar\":{\"outlinewidth\":0,\"ticks\":\"\"}}}],\"bar\":[{\"error_x\":{\"color\":\"#2a3f5f\"},\"error_y\":{\"color\":\"#2a3f5f\"},\"marker\":{\"line\":{\"color\":\"#E5ECF6\",\"width\":0.5},\"pattern\":{\"fillmode\":\"overlay\",\"size\":10,\"solidity\":0.2}},\"type\":\"bar\"}],\"scattergeo\":[{\"type\":\"scattergeo\",\"marker\":{\"colorbar\":{\"outlinewidth\":0,\"ticks\":\"\"}}}],\"scatterpolar\":[{\"type\":\"scatterpolar\",\"marker\":{\"colorbar\":{\"outlinewidth\":0,\"ticks\":\"\"}}}],\"histogram\":[{\"marker\":{\"pattern\":{\"fillmode\":\"overlay\",\"size\":10,\"solidity\":0.2}},\"type\":\"histogram\"}],\"scattergl\":[{\"type\":\"scattergl\",\"marker\":{\"colorbar\":{\"outlinewidth\":0,\"ticks\":\"\"}}}],\"scatter3d\":[{\"type\":\"scatter3d\",\"line\":{\"colorbar\":{\"outlinewidth\":0,\"ticks\":\"\"}},\"marker\":{\"colorbar\":{\"outlinewidth\":0,\"ticks\":\"\"}}}],\"scattermapbox\":[{\"type\":\"scattermapbox\",\"marker\":{\"colorbar\":{\"outlinewidth\":0,\"ticks\":\"\"}}}],\"scatterternary\":[{\"type\":\"scatterternary\",\"marker\":{\"colorbar\":{\"outlinewidth\":0,\"ticks\":\"\"}}}],\"scattercarpet\":[{\"type\":\"scattercarpet\",\"marker\":{\"colorbar\":{\"outlinewidth\":0,\"ticks\":\"\"}}}],\"carpet\":[{\"aaxis\":{\"endlinecolor\":\"#2a3f5f\",\"gridcolor\":\"white\",\"linecolor\":\"white\",\"minorgridcolor\":\"white\",\"startlinecolor\":\"#2a3f5f\"},\"baxis\":{\"endlinecolor\":\"#2a3f5f\",\"gridcolor\":\"white\",\"linecolor\":\"white\",\"minorgridcolor\":\"white\",\"startlinecolor\":\"#2a3f5f\"},\"type\":\"carpet\"}],\"table\":[{\"cells\":{\"fill\":{\"color\":\"#EBF0F8\"},\"line\":{\"color\":\"white\"}},\"header\":{\"fill\":{\"color\":\"#C8D4E3\"},\"line\":{\"color\":\"white\"}},\"type\":\"table\"}],\"barpolar\":[{\"marker\":{\"line\":{\"color\":\"#E5ECF6\",\"width\":0.5},\"pattern\":{\"fillmode\":\"overlay\",\"size\":10,\"solidity\":0.2}},\"type\":\"barpolar\"}],\"pie\":[{\"automargin\":true,\"type\":\"pie\"}]},\"layout\":{\"autotypenumbers\":\"strict\",\"colorway\":[\"#636efa\",\"#EF553B\",\"#00cc96\",\"#ab63fa\",\"#FFA15A\",\"#19d3f3\",\"#FF6692\",\"#B6E880\",\"#FF97FF\",\"#FECB52\"],\"font\":{\"color\":\"#2a3f5f\"},\"hovermode\":\"closest\",\"hoverlabel\":{\"align\":\"left\"},\"paper_bgcolor\":\"white\",\"plot_bgcolor\":\"#E5ECF6\",\"polar\":{\"bgcolor\":\"#E5ECF6\",\"angularaxis\":{\"gridcolor\":\"white\",\"linecolor\":\"white\",\"ticks\":\"\"},\"radialaxis\":{\"gridcolor\":\"white\",\"linecolor\":\"white\",\"ticks\":\"\"}},\"ternary\":{\"bgcolor\":\"#E5ECF6\",\"aaxis\":{\"gridcolor\":\"white\",\"linecolor\":\"white\",\"ticks\":\"\"},\"baxis\":{\"gridcolor\":\"white\",\"linecolor\":\"white\",\"ticks\":\"\"},\"caxis\":{\"gridcolor\":\"white\",\"linecolor\":\"white\",\"ticks\":\"\"}},\"coloraxis\":{\"colorbar\":{\"outlinewidth\":0,\"ticks\":\"\"}},\"colorscale\":{\"sequential\":[[0.0,\"#0d0887\"],[0.1111111111111111,\"#46039f\"],[0.2222222222222222,\"#7201a8\"],[0.3333333333333333,\"#9c179e\"],[0.4444444444444444,\"#bd3786\"],[0.5555555555555556,\"#d8576b\"],[0.6666666666666666,\"#ed7953\"],[0.7777777777777778,\"#fb9f3a\"],[0.8888888888888888,\"#fdca26\"],[1.0,\"#f0f921\"]],\"sequentialminus\":[[0.0,\"#0d0887\"],[0.1111111111111111,\"#46039f\"],[0.2222222222222222,\"#7201a8\"],[0.3333333333333333,\"#9c179e\"],[0.4444444444444444,\"#bd3786\"],[0.5555555555555556,\"#d8576b\"],[0.6666666666666666,\"#ed7953\"],[0.7777777777777778,\"#fb9f3a\"],[0.8888888888888888,\"#fdca26\"],[1.0,\"#f0f921\"]],\"diverging\":[[0,\"#8e0152\"],[0.1,\"#c51b7d\"],[0.2,\"#de77ae\"],[0.3,\"#f1b6da\"],[0.4,\"#fde0ef\"],[0.5,\"#f7f7f7\"],[0.6,\"#e6f5d0\"],[0.7,\"#b8e186\"],[0.8,\"#7fbc41\"],[0.9,\"#4d9221\"],[1,\"#276419\"]]},\"xaxis\":{\"gridcolor\":\"white\",\"linecolor\":\"white\",\"ticks\":\"\",\"title\":{\"standoff\":15},\"zerolinecolor\":\"white\",\"automargin\":true,\"zerolinewidth\":2},\"yaxis\":{\"gridcolor\":\"white\",\"linecolor\":\"white\",\"ticks\":\"\",\"title\":{\"standoff\":15},\"zerolinecolor\":\"white\",\"automargin\":true,\"zerolinewidth\":2},\"scene\":{\"xaxis\":{\"backgroundcolor\":\"#E5ECF6\",\"gridcolor\":\"white\",\"linecolor\":\"white\",\"showbackground\":true,\"ticks\":\"\",\"zerolinecolor\":\"white\",\"gridwidth\":2},\"yaxis\":{\"backgroundcolor\":\"#E5ECF6\",\"gridcolor\":\"white\",\"linecolor\":\"white\",\"showbackground\":true,\"ticks\":\"\",\"zerolinecolor\":\"white\",\"gridwidth\":2},\"zaxis\":{\"backgroundcolor\":\"#E5ECF6\",\"gridcolor\":\"white\",\"linecolor\":\"white\",\"showbackground\":true,\"ticks\":\"\",\"zerolinecolor\":\"white\",\"gridwidth\":2}},\"shapedefaults\":{\"line\":{\"color\":\"#2a3f5f\"}},\"annotationdefaults\":{\"arrowcolor\":\"#2a3f5f\",\"arrowhead\":0,\"arrowwidth\":1},\"geo\":{\"bgcolor\":\"white\",\"landcolor\":\"#E5ECF6\",\"subunitcolor\":\"white\",\"showland\":true,\"showlakes\":true,\"lakecolor\":\"white\"},\"title\":{\"x\":0.05},\"mapbox\":{\"style\":\"light\"}}},\"xaxis\":{\"anchor\":\"y\",\"domain\":[0.0,1.0],\"title\":{\"text\":\"x\"}},\"yaxis\":{\"anchor\":\"x\",\"domain\":[0.0,1.0],\"title\":{\"text\":\"percent\"}},\"legend\":{\"tracegroupgap\":0},\"margin\":{\"t\":60},\"barmode\":\"relative\"},                        {\"responsive\": true}                    ).then(function(){\n",
       "                            \n",
       "var gd = document.getElementById('5a1e5e40-55ae-42f9-9db5-299137c9cc60');\n",
       "var x = new MutationObserver(function (mutations, observer) {{\n",
       "        var display = window.getComputedStyle(gd).display;\n",
       "        if (!display || display === 'none') {{\n",
       "            console.log([gd, 'removed!']);\n",
       "            Plotly.purge(gd);\n",
       "            observer.disconnect();\n",
       "        }}\n",
       "}});\n",
       "\n",
       "// Listen for the removal of the full notebook cells\n",
       "var notebookContainer = gd.closest('#notebook-container');\n",
       "if (notebookContainer) {{\n",
       "    x.observe(notebookContainer, {childList: true});\n",
       "}}\n",
       "\n",
       "// Listen for the clearing of the current output cell\n",
       "var outputEl = gd.closest('.output');\n",
       "if (outputEl) {{\n",
       "    x.observe(outputEl, {childList: true});\n",
       "}}\n",
       "\n",
       "                        })                };                });            </script>        </div>"
      ]
     },
     "metadata": {},
     "output_type": "display_data"
    }
   ],
   "source": [
    "fig = px.histogram(x=playoffs_df['MIN'], histnorm='percent')\n",
    "fig.show()"
   ]
  },
  {
   "cell_type": "code",
   "execution_count": 25,
   "id": "8a1bea44",
   "metadata": {},
   "outputs": [],
   "source": [
    " def hist_data(df=rs_df, min_MIN=0, min_GP=0):\n",
    "    return df.loc[(df['MIN']>=min_MIN) & (df['GP']>=min_GP), 'MIN']/\\\n",
    "    df.loc[(df['MIN']>=min_MIN) & (df['GP']>=min_GP), 'GP']"
   ]
  },
  {
   "cell_type": "code",
   "execution_count": 38,
   "id": "d8039342",
   "metadata": {},
   "outputs": [
    {
     "data": {
      "application/vnd.plotly.v1+json": {
       "config": {
        "plotlyServerURL": "https://plot.ly"
       },
       "data": [
        {
         "histnorm": "percent",
         "name": "RS",
         "opacity": 0.5,
         "type": "histogram",
         "x": [],
         "xbins": {
          "end": 46,
          "size": 1,
          "start": 0
         }
        },
        {
         "histnorm": "percent",
         "name": "Playoffs",
         "opacity": 0.5,
         "type": "histogram",
         "x": [
          4.009090909090909,
          3.341666666666667,
          6.75,
          1.8130434782608698,
          3.4499999999999997,
          6.216666666666666,
          5.371428571428572,
          6.55,
          5.957142857142857,
          1.7333333333333332,
          7.166666666666667,
          2.1631578947368424,
          7.083333333333333,
          6.616666666666667,
          1.6666666666666667,
          6.75,
          2.46,
          2.7066666666666666,
          2.9583333333333335,
          7.875,
          5.533333333333334,
          2.5533333333333332,
          1.9210526315789473,
          6.05,
          2.9916666666666667,
          2.8083333333333336,
          3.1999999999999997,
          1.9105263157894736,
          1.6136363636363635,
          3.4416666666666664,
          5.528571428571429,
          2.1166666666666667,
          2.9,
          9.5,
          3.15,
          4.283333333333333,
          2.6727272727272724,
          9.125,
          3.0454545454545454,
          1.7571428571428571,
          5.916666666666667,
          3.4,
          8.325,
          4.383333333333334,
          3.027272727272727,
          5.883333333333333,
          5.783333333333334,
          5.7,
          1.4217391304347828,
          4.957142857142857,
          5.25,
          5.7,
          1.7083333333333333,
          4.5,
          5.55,
          1.2714285714285714,
          7.325,
          6.25,
          1.519047619047619,
          2.2583333333333333,
          4.05,
          4.466666666666667,
          2.841666666666667,
          7.075,
          4.55,
          6.575,
          2.814285714285714,
          1.8733333333333335,
          1.0826086956521739,
          4.916666666666667,
          1.8631578947368421,
          1.2304347826086957,
          2.341666666666667,
          1.4200000000000002,
          1.5866666666666667,
          2.1545454545454543,
          3.2857142857142856,
          3.783333333333333,
          8.5,
          4.95,
          4.325,
          2.275,
          3.1166666666666667,
          2.02,
          0.8857142857142858,
          5.3,
          5.666666666666667,
          2.6999999999999997,
          1.4333333333333333,
          0.76,
          3.1999999999999997,
          0.9476190476190476,
          1.0736842105263158,
          3,
          1.55,
          1.7583333333333335,
          2.481818181818182,
          2.433333333333333,
          0.8736842105263158,
          1.8666666666666665,
          2.966666666666667,
          1.4727272727272727,
          0.7363636363636363,
          2.8000000000000003,
          0.8090909090909091,
          4.271428571428571,
          1.9,
          1.7,
          0.6684210526315789,
          0.67,
          1.8833333333333335,
          0.7799999999999999,
          0.7916666666666666,
          4,
          5.125,
          2.783333333333333,
          0.48,
          1.7363636363636366,
          3.375,
          0.9333333333333332,
          0.5785714285714285,
          0.46111111111111114,
          2.075,
          0.8142857142857143,
          1.7166666666666668,
          2.2578947368421054,
          1.9100000000000001,
          7.3,
          2.0368421052631582,
          3.6454545454545455,
          6.416666666666667,
          5.757142857142857,
          2.8307692307692305,
          6.042857142857143,
          3.8545454545454545,
          2.1631578947368424,
          3.2583333333333333,
          5.528571428571429,
          5.085714285714286,
          2.792307692307692,
          9.575,
          5.442857142857143,
          6.95,
          4.942857142857143,
          3.7818181818181817,
          5.371428571428572,
          11.766666666666666,
          6.16,
          6.5,
          1.735,
          1.3608695652173914,
          6.1000000000000005,
          5.242857142857143,
          3.472727272727273,
          1.4217391304347828,
          5.442857142857143,
          1.853846153846154,
          3.790909090909091,
          1.905263157894737,
          1.7149999999999999,
          3.5181818181818185,
          2.975,
          1.108695652173913,
          1.391304347826087,
          4.428571428571429,
          3.25,
          2.558333333333333,
          3.3636363636363638,
          1.9526315789473685,
          8.72,
          5.1000000000000005,
          2.076923076923077,
          5.64,
          6.5200000000000005,
          5.057142857142857,
          3.1545454545454548,
          3.8714285714285714,
          4.7,
          1.905263157894737,
          2.011764705882353,
          4.6571428571428575,
          9.625,
          3.585714285714286,
          4.916666666666667,
          6.5,
          1.4684210526315788,
          3.9,
          6.68,
          4.085714285714286,
          4.057142857142857,
          8.4,
          3.9,
          3.8714285714285714,
          4.571428571428571,
          3.036363636363636,
          7.45,
          2.2583333333333333,
          2.6153846153846154,
          4.84,
          4.375,
          2.9857142857142853,
          2.3923076923076922,
          1.5,
          1,
          1.3199999999999998,
          1.1434782608695653,
          5.014285714285714,
          5.616666666666667,
          5.7,
          1.4769230769230768,
          3.942857142857143,
          2.7142857142857144,
          1.5250000000000001,
          2.414285714285714,
          2.3428571428571425,
          3.185714285714286,
          4.25,
          3.8333333333333335,
          0.9739130434782608,
          2.925,
          0.6652173913043479,
          3.5285714285714285,
          1.7333333333333334,
          2.25,
          1.657142857142857,
          1.1916666666666667,
          1.34,
          1.3857142857142857,
          1.2944444444444445,
          1.5833333333333333,
          0.75,
          1.7142857142857142,
          1.8166666666666667,
          1.24,
          4.533333333333333,
          0.9473684210526315,
          2.5,
          0.6739130434782609,
          0.9833333333333333,
          0.9777777777777779,
          3.2285714285714286,
          1.01,
          2.757142857142857,
          0.890909090909091,
          1.0222222222222221,
          0.9384615384615385,
          0.8263157894736842,
          1.6090909090909091,
          1.0466666666666666,
          1.375,
          0.56,
          1.46,
          1.7999999999999998,
          1.063157894736842,
          3.4714285714285715,
          2.3000000000000003,
          1.009090909090909,
          0.3,
          1.657142857142857,
          5.333333333333333,
          0.7923076923076924,
          0.9142857142857144,
          1.44,
          2.25,
          0.6625,
          1.2,
          0.7875,
          1.1400000000000001,
          2.1333333333333333,
          3.325,
          0.6684210526315789,
          0.6352941176470589,
          1.25,
          1.325,
          0.2818181818181818,
          1.52,
          1.657142857142857,
          1.8399999999999999,
          10.75,
          2.1100000000000003,
          1.8714285714285712,
          2.1999999999999997,
          7.88,
          2.8428571428571425,
          4.18,
          3.516666666666667,
          3.091666666666667,
          8.32,
          8.040000000000001,
          7.24,
          3.15,
          5.1000000000000005,
          9.95,
          6.5,
          3.436363636363636,
          1.723809523809524,
          8.95,
          5.1000000000000005,
          7.45,
          6.640000000000001,
          2.06875,
          6.916666666666667,
          1.9882352941176469,
          6.45,
          3.1545454545454548,
          2.2125,
          2.757142857142857,
          2.98,
          2.18125,
          2.0375,
          3.17,
          3.8,
          8.36,
          1.776190476190476,
          1.3705882352941177,
          3.036363636363636,
          2.264705882352941,
          2.457142857142857,
          1.7277777777777779,
          6.375,
          1.9357142857142857,
          3.07,
          4.25,
          8.325,
          5,
          8.2,
          5.3,
          5.333333333333333,
          6.16,
          4.042857142857143,
          7,
          5.583333333333333,
          6.625,
          1.4823529411764707,
          6,
          2.685714285714286,
          3.9499999999999997,
          2.6999999999999997,
          4.285714285714286,
          6.25,
          5.95,
          1.5428571428571427,
          1.325,
          7.375,
          5.283333333333333,
          1.438095238095238,
          5.716666666666666,
          6.625,
          6.4,
          1.3882352941176472,
          2.2857142857142856,
          3.31,
          7.825,
          5.625,
          1.8199999999999998,
          2.3714285714285714,
          1.6823529411764706,
          1.7399999999999998,
          1.13125,
          4.333333333333333,
          2.463636363636364,
          4.25,
          6.625,
          3.9499999999999997,
          5.625,
          1.2785714285714285,
          4.1571428571428575,
          2.6714285714285713,
          2.57,
          3,
          4.24,
          2.085714285714286,
          1.75,
          6.325,
          2.18,
          1.9166666666666667,
          7.75,
          1.2449999999999999,
          6.7,
          1.78,
          3.0500000000000003,
          3.5833333333333335,
          2.79,
          3.3333333333333335,
          6.1000000000000005,
          1.6181818181818182,
          1.72,
          4.625,
          2.7416666666666667,
          1.3545454545454545,
          1.18125,
          4.7,
          4.68,
          5.375,
          0.8523809523809524,
          0.5190476190476191,
          1.2210526315789474,
          0.9166666666666666,
          3.325,
          0.78,
          0.8866666666666667,
          1.1545454545454545,
          3.2,
          0.45999999999999996,
          2.5142857142857147,
          1.0454545454545454,
          0.4411764705882353,
          1.26,
          1.011764705882353,
          0.7357142857142858,
          4.25,
          1.26,
          1.3666666666666665,
          4.95,
          1.72,
          3,
          0.45454545454545453,
          0.7285714285714285,
          2.238888888888889,
          5.614285714285714,
          7.720000000000001,
          3.6090909090909093,
          1.861904761904762,
          2.0777777777777775,
          1.7571428571428571,
          1.8944444444444446,
          1.4749999999999999,
          6.116666666666667,
          5.3,
          3.3899999999999997,
          3.37,
          2.414285714285714,
          1.8649999999999998,
          3.6545454545454548,
          6.8,
          1.9149999999999998,
          9,
          5.533333333333334,
          8.2,
          3.65,
          2.4071428571428575,
          1.6608695652173915,
          10.075,
          6.88,
          1.535,
          3.0727272727272723,
          2.79,
          9.75,
          9.2,
          4.8,
          4.616666666666666,
          3.2700000000000005,
          3.4285714285714284,
          2.5285714285714285,
          7.2,
          5.95,
          5.95,
          6.92,
          7.5,
          3.857142857142857,
          2.507142857142857,
          2.91,
          5.366666666666667,
          1.8555555555555554,
          3.25,
          1.9100000000000001,
          5.5,
          4.585714285714286,
          1.657142857142857,
          5.76,
          5.7,
          2.2454545454545456,
          8.7,
          3.2,
          2.6399999999999997,
          4,
          3.16,
          4.014285714285714,
          4.416666666666667,
          1.7055555555555555,
          2.5,
          5.466666666666666,
          0.9944444444444444,
          3.8,
          4.5,
          1.2916666666666667,
          1.3333333333333333,
          1.49,
          3.9200000000000004,
          2.67,
          5.242857142857143,
          3.716666666666667,
          1.1300000000000001,
          2.8000000000000003,
          1.5166666666666666,
          0.8916666666666666,
          3.5142857142857147,
          5.075,
          4.84,
          4.042857142857143,
          1.46,
          5.875,
          3.8714285714285714,
          4.96,
          2.5272727272727273,
          1.9538461538461538,
          1.9363636363636365,
          4.5,
          7.075,
          0.8176470588235294,
          1.92,
          1.4095238095238096,
          1.9714285714285715,
          1.67,
          7.24,
          4.4799999999999995,
          1.61,
          0.8400000000000001,
          2.557142857142857,
          6.25,
          1.2650000000000001,
          4,
          2.0300000000000002,
          2.18,
          1.7600000000000002,
          5.16,
          0.4782608695652174,
          0.35000000000000003,
          1.4555555555555555,
          1.6909090909090911,
          0.861904761904762,
          1.9666666666666666,
          2.25,
          4.6571428571428575,
          3.96,
          4.75,
          5.575,
          0.7545454545454546,
          3.08,
          0.3826086956521739,
          2.375,
          0.605,
          2.1333333333333333,
          1.34,
          0.6333333333333333,
          4.95,
          2.12,
          1.8714285714285714,
          0.7666666666666666,
          0.8333333333333334,
          0.8222222222222223,
          2.1333333333333333,
          0.38571428571428573,
          2.75,
          0.74375,
          1.29,
          1.5142857142857142,
          1.25,
          2.125,
          1.0777777777777777,
          3.12,
          1.72,
          2.9,
          2.16,
          0.3235294117647059,
          1.4166666666666667,
          1.64,
          2.7,
          1.04,
          7.76,
          2.2944444444444443,
          2.3666666666666667,
          3.3636363636363638,
          2.0823529411764703,
          10.75,
          9.45,
          2.983333333333333,
          3,
          2.0166666666666666,
          5.3,
          2.9846153846153842,
          6.75,
          5.866666666666667,
          6.216666666666666,
          6.083333333333333,
          3.4,
          2.3133333333333335,
          6.633333333333333,
          8.75,
          3.7299999999999995,
          6.666666666666667,
          8.875,
          1.7833333333333334,
          1.9888888888888887,
          2.1,
          6.7,
          4.6875,
          4.3875,
          5.385714285714286,
          1.8833333333333333,
          5.283333333333333,
          2.0647058823529414,
          6.416666666666667,
          3.07,
          1.838888888888889,
          3.9166666666666665,
          5.3,
          2.052941176470588,
          2.9545454545454546,
          2.690909090909091,
          5.55,
          4.5,
          4,
          2.2454545454545456,
          2.5307692307692307,
          2.207692307692308,
          7.075,
          8.75,
          2.8,
          7.4,
          3.033333333333333,
          2.2600000000000002,
          5.2,
          2.6818181818181817,
          7.24,
          8.325,
          3.409090909090909,
          2.3636363636363638,
          1.3599999999999999,
          1.625,
          7.75,
          1.9888888888888887,
          5.133333333333334,
          4.166666666666667,
          4.720000000000001,
          2.772727272727273,
          4.4399999999999995,
          1.0666666666666667,
          5.416666666666667,
          4.2,
          5.083333333333333,
          2.290909090909091,
          1.5615384615384615,
          4.5,
          1.661111111111111,
          4.416666666666667,
          1.7333333333333334,
          2.423076923076923,
          1.5055555555555555,
          4.366666666666666,
          6.279999999999999,
          2.12,
          1.70625,
          1.425,
          4.416666666666667,
          4.571428571428571,
          1.8636363636363635,
          1.1384615384615384,
          3.283333333333333,
          3.783333333333333,
          5.125,
          3.7,
          6.2,
          1.6375,
          0.85625,
          2.95,
          3.3666666666666667,
          1.1125,
          2,
          3.3000000000000003,
          2.7545454545454544,
          1.911111111111111,
          0.58125,
          1.2750000000000001,
          1.0055555555555555,
          3.216666666666667,
          1.6818181818181819,
          0.9588235294117647,
          2.585714285714286,
          0.8666666666666667,
          5.75,
          4.75,
          1.1214285714285714,
          0.94,
          2.6399999999999997,
          3.4333333333333336,
          0.7411764705882353,
          2.5100000000000002,
          3.2,
          1.8,
          6.25,
          0.7647058823529411,
          0.9529411764705882,
          0.8111111111111111,
          2.0833333333333335,
          1.55,
          1.0866666666666667,
          0.8066666666666666,
          2.5,
          0.9142857142857144,
          0.9307692307692308,
          2.9499999999999997,
          0.6749999999999999,
          1.85,
          2.08,
          2.283333333333333,
          2.0571428571428574,
          1.0538461538461539,
          2.25,
          2.12,
          1.1333333333333333,
          0.6615384615384615,
          0.7214285714285714,
          0.7444444444444445,
          1.8833333333333335,
          2.6666666666666665,
          1.4666666666666668,
          1.8833333333333335,
          1.575,
          3.4333333333333336,
          3.5,
          1.6291666666666667,
          8.16,
          1.75,
          2.5375,
          2.2866666666666666,
          2.835714285714286,
          2.48125,
          7.88,
          5.128571428571428,
          4.883333333333334,
          7.720000000000001,
          4.077777777777778,
          2.5928571428571425,
          5.76,
          1.8571428571428572,
          2.7636363636363637,
          4.985714285714286,
          5.583333333333333,
          2.9250000000000003,
          5.92,
          1.5458333333333334,
          4.383333333333334,
          9.25,
          3.3909090909090907,
          6.75,
          3.2818181818181817,
          2.2866666666666666,
          3.0749999999999997,
          6.720000000000001,
          5.25,
          3.644444444444444,
          6.56,
          3.9,
          1.5625,
          8.325,
          2.392857142857143,
          5.24,
          7.95,
          2.6357142857142857,
          2.9250000000000003,
          3.822222222222222,
          3.3777777777777778,
          6.04,
          1.88,
          3.1333333333333333,
          4.8,
          2.6083333333333334,
          1.7545454545454546,
          3.875,
          5.84,
          5.64,
          7,
          7.325,
          4.12,
          6.36,
          7.040000000000001,
          1.7533333333333334,
          5.2,
          1.8,
          3.5181818181818185,
          1.9466666666666665,
          5.88,
          6.08,
          3.6285714285714286,
          3.9166666666666665,
          4.4,
          4.328571428571428,
          5.4799999999999995,
          8.125,
          1.45625,
          5.416666666666667,
          1.4285714285714286,
          7.875,
          2.7363636363636363,
          3.3,
          1.5214285714285716,
          1.2750000000000001,
          0.8666666666666667,
          1.6714285714285713,
          5.96,
          6,
          1.51875,
          1.4357142857142857,
          1.0291666666666666,
          6.875,
          8.2,
          4.833333333333333,
          1.9181818181818182,
          5.325,
          2.15,
          1.55625,
          3.6142857142857143,
          0.9761904761904762,
          7.45,
          1.1875,
          1.075,
          1.2066666666666668,
          4.76,
          5.4799999999999995,
          3.6799999999999997,
          1.6857142857142857,
          0.691304347826087,
          2,
          6.04,
          4.25,
          1.4400000000000002,
          5.075,
          2.6714285714285713,
          0.8636363636363636,
          1.275,
          1.9300000000000002,
          4.325,
          1.1428571428571428,
          3.1,
          3.6799999999999997,
          5.12,
          2.4,
          2.4,
          1.6666666666666667,
          1.1142857142857143,
          2.2,
          4,
          0.6705882352941177,
          1.3363636363636362,
          0.6636363636363636,
          0.9,
          2.3600000000000003,
          1.7,
          1.8399999999999999,
          0.8,
          3.575,
          3.16,
          0.48636363636363633,
          5.125,
          0.4947368421052632,
          0.95625,
          0.9222222222222223,
          1.875,
          1.75,
          2.2800000000000002,
          0.475,
          1.4222222222222223,
          3.233333333333333,
          0.8571428571428571,
          0.79,
          3.16,
          2.625,
          5.385714285714286,
          5.966666666666666,
          9.075,
          3.108333333333333,
          3.023076923076923,
          7.4,
          1.7428571428571429,
          1.7285714285714284,
          3.4222222222222225,
          2.0842105263157897,
          2.388235294117647,
          1.9210526315789473,
          8.95,
          7.840000000000001,
          1.8285714285714285,
          2.323529411764706,
          10,
          5.328571428571428,
          3.55,
          8.75,
          2.8307692307692305,
          9.75,
          6.6,
          2.1705882352941175,
          3.5545454545454547,
          1.911764705882353,
          5.666666666666667,
          1.905263157894737,
          7.7,
          3.409090909090909,
          2.85,
          4.628571428571428,
          3.4545454545454546,
          5.514285714285714,
          9,
          4.085714285714286,
          5.4,
          5.7,
          8.2,
          1.6047619047619048,
          3.28,
          9.125,
          9.325,
          7.040000000000001,
          4.328571428571428,
          2.0727272727272728,
          7.875,
          2.2411764705882353,
          6.44,
          5.825,
          2.2545454545454544,
          5.12,
          4.8,
          6.840000000000001,
          2.0153846153846153,
          4.866666666666666,
          4.333333333333333,
          8.575,
          1.4952380952380953,
          5.88,
          2.292307692307692,
          1.361904761904762,
          3.3,
          1.8105263157894735,
          2.3666666666666667,
          3.4444444444444446,
          1.2473684210526315,
          2.6333333333333333,
          1.380952380952381,
          5.95,
          1.4384615384615385,
          3.2454545454545456,
          8.25,
          5.3,
          4.285714285714286,
          1.0952380952380953,
          6.12,
          2.68,
          4.771428571428571,
          1.8923076923076925,
          1.1263157894736842,
          1.6705882352941175,
          1.54375,
          2.3285714285714287,
          1.2736842105263158,
          1.1904761904761905,
          2.875,
          4.5,
          0.8941176470588235,
          1.9357142857142857,
          5.76,
          8.2,
          2.46,
          8,
          4.76,
          2.283333333333333,
          4.24,
          5.125,
          5.633333333333333,
          1.65,
          2.5714285714285716,
          1.1571428571428573,
          3.1,
          1.19,
          1.06,
          1.3153846153846156,
          1.8818181818181818,
          0.8761904761904761,
          0.8722222222222222,
          4.075,
          5.085714285714286,
          1.7899999999999998,
          3.625,
          3.325,
          1.4384615384615385,
          3.125,
          0.9470588235294118,
          1.1833333333333333,
          3.56,
          1.4666666666666668,
          4.333333333333333,
          2.7199999999999998,
          1.0421052631578949,
          3.04,
          1.0727272727272728,
          3,
          1.7100000000000002,
          0.9285714285714286,
          0.8846153846153846,
          0.8400000000000001,
          1.9857142857142858,
          0.5882352941176471,
          3.375,
          0.5736842105263158,
          2.2333333333333334,
          1.5333333333333332,
          3.1,
          4.566666666666666,
          4.7,
          0.7230769230769231,
          1.25,
          1.3333333333333333,
          0.43333333333333335,
          1.7571428571428573,
          1.9000000000000001,
          2.5,
          5.728571428571429,
          6.883333333333333,
          3.3666666666666667,
          3.46,
          7.4,
          8.120000000000001,
          1.8142857142857143,
          7.8,
          3.45,
          2.35625,
          2.9545454545454546,
          1.8363636363636362,
          2.1473684210526316,
          7,
          1.7434782608695654,
          6.216666666666666,
          4.011111111111111,
          3.0416666666666665,
          6.666666666666667,
          3.9777777777777774,
          7,
          1.7100000000000002,
          7.44,
          2.65,
          3.227272727272727,
          7.2,
          7.32,
          1.7210526315789476,
          2.463636363636364,
          5.76,
          3.3200000000000003,
          1.7260869565217392,
          6,
          5.3428571428571425,
          7.325,
          1.6545454545454545,
          8.5,
          6.68,
          6.640000000000001,
          6.92,
          3.1090909090909093,
          9.625,
          6.4799999999999995,
          5.45,
          1.8444444444444446,
          5.12,
          1.7777777777777777,
          2.8600000000000003,
          5.4799999999999995,
          4.8,
          4.757142857142857,
          1.2608695652173914,
          1.3666666666666667,
          3.966666666666667,
          1.6736842105263159,
          2.7916666666666665,
          4.68,
          3.3363636363636364,
          3.016666666666667,
          2.9899999999999998,
          1.4590909090909092,
          1.7222222222222223,
          1.5045454545454546,
          5.279999999999999,
          5.528571428571429,
          6.25,
          5.825,
          2.5272727272727273,
          1.7555555555555555,
          6.333333333333333,
          0.8636363636363636,
          2.7,
          6.625,
          5.825,
          3.05,
          4.2,
          2.2083333333333335,
          6.825,
          0.915,
          6.4799999999999995,
          3.7,
          5.68,
          1.0047619047619047,
          1.5368421052631578,
          2.3285714285714287,
          1.925,
          0.8555555555555556,
          1.0473684210526315,
          2.92,
          1.3583333333333334,
          1.0304347826086957,
          4.4399999999999995,
          0.6849999999999999,
          2.966666666666667,
          1.3444444444444443,
          4.64,
          2.6,
          4.4799999999999995,
          3.5833333333333335,
          1.0916666666666666,
          1.0411764705882351,
          3.575,
          3.3200000000000003,
          5.84,
          3.3666666666666667,
          3.08,
          3.96,
          0.9733333333333333,
          3.0500000000000003,
          1.9,
          3.814285714285714,
          1.5250000000000001,
          3.5200000000000005,
          5.5200000000000005,
          1.1176470588235294,
          1.9142857142857144,
          6,
          1.0333333333333334,
          1.425,
          1.3777777777777778,
          3.6799999999999997,
          0.8416666666666667,
          1.2869565217391306,
          1.4333333333333333,
          1.6800000000000002,
          0.5499999999999999,
          4.45,
          1.2666666666666666,
          2.2800000000000002,
          2.68,
          1.2,
          3,
          1.0636363636363635,
          1.8800000000000001,
          1.0571428571428572,
          0.5111111111111111,
          0.9,
          1.75,
          2.2399999999999998,
          1.44,
          0.7428571428571429,
          2.075,
          0.6375,
          3.108333333333333,
          2.453333333333333,
          6.840000000000001,
          2.176470588235294,
          1.5772727272727274,
          4.177777777777778,
          6.55,
          11,
          1.7083333333333333,
          6.383333333333333,
          6.3,
          3.85,
          3.66,
          1.5958333333333332,
          7.216666666666666,
          6.5,
          6.166666666666667,
          1.9388888888888889,
          10.625,
          7,
          8.120000000000001,
          3.3666666666666667,
          7.24,
          9.575,
          3.216666666666667,
          1.6363636363636365,
          2.975,
          3.3249999999999997,
          5.95,
          2.3461538461538463,
          2.6538461538461537,
          4.716666666666667,
          6.033333333333334,
          1.25,
          3.233333333333333,
          1.5863636363636362,
          1.723809523809524,
          2.308333333333333,
          7.4799999999999995,
          5.533333333333334,
          1.8944444444444446,
          2.772727272727273,
          4.866666666666666,
          8.25,
          6.7,
          1.5444444444444445,
          8.7,
          6.24,
          6.4,
          6.88,
          2.9615384615384617,
          1.6933333333333331,
          2.058333333333333,
          1.5391304347826087,
          5.45,
          5.466666666666666,
          6.12,
          2.1222222222222222,
          3.6166666666666667,
          5.383333333333333,
          1.6166666666666667,
          1.8923076923076925,
          6.283333333333334,
          2.2800000000000002,
          1.6333333333333333,
          2.066666666666667,
          2.308333333333333,
          2.183333333333333,
          4.95,
          6.125,
          4.4799999999999995,
          4.633333333333334,
          2.2083333333333335,
          4.88,
          2.269230769230769,
          3.6166666666666667,
          3.4799999999999995,
          6.16,
          3.6166666666666667,
          4.833333333333333,
          1.8166666666666667,
          1.411111111111111,
          1.1375,
          2.216666666666667,
          1.1043478260869564,
          3.3000000000000003,
          3.9200000000000004,
          2.1166666666666667,
          5.4799999999999995,
          1.4545454545454546,
          1.3055555555555556,
          3.25,
          1.5722222222222222,
          1.3647058823529412,
          1.6800000000000002,
          0.9249999999999999,
          7.075,
          4.5,
          3.3200000000000003,
          5.216666666666667,
          2.4,
          1.5333333333333332,
          2.6,
          2.3000000000000003,
          0.9272727272727272,
          0.9384615384615385,
          1.7,
          3.5833333333333335,
          1.0263157894736843,
          4.32,
          0.5375,
          3.3333333333333335,
          1.0999999999999999,
          1.375,
          2.16,
          0.5375,
          0.723529411764706,
          1.7111111111111112,
          3.1166666666666667,
          1.3333333333333333,
          4.32,
          1.0153846153846153,
          0.5944444444444444,
          3.44,
          3.04,
          1.6666666666666667,
          2.7600000000000002,
          2.3600000000000003,
          4.5200000000000005,
          0.7071428571428572,
          3.75,
          0.975,
          2.4166666666666665,
          0.7666666666666667,
          0.7555555555555555,
          1.75,
          1.6888888888888889,
          1.55,
          1.55,
          1.0454545454545454,
          0.4875,
          1.8,
          0.475,
          2.88,
          1.375,
          1.52,
          1,
          3.790909090909091,
          7.959999999999999,
          2.9153846153846152,
          1.975,
          6.383333333333333,
          3.8545454545454545,
          3.6636363636363636,
          5.514285714285714,
          2,
          1.8045454545454547,
          2,
          7.4799999999999995,
          2.41875,
          6.92,
          4.144444444444444,
          7.68,
          6.416666666666667,
          9.825,
          8.28,
          7.6,
          1.8800000000000001,
          2.375,
          6.68,
          7.56,
          3.5,
          3.527272727272727,
          3.1181818181818177,
          7.279999999999999,
          4.185714285714286,
          2.769230769230769,
          9.5,
          7.2,
          6.116666666666667,
          1.608695652173913,
          7.640000000000001,
          2.2625,
          2.6153846153846154,
          6.216666666666666,
          3.3,
          9.95,
          4.957142857142857,
          3.2363636363636363,
          6.8,
          7.08,
          1.7,
          3.19,
          1.4849999999999999,
          1.6350000000000002,
          4.366666666666666,
          1.85,
          1.7850000000000001,
          1.3863636363636365,
          1.3130434782608695,
          1.51875,
          1.33,
          7.32,
          5.5,
          1.3105263157894735,
          5.96,
          4.55,
          4.014285714285714,
          1.6800000000000002,
          5.32,
          4.633333333333334,
          7.325,
          2.9181818181818184,
          1.676923076923077,
          5.96,
          7.5200000000000005,
          3.957142857142857,
          4.279999999999999,
          2.5500000000000003,
          7.640000000000001,
          1.2217391304347827,
          1.1304347826086956,
          5.2,
          3.7285714285714286,
          0.7913043478260869,
          2.7375,
          5.083333333333333,
          3.28,
          6.5,
          5.92,
          4.2,
          6.433333333333334,
          3.6399999999999997,
          2.2636363636363637,
          4,
          1.045,
          3.6999999999999997,
          1.63125,
          4.279999999999999,
          2.857142857142857,
          1.4454545454545455,
          0.9,
          1.325,
          3.56,
          1.545,
          2.414285714285714,
          2.8000000000000003,
          1.9230769230769231,
          2.463636363636364,
          1.5090909090909093,
          3,
          6.325,
          1.0615384615384615,
          3.72,
          3.6333333333333333,
          1.1166666666666667,
          1.3923076923076925,
          2.988888888888889,
          1.18,
          7.375,
          2.4272727272727272,
          1.8399999999999999,
          1.3,
          1.1,
          3.3333333333333335,
          3.6799999999999997,
          1.3,
          1.55,
          0.86,
          1.75,
          2.1166666666666667,
          0.61,
          1.225,
          0.49444444444444446,
          0.6842105263157895,
          2.48,
          1.8181818181818181,
          1.1,
          2.875,
          1.6,
          0.3952380952380953,
          1.3875,
          0.46,
          0.8583333333333334,
          2.575,
          2.75,
          3.075,
          1.9600000000000002,
          2.5
         ],
         "xbins": {
          "end": 46,
          "size": 1,
          "start": 0
         }
        }
       ],
       "layout": {
        "barmode": "overlay",
        "template": {
         "data": {
          "bar": [
           {
            "error_x": {
             "color": "#2a3f5f"
            },
            "error_y": {
             "color": "#2a3f5f"
            },
            "marker": {
             "line": {
              "color": "#E5ECF6",
              "width": 0.5
             },
             "pattern": {
              "fillmode": "overlay",
              "size": 10,
              "solidity": 0.2
             }
            },
            "type": "bar"
           }
          ],
          "barpolar": [
           {
            "marker": {
             "line": {
              "color": "#E5ECF6",
              "width": 0.5
             },
             "pattern": {
              "fillmode": "overlay",
              "size": 10,
              "solidity": 0.2
             }
            },
            "type": "barpolar"
           }
          ],
          "carpet": [
           {
            "aaxis": {
             "endlinecolor": "#2a3f5f",
             "gridcolor": "white",
             "linecolor": "white",
             "minorgridcolor": "white",
             "startlinecolor": "#2a3f5f"
            },
            "baxis": {
             "endlinecolor": "#2a3f5f",
             "gridcolor": "white",
             "linecolor": "white",
             "minorgridcolor": "white",
             "startlinecolor": "#2a3f5f"
            },
            "type": "carpet"
           }
          ],
          "choropleth": [
           {
            "colorbar": {
             "outlinewidth": 0,
             "ticks": ""
            },
            "type": "choropleth"
           }
          ],
          "contour": [
           {
            "colorbar": {
             "outlinewidth": 0,
             "ticks": ""
            },
            "colorscale": [
             [
              0,
              "#0d0887"
             ],
             [
              0.1111111111111111,
              "#46039f"
             ],
             [
              0.2222222222222222,
              "#7201a8"
             ],
             [
              0.3333333333333333,
              "#9c179e"
             ],
             [
              0.4444444444444444,
              "#bd3786"
             ],
             [
              0.5555555555555556,
              "#d8576b"
             ],
             [
              0.6666666666666666,
              "#ed7953"
             ],
             [
              0.7777777777777778,
              "#fb9f3a"
             ],
             [
              0.8888888888888888,
              "#fdca26"
             ],
             [
              1,
              "#f0f921"
             ]
            ],
            "type": "contour"
           }
          ],
          "contourcarpet": [
           {
            "colorbar": {
             "outlinewidth": 0,
             "ticks": ""
            },
            "type": "contourcarpet"
           }
          ],
          "heatmap": [
           {
            "colorbar": {
             "outlinewidth": 0,
             "ticks": ""
            },
            "colorscale": [
             [
              0,
              "#0d0887"
             ],
             [
              0.1111111111111111,
              "#46039f"
             ],
             [
              0.2222222222222222,
              "#7201a8"
             ],
             [
              0.3333333333333333,
              "#9c179e"
             ],
             [
              0.4444444444444444,
              "#bd3786"
             ],
             [
              0.5555555555555556,
              "#d8576b"
             ],
             [
              0.6666666666666666,
              "#ed7953"
             ],
             [
              0.7777777777777778,
              "#fb9f3a"
             ],
             [
              0.8888888888888888,
              "#fdca26"
             ],
             [
              1,
              "#f0f921"
             ]
            ],
            "type": "heatmap"
           }
          ],
          "heatmapgl": [
           {
            "colorbar": {
             "outlinewidth": 0,
             "ticks": ""
            },
            "colorscale": [
             [
              0,
              "#0d0887"
             ],
             [
              0.1111111111111111,
              "#46039f"
             ],
             [
              0.2222222222222222,
              "#7201a8"
             ],
             [
              0.3333333333333333,
              "#9c179e"
             ],
             [
              0.4444444444444444,
              "#bd3786"
             ],
             [
              0.5555555555555556,
              "#d8576b"
             ],
             [
              0.6666666666666666,
              "#ed7953"
             ],
             [
              0.7777777777777778,
              "#fb9f3a"
             ],
             [
              0.8888888888888888,
              "#fdca26"
             ],
             [
              1,
              "#f0f921"
             ]
            ],
            "type": "heatmapgl"
           }
          ],
          "histogram": [
           {
            "marker": {
             "pattern": {
              "fillmode": "overlay",
              "size": 10,
              "solidity": 0.2
             }
            },
            "type": "histogram"
           }
          ],
          "histogram2d": [
           {
            "colorbar": {
             "outlinewidth": 0,
             "ticks": ""
            },
            "colorscale": [
             [
              0,
              "#0d0887"
             ],
             [
              0.1111111111111111,
              "#46039f"
             ],
             [
              0.2222222222222222,
              "#7201a8"
             ],
             [
              0.3333333333333333,
              "#9c179e"
             ],
             [
              0.4444444444444444,
              "#bd3786"
             ],
             [
              0.5555555555555556,
              "#d8576b"
             ],
             [
              0.6666666666666666,
              "#ed7953"
             ],
             [
              0.7777777777777778,
              "#fb9f3a"
             ],
             [
              0.8888888888888888,
              "#fdca26"
             ],
             [
              1,
              "#f0f921"
             ]
            ],
            "type": "histogram2d"
           }
          ],
          "histogram2dcontour": [
           {
            "colorbar": {
             "outlinewidth": 0,
             "ticks": ""
            },
            "colorscale": [
             [
              0,
              "#0d0887"
             ],
             [
              0.1111111111111111,
              "#46039f"
             ],
             [
              0.2222222222222222,
              "#7201a8"
             ],
             [
              0.3333333333333333,
              "#9c179e"
             ],
             [
              0.4444444444444444,
              "#bd3786"
             ],
             [
              0.5555555555555556,
              "#d8576b"
             ],
             [
              0.6666666666666666,
              "#ed7953"
             ],
             [
              0.7777777777777778,
              "#fb9f3a"
             ],
             [
              0.8888888888888888,
              "#fdca26"
             ],
             [
              1,
              "#f0f921"
             ]
            ],
            "type": "histogram2dcontour"
           }
          ],
          "mesh3d": [
           {
            "colorbar": {
             "outlinewidth": 0,
             "ticks": ""
            },
            "type": "mesh3d"
           }
          ],
          "parcoords": [
           {
            "line": {
             "colorbar": {
              "outlinewidth": 0,
              "ticks": ""
             }
            },
            "type": "parcoords"
           }
          ],
          "pie": [
           {
            "automargin": true,
            "type": "pie"
           }
          ],
          "scatter": [
           {
            "fillpattern": {
             "fillmode": "overlay",
             "size": 10,
             "solidity": 0.2
            },
            "type": "scatter"
           }
          ],
          "scatter3d": [
           {
            "line": {
             "colorbar": {
              "outlinewidth": 0,
              "ticks": ""
             }
            },
            "marker": {
             "colorbar": {
              "outlinewidth": 0,
              "ticks": ""
             }
            },
            "type": "scatter3d"
           }
          ],
          "scattercarpet": [
           {
            "marker": {
             "colorbar": {
              "outlinewidth": 0,
              "ticks": ""
             }
            },
            "type": "scattercarpet"
           }
          ],
          "scattergeo": [
           {
            "marker": {
             "colorbar": {
              "outlinewidth": 0,
              "ticks": ""
             }
            },
            "type": "scattergeo"
           }
          ],
          "scattergl": [
           {
            "marker": {
             "colorbar": {
              "outlinewidth": 0,
              "ticks": ""
             }
            },
            "type": "scattergl"
           }
          ],
          "scattermapbox": [
           {
            "marker": {
             "colorbar": {
              "outlinewidth": 0,
              "ticks": ""
             }
            },
            "type": "scattermapbox"
           }
          ],
          "scatterpolar": [
           {
            "marker": {
             "colorbar": {
              "outlinewidth": 0,
              "ticks": ""
             }
            },
            "type": "scatterpolar"
           }
          ],
          "scatterpolargl": [
           {
            "marker": {
             "colorbar": {
              "outlinewidth": 0,
              "ticks": ""
             }
            },
            "type": "scatterpolargl"
           }
          ],
          "scatterternary": [
           {
            "marker": {
             "colorbar": {
              "outlinewidth": 0,
              "ticks": ""
             }
            },
            "type": "scatterternary"
           }
          ],
          "surface": [
           {
            "colorbar": {
             "outlinewidth": 0,
             "ticks": ""
            },
            "colorscale": [
             [
              0,
              "#0d0887"
             ],
             [
              0.1111111111111111,
              "#46039f"
             ],
             [
              0.2222222222222222,
              "#7201a8"
             ],
             [
              0.3333333333333333,
              "#9c179e"
             ],
             [
              0.4444444444444444,
              "#bd3786"
             ],
             [
              0.5555555555555556,
              "#d8576b"
             ],
             [
              0.6666666666666666,
              "#ed7953"
             ],
             [
              0.7777777777777778,
              "#fb9f3a"
             ],
             [
              0.8888888888888888,
              "#fdca26"
             ],
             [
              1,
              "#f0f921"
             ]
            ],
            "type": "surface"
           }
          ],
          "table": [
           {
            "cells": {
             "fill": {
              "color": "#EBF0F8"
             },
             "line": {
              "color": "white"
             }
            },
            "header": {
             "fill": {
              "color": "#C8D4E3"
             },
             "line": {
              "color": "white"
             }
            },
            "type": "table"
           }
          ]
         },
         "layout": {
          "annotationdefaults": {
           "arrowcolor": "#2a3f5f",
           "arrowhead": 0,
           "arrowwidth": 1
          },
          "autotypenumbers": "strict",
          "coloraxis": {
           "colorbar": {
            "outlinewidth": 0,
            "ticks": ""
           }
          },
          "colorscale": {
           "diverging": [
            [
             0,
             "#8e0152"
            ],
            [
             0.1,
             "#c51b7d"
            ],
            [
             0.2,
             "#de77ae"
            ],
            [
             0.3,
             "#f1b6da"
            ],
            [
             0.4,
             "#fde0ef"
            ],
            [
             0.5,
             "#f7f7f7"
            ],
            [
             0.6,
             "#e6f5d0"
            ],
            [
             0.7,
             "#b8e186"
            ],
            [
             0.8,
             "#7fbc41"
            ],
            [
             0.9,
             "#4d9221"
            ],
            [
             1,
             "#276419"
            ]
           ],
           "sequential": [
            [
             0,
             "#0d0887"
            ],
            [
             0.1111111111111111,
             "#46039f"
            ],
            [
             0.2222222222222222,
             "#7201a8"
            ],
            [
             0.3333333333333333,
             "#9c179e"
            ],
            [
             0.4444444444444444,
             "#bd3786"
            ],
            [
             0.5555555555555556,
             "#d8576b"
            ],
            [
             0.6666666666666666,
             "#ed7953"
            ],
            [
             0.7777777777777778,
             "#fb9f3a"
            ],
            [
             0.8888888888888888,
             "#fdca26"
            ],
            [
             1,
             "#f0f921"
            ]
           ],
           "sequentialminus": [
            [
             0,
             "#0d0887"
            ],
            [
             0.1111111111111111,
             "#46039f"
            ],
            [
             0.2222222222222222,
             "#7201a8"
            ],
            [
             0.3333333333333333,
             "#9c179e"
            ],
            [
             0.4444444444444444,
             "#bd3786"
            ],
            [
             0.5555555555555556,
             "#d8576b"
            ],
            [
             0.6666666666666666,
             "#ed7953"
            ],
            [
             0.7777777777777778,
             "#fb9f3a"
            ],
            [
             0.8888888888888888,
             "#fdca26"
            ],
            [
             1,
             "#f0f921"
            ]
           ]
          },
          "colorway": [
           "#636efa",
           "#EF553B",
           "#00cc96",
           "#ab63fa",
           "#FFA15A",
           "#19d3f3",
           "#FF6692",
           "#B6E880",
           "#FF97FF",
           "#FECB52"
          ],
          "font": {
           "color": "#2a3f5f"
          },
          "geo": {
           "bgcolor": "white",
           "lakecolor": "white",
           "landcolor": "#E5ECF6",
           "showlakes": true,
           "showland": true,
           "subunitcolor": "white"
          },
          "hoverlabel": {
           "align": "left"
          },
          "hovermode": "closest",
          "mapbox": {
           "style": "light"
          },
          "paper_bgcolor": "white",
          "plot_bgcolor": "#E5ECF6",
          "polar": {
           "angularaxis": {
            "gridcolor": "white",
            "linecolor": "white",
            "ticks": ""
           },
           "bgcolor": "#E5ECF6",
           "radialaxis": {
            "gridcolor": "white",
            "linecolor": "white",
            "ticks": ""
           }
          },
          "scene": {
           "xaxis": {
            "backgroundcolor": "#E5ECF6",
            "gridcolor": "white",
            "gridwidth": 2,
            "linecolor": "white",
            "showbackground": true,
            "ticks": "",
            "zerolinecolor": "white"
           },
           "yaxis": {
            "backgroundcolor": "#E5ECF6",
            "gridcolor": "white",
            "gridwidth": 2,
            "linecolor": "white",
            "showbackground": true,
            "ticks": "",
            "zerolinecolor": "white"
           },
           "zaxis": {
            "backgroundcolor": "#E5ECF6",
            "gridcolor": "white",
            "gridwidth": 2,
            "linecolor": "white",
            "showbackground": true,
            "ticks": "",
            "zerolinecolor": "white"
           }
          },
          "shapedefaults": {
           "line": {
            "color": "#2a3f5f"
           }
          },
          "ternary": {
           "aaxis": {
            "gridcolor": "white",
            "linecolor": "white",
            "ticks": ""
           },
           "baxis": {
            "gridcolor": "white",
            "linecolor": "white",
            "ticks": ""
           },
           "bgcolor": "#E5ECF6",
           "caxis": {
            "gridcolor": "white",
            "linecolor": "white",
            "ticks": ""
           }
          },
          "title": {
           "x": 0.05
          },
          "xaxis": {
           "automargin": true,
           "gridcolor": "white",
           "linecolor": "white",
           "ticks": "",
           "title": {
            "standoff": 15
           },
           "zerolinecolor": "white",
           "zerolinewidth": 2
          },
          "yaxis": {
           "automargin": true,
           "gridcolor": "white",
           "linecolor": "white",
           "ticks": "",
           "title": {
            "standoff": 15
           },
           "zerolinecolor": "white",
           "zerolinewidth": 2
          }
         }
        }
       }
      },
      "text/html": [
       "<div>                            <div id=\"0d50da26-81b7-45cf-9a80-4183ed3d6cb7\" class=\"plotly-graph-div\" style=\"height:525px; width:100%;\"></div>            <script type=\"text/javascript\">                require([\"plotly\"], function(Plotly) {                    window.PLOTLYENV=window.PLOTLYENV || {};                                    if (document.getElementById(\"0d50da26-81b7-45cf-9a80-4183ed3d6cb7\")) {                    Plotly.newPlot(                        \"0d50da26-81b7-45cf-9a80-4183ed3d6cb7\",                        [{\"histnorm\":\"percent\",\"name\":\"RS\",\"x\":[],\"xbins\":{\"end\":46,\"size\":1,\"start\":0},\"type\":\"histogram\",\"opacity\":0.5},{\"histnorm\":\"percent\",\"name\":\"Playoffs\",\"x\":[4.009090909090909,3.341666666666667,6.75,1.8130434782608698,3.4499999999999997,6.216666666666666,5.371428571428572,6.55,5.957142857142857,1.7333333333333332,7.166666666666667,2.1631578947368424,7.083333333333333,6.616666666666667,1.6666666666666667,6.75,2.46,2.7066666666666666,2.9583333333333335,7.875,5.533333333333334,2.5533333333333332,1.9210526315789473,6.05,2.9916666666666667,2.8083333333333336,3.1999999999999997,1.9105263157894736,1.6136363636363635,3.4416666666666664,5.528571428571429,2.1166666666666667,2.9,9.5,3.15,4.283333333333333,2.6727272727272724,9.125,3.0454545454545454,1.7571428571428571,5.916666666666667,3.4,8.325,4.383333333333334,3.027272727272727,5.883333333333333,5.783333333333334,5.7,1.4217391304347828,4.957142857142857,5.25,5.7,1.7083333333333333,4.5,5.55,1.2714285714285714,7.325,6.25,1.519047619047619,2.2583333333333333,4.05,4.466666666666667,2.841666666666667,7.075,4.55,6.575,2.814285714285714,1.8733333333333335,1.0826086956521739,4.916666666666667,1.8631578947368421,1.2304347826086957,2.341666666666667,1.4200000000000002,1.5866666666666667,2.1545454545454543,3.2857142857142856,3.783333333333333,8.5,4.95,4.325,2.275,3.1166666666666667,2.02,0.8857142857142858,5.3,5.666666666666667,2.6999999999999997,1.4333333333333333,0.76,3.1999999999999997,0.9476190476190476,1.0736842105263158,3.0,1.55,1.7583333333333335,2.481818181818182,2.433333333333333,0.8736842105263158,1.8666666666666665,2.966666666666667,1.4727272727272727,0.7363636363636363,2.8000000000000003,0.8090909090909091,4.271428571428571,1.9,1.7,0.6684210526315789,0.67,1.8833333333333335,0.7799999999999999,0.7916666666666666,4.0,5.125,2.783333333333333,0.48,1.7363636363636366,3.375,0.9333333333333332,0.5785714285714285,0.46111111111111114,2.075,0.8142857142857143,1.7166666666666668,2.2578947368421054,1.9100000000000001,7.3,2.0368421052631582,3.6454545454545455,6.416666666666667,5.757142857142857,2.8307692307692305,6.042857142857143,3.8545454545454545,2.1631578947368424,3.2583333333333333,5.528571428571429,5.085714285714286,2.792307692307692,9.575,5.442857142857143,6.95,4.942857142857143,3.7818181818181817,5.371428571428572,11.766666666666666,6.16,6.5,1.735,1.3608695652173914,6.1000000000000005,5.242857142857143,3.472727272727273,1.4217391304347828,5.442857142857143,1.853846153846154,3.790909090909091,1.905263157894737,1.7149999999999999,3.5181818181818185,2.975,1.108695652173913,1.391304347826087,4.428571428571429,3.25,2.558333333333333,3.3636363636363638,1.9526315789473685,8.72,5.1000000000000005,2.076923076923077,5.64,6.5200000000000005,5.057142857142857,3.1545454545454548,3.8714285714285714,4.7,1.905263157894737,2.011764705882353,4.6571428571428575,9.625,3.585714285714286,4.916666666666667,6.5,1.4684210526315788,3.9,6.68,4.085714285714286,4.057142857142857,8.4,3.9,3.8714285714285714,4.571428571428571,3.036363636363636,7.45,2.2583333333333333,2.6153846153846154,4.84,4.375,2.9857142857142853,2.3923076923076922,1.5,1.0,1.3199999999999998,1.1434782608695653,5.014285714285714,5.616666666666667,5.7,1.4769230769230768,3.942857142857143,2.7142857142857144,1.5250000000000001,2.414285714285714,2.3428571428571425,3.185714285714286,4.25,3.8333333333333335,0.9739130434782608,2.925,0.6652173913043479,3.5285714285714285,1.7333333333333334,2.25,1.657142857142857,1.1916666666666667,1.34,1.3857142857142857,1.2944444444444445,1.5833333333333333,0.75,1.7142857142857142,1.8166666666666667,1.24,4.533333333333333,0.9473684210526315,2.5,0.6739130434782609,0.9833333333333333,0.9777777777777779,3.2285714285714286,1.01,2.757142857142857,0.890909090909091,1.0222222222222221,0.9384615384615385,0.8263157894736842,1.6090909090909091,1.0466666666666666,1.375,0.56,1.46,1.7999999999999998,1.063157894736842,3.4714285714285715,2.3000000000000003,1.009090909090909,0.3,1.657142857142857,5.333333333333333,0.7923076923076924,0.9142857142857144,1.44,2.25,0.6625,1.2,0.7875,1.1400000000000001,2.1333333333333333,3.325,0.6684210526315789,0.6352941176470589,1.25,1.325,0.2818181818181818,1.52,1.657142857142857,1.8399999999999999,10.75,2.1100000000000003,1.8714285714285712,2.1999999999999997,7.88,2.8428571428571425,4.18,3.516666666666667,3.091666666666667,8.32,8.040000000000001,7.24,3.15,5.1000000000000005,9.95,6.5,3.436363636363636,1.723809523809524,8.95,5.1000000000000005,7.45,6.640000000000001,2.06875,6.916666666666667,1.9882352941176469,6.45,3.1545454545454548,2.2125,2.757142857142857,2.98,2.18125,2.0375,3.17,3.8,8.36,1.776190476190476,1.3705882352941177,3.036363636363636,2.264705882352941,2.457142857142857,1.7277777777777779,6.375,1.9357142857142857,3.07,4.25,8.325,5.0,8.2,5.3,5.333333333333333,6.16,4.042857142857143,7.0,5.583333333333333,6.625,1.4823529411764707,6.0,2.685714285714286,3.9499999999999997,2.6999999999999997,4.285714285714286,6.25,5.95,1.5428571428571427,1.325,7.375,5.283333333333333,1.438095238095238,5.716666666666666,6.625,6.4,1.3882352941176472,2.2857142857142856,3.31,7.825,5.625,1.8199999999999998,2.3714285714285714,1.6823529411764706,1.7399999999999998,1.13125,4.333333333333333,2.463636363636364,4.25,6.625,3.9499999999999997,5.625,1.2785714285714285,4.1571428571428575,2.6714285714285713,2.57,3.0,4.24,2.085714285714286,1.75,6.325,2.18,1.9166666666666667,7.75,1.2449999999999999,6.7,1.78,3.0500000000000003,3.5833333333333335,2.79,3.3333333333333335,6.1000000000000005,1.6181818181818182,1.72,4.625,2.7416666666666667,1.3545454545454545,1.18125,4.7,4.68,5.375,0.8523809523809524,0.5190476190476191,1.2210526315789474,0.9166666666666666,3.325,0.78,0.8866666666666667,1.1545454545454545,3.2,0.45999999999999996,2.5142857142857147,1.0454545454545454,0.4411764705882353,1.26,1.011764705882353,0.7357142857142858,4.25,1.26,1.3666666666666665,4.95,1.72,3.0,0.45454545454545453,0.7285714285714285,2.238888888888889,5.614285714285714,7.720000000000001,3.6090909090909093,1.861904761904762,2.0777777777777775,1.7571428571428571,1.8944444444444446,1.4749999999999999,6.116666666666667,5.3,3.3899999999999997,3.37,2.414285714285714,1.8649999999999998,3.6545454545454548,6.8,1.9149999999999998,9.0,5.533333333333334,8.2,3.65,2.4071428571428575,1.6608695652173915,10.075,6.88,1.535,3.0727272727272723,2.79,9.75,9.2,4.8,4.616666666666666,3.2700000000000005,3.4285714285714284,2.5285714285714285,7.2,5.95,5.95,6.92,7.5,3.857142857142857,2.507142857142857,2.91,5.366666666666667,1.8555555555555554,3.25,1.9100000000000001,5.5,4.585714285714286,1.657142857142857,5.76,5.7,2.2454545454545456,8.7,3.2,2.6399999999999997,4.0,3.16,4.014285714285714,4.416666666666667,1.7055555555555555,2.5,5.466666666666666,0.9944444444444444,3.8,4.5,1.2916666666666667,1.3333333333333333,1.49,3.9200000000000004,2.67,5.242857142857143,3.716666666666667,1.1300000000000001,2.8000000000000003,1.5166666666666666,0.8916666666666666,3.5142857142857147,5.075,4.84,4.042857142857143,1.46,5.875,3.8714285714285714,4.96,2.5272727272727273,1.9538461538461538,1.9363636363636365,4.5,7.075,0.8176470588235294,1.92,1.4095238095238096,1.9714285714285715,1.67,7.24,4.4799999999999995,1.61,0.8400000000000001,2.557142857142857,6.25,1.2650000000000001,4.0,2.0300000000000002,2.18,1.7600000000000002,5.16,0.4782608695652174,0.35000000000000003,1.4555555555555555,1.6909090909090911,0.861904761904762,1.9666666666666666,2.25,4.6571428571428575,3.96,4.75,5.575,0.7545454545454546,3.08,0.3826086956521739,2.375,0.605,2.1333333333333333,1.34,0.6333333333333333,4.95,2.12,1.8714285714285714,0.7666666666666666,0.8333333333333334,0.8222222222222223,2.1333333333333333,0.38571428571428573,2.75,0.74375,1.29,1.5142857142857142,1.25,2.125,1.0777777777777777,3.12,1.72,2.9,2.16,0.3235294117647059,1.4166666666666667,1.64,2.7,1.04,7.76,2.2944444444444443,2.3666666666666667,3.3636363636363638,2.0823529411764703,10.75,9.45,2.983333333333333,3.0,2.0166666666666666,5.3,2.9846153846153842,6.75,5.866666666666667,6.216666666666666,6.083333333333333,3.4,2.3133333333333335,6.633333333333333,8.75,3.7299999999999995,6.666666666666667,8.875,1.7833333333333334,1.9888888888888887,2.1,6.7,4.6875,4.3875,5.385714285714286,1.8833333333333333,5.283333333333333,2.0647058823529414,6.416666666666667,3.07,1.838888888888889,3.9166666666666665,5.3,2.052941176470588,2.9545454545454546,2.690909090909091,5.55,4.5,4.0,2.2454545454545456,2.5307692307692307,2.207692307692308,7.075,8.75,2.8,7.4,3.033333333333333,2.2600000000000002,5.2,2.6818181818181817,7.24,8.325,3.409090909090909,2.3636363636363638,1.3599999999999999,1.625,7.75,1.9888888888888887,5.133333333333334,4.166666666666667,4.720000000000001,2.772727272727273,4.4399999999999995,1.0666666666666667,5.416666666666667,4.2,5.083333333333333,2.290909090909091,1.5615384615384615,4.5,1.661111111111111,4.416666666666667,1.7333333333333334,2.423076923076923,1.5055555555555555,4.366666666666666,6.279999999999999,2.12,1.70625,1.425,4.416666666666667,4.571428571428571,1.8636363636363635,1.1384615384615384,3.283333333333333,3.783333333333333,5.125,3.7,6.2,1.6375,0.85625,2.95,3.3666666666666667,1.1125,2.0,3.3000000000000003,2.7545454545454544,1.911111111111111,0.58125,1.2750000000000001,1.0055555555555555,3.216666666666667,1.6818181818181819,0.9588235294117647,2.585714285714286,0.8666666666666667,5.75,4.75,1.1214285714285714,0.94,2.6399999999999997,3.4333333333333336,0.7411764705882353,2.5100000000000002,3.2,1.8,6.25,0.7647058823529411,0.9529411764705882,0.8111111111111111,2.0833333333333335,1.55,1.0866666666666667,0.8066666666666666,2.5,0.9142857142857144,0.9307692307692308,2.9499999999999997,0.6749999999999999,1.85,2.08,2.283333333333333,2.0571428571428574,1.0538461538461539,2.25,2.12,1.1333333333333333,0.6615384615384615,0.7214285714285714,0.7444444444444445,1.8833333333333335,2.6666666666666665,1.4666666666666668,1.8833333333333335,1.575,3.4333333333333336,3.5,1.6291666666666667,8.16,1.75,2.5375,2.2866666666666666,2.835714285714286,2.48125,7.88,5.128571428571428,4.883333333333334,7.720000000000001,4.077777777777778,2.5928571428571425,5.76,1.8571428571428572,2.7636363636363637,4.985714285714286,5.583333333333333,2.9250000000000003,5.92,1.5458333333333334,4.383333333333334,9.25,3.3909090909090907,6.75,3.2818181818181817,2.2866666666666666,3.0749999999999997,6.720000000000001,5.25,3.644444444444444,6.56,3.9,1.5625,8.325,2.392857142857143,5.24,7.95,2.6357142857142857,2.9250000000000003,3.822222222222222,3.3777777777777778,6.04,1.88,3.1333333333333333,4.8,2.6083333333333334,1.7545454545454546,3.875,5.84,5.64,7.0,7.325,4.12,6.36,7.040000000000001,1.7533333333333334,5.2,1.8,3.5181818181818185,1.9466666666666665,5.88,6.08,3.6285714285714286,3.9166666666666665,4.4,4.328571428571428,5.4799999999999995,8.125,1.45625,5.416666666666667,1.4285714285714286,7.875,2.7363636363636363,3.3,1.5214285714285716,1.2750000000000001,0.8666666666666667,1.6714285714285713,5.96,6.0,1.51875,1.4357142857142857,1.0291666666666666,6.875,8.2,4.833333333333333,1.9181818181818182,5.325,2.15,1.55625,3.6142857142857143,0.9761904761904762,7.45,1.1875,1.075,1.2066666666666668,4.76,5.4799999999999995,3.6799999999999997,1.6857142857142857,0.691304347826087,2.0,6.04,4.25,1.4400000000000002,5.075,2.6714285714285713,0.8636363636363636,1.275,1.9300000000000002,4.325,1.1428571428571428,3.1,3.6799999999999997,5.12,2.4,2.4,1.6666666666666667,1.1142857142857143,2.2,4.0,0.6705882352941177,1.3363636363636362,0.6636363636363636,0.9,2.3600000000000003,1.7,1.8399999999999999,0.8,3.575,3.16,0.48636363636363633,5.125,0.4947368421052632,0.95625,0.9222222222222223,1.875,1.75,2.2800000000000002,0.475,1.4222222222222223,3.233333333333333,0.8571428571428571,0.79,3.16,2.625,5.385714285714286,5.966666666666666,9.075,3.108333333333333,3.023076923076923,7.4,1.7428571428571429,1.7285714285714284,3.4222222222222225,2.0842105263157897,2.388235294117647,1.9210526315789473,8.95,7.840000000000001,1.8285714285714285,2.323529411764706,10.0,5.328571428571428,3.55,8.75,2.8307692307692305,9.75,6.6,2.1705882352941175,3.5545454545454547,1.911764705882353,5.666666666666667,1.905263157894737,7.7,3.409090909090909,2.85,4.628571428571428,3.4545454545454546,5.514285714285714,9.0,4.085714285714286,5.4,5.7,8.2,1.6047619047619048,3.28,9.125,9.325,7.040000000000001,4.328571428571428,2.0727272727272728,7.875,2.2411764705882353,6.44,5.825,2.2545454545454544,5.12,4.8,6.840000000000001,2.0153846153846153,4.866666666666666,4.333333333333333,8.575,1.4952380952380953,5.88,2.292307692307692,1.361904761904762,3.3,1.8105263157894735,2.3666666666666667,3.4444444444444446,1.2473684210526315,2.6333333333333333,1.380952380952381,5.95,1.4384615384615385,3.2454545454545456,8.25,5.3,4.285714285714286,1.0952380952380953,6.12,2.68,4.771428571428571,1.8923076923076925,1.1263157894736842,1.6705882352941175,1.54375,2.3285714285714287,1.2736842105263158,1.1904761904761905,2.875,4.5,0.8941176470588235,1.9357142857142857,5.76,8.2,2.46,8.0,4.76,2.283333333333333,4.24,5.125,5.633333333333333,1.65,2.5714285714285716,1.1571428571428573,3.1,1.19,1.06,1.3153846153846156,1.8818181818181818,0.8761904761904761,0.8722222222222222,4.075,5.085714285714286,1.7899999999999998,3.625,3.325,1.4384615384615385,3.125,0.9470588235294118,1.1833333333333333,3.56,1.4666666666666668,4.333333333333333,2.7199999999999998,1.0421052631578949,3.04,1.0727272727272728,3.0,1.7100000000000002,0.9285714285714286,0.8846153846153846,0.8400000000000001,1.9857142857142858,0.5882352941176471,3.375,0.5736842105263158,2.2333333333333334,1.5333333333333332,3.1,4.566666666666666,4.7,0.7230769230769231,1.25,1.3333333333333333,0.43333333333333335,1.7571428571428573,1.9000000000000001,2.5,5.728571428571429,6.883333333333333,3.3666666666666667,3.46,7.4,8.120000000000001,1.8142857142857143,7.8,3.45,2.35625,2.9545454545454546,1.8363636363636362,2.1473684210526316,7.0,1.7434782608695654,6.216666666666666,4.011111111111111,3.0416666666666665,6.666666666666667,3.9777777777777774,7.0,1.7100000000000002,7.44,2.65,3.227272727272727,7.2,7.32,1.7210526315789476,2.463636363636364,5.76,3.3200000000000003,1.7260869565217392,6.0,5.3428571428571425,7.325,1.6545454545454545,8.5,6.68,6.640000000000001,6.92,3.1090909090909093,9.625,6.4799999999999995,5.45,1.8444444444444446,5.12,1.7777777777777777,2.8600000000000003,5.4799999999999995,4.8,4.757142857142857,1.2608695652173914,1.3666666666666667,3.966666666666667,1.6736842105263159,2.7916666666666665,4.68,3.3363636363636364,3.016666666666667,2.9899999999999998,1.4590909090909092,1.7222222222222223,1.5045454545454546,5.279999999999999,5.528571428571429,6.25,5.825,2.5272727272727273,1.7555555555555555,6.333333333333333,0.8636363636363636,2.7,6.625,5.825,3.05,4.2,2.2083333333333335,6.825,0.915,6.4799999999999995,3.7,5.68,1.0047619047619047,1.5368421052631578,2.3285714285714287,1.925,0.8555555555555556,1.0473684210526315,2.92,1.3583333333333334,1.0304347826086957,4.4399999999999995,0.6849999999999999,2.966666666666667,1.3444444444444443,4.64,2.6,4.4799999999999995,3.5833333333333335,1.0916666666666666,1.0411764705882351,3.575,3.3200000000000003,5.84,3.3666666666666667,3.08,3.96,0.9733333333333333,3.0500000000000003,1.9,3.814285714285714,1.5250000000000001,3.5200000000000005,5.5200000000000005,1.1176470588235294,1.9142857142857144,6.0,1.0333333333333334,1.425,1.3777777777777778,3.6799999999999997,0.8416666666666667,1.2869565217391306,1.4333333333333333,1.6800000000000002,0.5499999999999999,4.45,1.2666666666666666,2.2800000000000002,2.68,1.2,3.0,1.0636363636363635,1.8800000000000001,1.0571428571428572,0.5111111111111111,0.9,1.75,2.2399999999999998,1.44,0.7428571428571429,2.075,0.6375,3.108333333333333,2.453333333333333,6.840000000000001,2.176470588235294,1.5772727272727274,4.177777777777778,6.55,11.0,1.7083333333333333,6.383333333333333,6.3,3.85,3.66,1.5958333333333332,7.216666666666666,6.5,6.166666666666667,1.9388888888888889,10.625,7.0,8.120000000000001,3.3666666666666667,7.24,9.575,3.216666666666667,1.6363636363636365,2.975,3.3249999999999997,5.95,2.3461538461538463,2.6538461538461537,4.716666666666667,6.033333333333334,1.25,3.233333333333333,1.5863636363636362,1.723809523809524,2.308333333333333,7.4799999999999995,5.533333333333334,1.8944444444444446,2.772727272727273,4.866666666666666,8.25,6.7,1.5444444444444445,8.7,6.24,6.4,6.88,2.9615384615384617,1.6933333333333331,2.058333333333333,1.5391304347826087,5.45,5.466666666666666,6.12,2.1222222222222222,3.6166666666666667,5.383333333333333,1.6166666666666667,1.8923076923076925,6.283333333333334,2.2800000000000002,1.6333333333333333,2.066666666666667,2.308333333333333,2.183333333333333,4.95,6.125,4.4799999999999995,4.633333333333334,2.2083333333333335,4.88,2.269230769230769,3.6166666666666667,3.4799999999999995,6.16,3.6166666666666667,4.833333333333333,1.8166666666666667,1.411111111111111,1.1375,2.216666666666667,1.1043478260869564,3.3000000000000003,3.9200000000000004,2.1166666666666667,5.4799999999999995,1.4545454545454546,1.3055555555555556,3.25,1.5722222222222222,1.3647058823529412,1.6800000000000002,0.9249999999999999,7.075,4.5,3.3200000000000003,5.216666666666667,2.4,1.5333333333333332,2.6,2.3000000000000003,0.9272727272727272,0.9384615384615385,1.7,3.5833333333333335,1.0263157894736843,4.32,0.5375,3.3333333333333335,1.0999999999999999,1.375,2.16,0.5375,0.723529411764706,1.7111111111111112,3.1166666666666667,1.3333333333333333,4.32,1.0153846153846153,0.5944444444444444,3.44,3.04,1.6666666666666667,2.7600000000000002,2.3600000000000003,4.5200000000000005,0.7071428571428572,3.75,0.975,2.4166666666666665,0.7666666666666667,0.7555555555555555,1.75,1.6888888888888889,1.55,1.55,1.0454545454545454,0.4875,1.8,0.475,2.88,1.375,1.52,1.0,3.790909090909091,7.959999999999999,2.9153846153846152,1.975,6.383333333333333,3.8545454545454545,3.6636363636363636,5.514285714285714,2.0,1.8045454545454547,2.0,7.4799999999999995,2.41875,6.92,4.144444444444444,7.68,6.416666666666667,9.825,8.28,7.6,1.8800000000000001,2.375,6.68,7.56,3.5,3.527272727272727,3.1181818181818177,7.279999999999999,4.185714285714286,2.769230769230769,9.5,7.2,6.116666666666667,1.608695652173913,7.640000000000001,2.2625,2.6153846153846154,6.216666666666666,3.3,9.95,4.957142857142857,3.2363636363636363,6.8,7.08,1.7,3.19,1.4849999999999999,1.6350000000000002,4.366666666666666,1.85,1.7850000000000001,1.3863636363636365,1.3130434782608695,1.51875,1.33,7.32,5.5,1.3105263157894735,5.96,4.55,4.014285714285714,1.6800000000000002,5.32,4.633333333333334,7.325,2.9181818181818184,1.676923076923077,5.96,7.5200000000000005,3.957142857142857,4.279999999999999,2.5500000000000003,7.640000000000001,1.2217391304347827,1.1304347826086956,5.2,3.7285714285714286,0.7913043478260869,2.7375,5.083333333333333,3.28,6.5,5.92,4.2,6.433333333333334,3.6399999999999997,2.2636363636363637,4.0,1.045,3.6999999999999997,1.63125,4.279999999999999,2.857142857142857,1.4454545454545455,0.9,1.325,3.56,1.545,2.414285714285714,2.8000000000000003,1.9230769230769231,2.463636363636364,1.5090909090909093,3.0,6.325,1.0615384615384615,3.72,3.6333333333333333,1.1166666666666667,1.3923076923076925,2.988888888888889,1.18,7.375,2.4272727272727272,1.8399999999999999,1.3,1.1,3.3333333333333335,3.6799999999999997,1.3,1.55,0.86,1.75,2.1166666666666667,0.61,1.225,0.49444444444444446,0.6842105263157895,2.48,1.8181818181818181,1.1,2.875,1.6,0.3952380952380953,1.3875,0.46,0.8583333333333334,2.575,2.75,3.075,1.9600000000000002,2.5],\"xbins\":{\"end\":46,\"size\":1,\"start\":0},\"type\":\"histogram\",\"opacity\":0.5}],                        {\"template\":{\"data\":{\"histogram2dcontour\":[{\"type\":\"histogram2dcontour\",\"colorbar\":{\"outlinewidth\":0,\"ticks\":\"\"},\"colorscale\":[[0.0,\"#0d0887\"],[0.1111111111111111,\"#46039f\"],[0.2222222222222222,\"#7201a8\"],[0.3333333333333333,\"#9c179e\"],[0.4444444444444444,\"#bd3786\"],[0.5555555555555556,\"#d8576b\"],[0.6666666666666666,\"#ed7953\"],[0.7777777777777778,\"#fb9f3a\"],[0.8888888888888888,\"#fdca26\"],[1.0,\"#f0f921\"]]}],\"choropleth\":[{\"type\":\"choropleth\",\"colorbar\":{\"outlinewidth\":0,\"ticks\":\"\"}}],\"histogram2d\":[{\"type\":\"histogram2d\",\"colorbar\":{\"outlinewidth\":0,\"ticks\":\"\"},\"colorscale\":[[0.0,\"#0d0887\"],[0.1111111111111111,\"#46039f\"],[0.2222222222222222,\"#7201a8\"],[0.3333333333333333,\"#9c179e\"],[0.4444444444444444,\"#bd3786\"],[0.5555555555555556,\"#d8576b\"],[0.6666666666666666,\"#ed7953\"],[0.7777777777777778,\"#fb9f3a\"],[0.8888888888888888,\"#fdca26\"],[1.0,\"#f0f921\"]]}],\"heatmap\":[{\"type\":\"heatmap\",\"colorbar\":{\"outlinewidth\":0,\"ticks\":\"\"},\"colorscale\":[[0.0,\"#0d0887\"],[0.1111111111111111,\"#46039f\"],[0.2222222222222222,\"#7201a8\"],[0.3333333333333333,\"#9c179e\"],[0.4444444444444444,\"#bd3786\"],[0.5555555555555556,\"#d8576b\"],[0.6666666666666666,\"#ed7953\"],[0.7777777777777778,\"#fb9f3a\"],[0.8888888888888888,\"#fdca26\"],[1.0,\"#f0f921\"]]}],\"heatmapgl\":[{\"type\":\"heatmapgl\",\"colorbar\":{\"outlinewidth\":0,\"ticks\":\"\"},\"colorscale\":[[0.0,\"#0d0887\"],[0.1111111111111111,\"#46039f\"],[0.2222222222222222,\"#7201a8\"],[0.3333333333333333,\"#9c179e\"],[0.4444444444444444,\"#bd3786\"],[0.5555555555555556,\"#d8576b\"],[0.6666666666666666,\"#ed7953\"],[0.7777777777777778,\"#fb9f3a\"],[0.8888888888888888,\"#fdca26\"],[1.0,\"#f0f921\"]]}],\"contourcarpet\":[{\"type\":\"contourcarpet\",\"colorbar\":{\"outlinewidth\":0,\"ticks\":\"\"}}],\"contour\":[{\"type\":\"contour\",\"colorbar\":{\"outlinewidth\":0,\"ticks\":\"\"},\"colorscale\":[[0.0,\"#0d0887\"],[0.1111111111111111,\"#46039f\"],[0.2222222222222222,\"#7201a8\"],[0.3333333333333333,\"#9c179e\"],[0.4444444444444444,\"#bd3786\"],[0.5555555555555556,\"#d8576b\"],[0.6666666666666666,\"#ed7953\"],[0.7777777777777778,\"#fb9f3a\"],[0.8888888888888888,\"#fdca26\"],[1.0,\"#f0f921\"]]}],\"surface\":[{\"type\":\"surface\",\"colorbar\":{\"outlinewidth\":0,\"ticks\":\"\"},\"colorscale\":[[0.0,\"#0d0887\"],[0.1111111111111111,\"#46039f\"],[0.2222222222222222,\"#7201a8\"],[0.3333333333333333,\"#9c179e\"],[0.4444444444444444,\"#bd3786\"],[0.5555555555555556,\"#d8576b\"],[0.6666666666666666,\"#ed7953\"],[0.7777777777777778,\"#fb9f3a\"],[0.8888888888888888,\"#fdca26\"],[1.0,\"#f0f921\"]]}],\"mesh3d\":[{\"type\":\"mesh3d\",\"colorbar\":{\"outlinewidth\":0,\"ticks\":\"\"}}],\"scatter\":[{\"fillpattern\":{\"fillmode\":\"overlay\",\"size\":10,\"solidity\":0.2},\"type\":\"scatter\"}],\"parcoords\":[{\"type\":\"parcoords\",\"line\":{\"colorbar\":{\"outlinewidth\":0,\"ticks\":\"\"}}}],\"scatterpolargl\":[{\"type\":\"scatterpolargl\",\"marker\":{\"colorbar\":{\"outlinewidth\":0,\"ticks\":\"\"}}}],\"bar\":[{\"error_x\":{\"color\":\"#2a3f5f\"},\"error_y\":{\"color\":\"#2a3f5f\"},\"marker\":{\"line\":{\"color\":\"#E5ECF6\",\"width\":0.5},\"pattern\":{\"fillmode\":\"overlay\",\"size\":10,\"solidity\":0.2}},\"type\":\"bar\"}],\"scattergeo\":[{\"type\":\"scattergeo\",\"marker\":{\"colorbar\":{\"outlinewidth\":0,\"ticks\":\"\"}}}],\"scatterpolar\":[{\"type\":\"scatterpolar\",\"marker\":{\"colorbar\":{\"outlinewidth\":0,\"ticks\":\"\"}}}],\"histogram\":[{\"marker\":{\"pattern\":{\"fillmode\":\"overlay\",\"size\":10,\"solidity\":0.2}},\"type\":\"histogram\"}],\"scattergl\":[{\"type\":\"scattergl\",\"marker\":{\"colorbar\":{\"outlinewidth\":0,\"ticks\":\"\"}}}],\"scatter3d\":[{\"type\":\"scatter3d\",\"line\":{\"colorbar\":{\"outlinewidth\":0,\"ticks\":\"\"}},\"marker\":{\"colorbar\":{\"outlinewidth\":0,\"ticks\":\"\"}}}],\"scattermapbox\":[{\"type\":\"scattermapbox\",\"marker\":{\"colorbar\":{\"outlinewidth\":0,\"ticks\":\"\"}}}],\"scatterternary\":[{\"type\":\"scatterternary\",\"marker\":{\"colorbar\":{\"outlinewidth\":0,\"ticks\":\"\"}}}],\"scattercarpet\":[{\"type\":\"scattercarpet\",\"marker\":{\"colorbar\":{\"outlinewidth\":0,\"ticks\":\"\"}}}],\"carpet\":[{\"aaxis\":{\"endlinecolor\":\"#2a3f5f\",\"gridcolor\":\"white\",\"linecolor\":\"white\",\"minorgridcolor\":\"white\",\"startlinecolor\":\"#2a3f5f\"},\"baxis\":{\"endlinecolor\":\"#2a3f5f\",\"gridcolor\":\"white\",\"linecolor\":\"white\",\"minorgridcolor\":\"white\",\"startlinecolor\":\"#2a3f5f\"},\"type\":\"carpet\"}],\"table\":[{\"cells\":{\"fill\":{\"color\":\"#EBF0F8\"},\"line\":{\"color\":\"white\"}},\"header\":{\"fill\":{\"color\":\"#C8D4E3\"},\"line\":{\"color\":\"white\"}},\"type\":\"table\"}],\"barpolar\":[{\"marker\":{\"line\":{\"color\":\"#E5ECF6\",\"width\":0.5},\"pattern\":{\"fillmode\":\"overlay\",\"size\":10,\"solidity\":0.2}},\"type\":\"barpolar\"}],\"pie\":[{\"automargin\":true,\"type\":\"pie\"}]},\"layout\":{\"autotypenumbers\":\"strict\",\"colorway\":[\"#636efa\",\"#EF553B\",\"#00cc96\",\"#ab63fa\",\"#FFA15A\",\"#19d3f3\",\"#FF6692\",\"#B6E880\",\"#FF97FF\",\"#FECB52\"],\"font\":{\"color\":\"#2a3f5f\"},\"hovermode\":\"closest\",\"hoverlabel\":{\"align\":\"left\"},\"paper_bgcolor\":\"white\",\"plot_bgcolor\":\"#E5ECF6\",\"polar\":{\"bgcolor\":\"#E5ECF6\",\"angularaxis\":{\"gridcolor\":\"white\",\"linecolor\":\"white\",\"ticks\":\"\"},\"radialaxis\":{\"gridcolor\":\"white\",\"linecolor\":\"white\",\"ticks\":\"\"}},\"ternary\":{\"bgcolor\":\"#E5ECF6\",\"aaxis\":{\"gridcolor\":\"white\",\"linecolor\":\"white\",\"ticks\":\"\"},\"baxis\":{\"gridcolor\":\"white\",\"linecolor\":\"white\",\"ticks\":\"\"},\"caxis\":{\"gridcolor\":\"white\",\"linecolor\":\"white\",\"ticks\":\"\"}},\"coloraxis\":{\"colorbar\":{\"outlinewidth\":0,\"ticks\":\"\"}},\"colorscale\":{\"sequential\":[[0.0,\"#0d0887\"],[0.1111111111111111,\"#46039f\"],[0.2222222222222222,\"#7201a8\"],[0.3333333333333333,\"#9c179e\"],[0.4444444444444444,\"#bd3786\"],[0.5555555555555556,\"#d8576b\"],[0.6666666666666666,\"#ed7953\"],[0.7777777777777778,\"#fb9f3a\"],[0.8888888888888888,\"#fdca26\"],[1.0,\"#f0f921\"]],\"sequentialminus\":[[0.0,\"#0d0887\"],[0.1111111111111111,\"#46039f\"],[0.2222222222222222,\"#7201a8\"],[0.3333333333333333,\"#9c179e\"],[0.4444444444444444,\"#bd3786\"],[0.5555555555555556,\"#d8576b\"],[0.6666666666666666,\"#ed7953\"],[0.7777777777777778,\"#fb9f3a\"],[0.8888888888888888,\"#fdca26\"],[1.0,\"#f0f921\"]],\"diverging\":[[0,\"#8e0152\"],[0.1,\"#c51b7d\"],[0.2,\"#de77ae\"],[0.3,\"#f1b6da\"],[0.4,\"#fde0ef\"],[0.5,\"#f7f7f7\"],[0.6,\"#e6f5d0\"],[0.7,\"#b8e186\"],[0.8,\"#7fbc41\"],[0.9,\"#4d9221\"],[1,\"#276419\"]]},\"xaxis\":{\"gridcolor\":\"white\",\"linecolor\":\"white\",\"ticks\":\"\",\"title\":{\"standoff\":15},\"zerolinecolor\":\"white\",\"automargin\":true,\"zerolinewidth\":2},\"yaxis\":{\"gridcolor\":\"white\",\"linecolor\":\"white\",\"ticks\":\"\",\"title\":{\"standoff\":15},\"zerolinecolor\":\"white\",\"automargin\":true,\"zerolinewidth\":2},\"scene\":{\"xaxis\":{\"backgroundcolor\":\"#E5ECF6\",\"gridcolor\":\"white\",\"linecolor\":\"white\",\"showbackground\":true,\"ticks\":\"\",\"zerolinecolor\":\"white\",\"gridwidth\":2},\"yaxis\":{\"backgroundcolor\":\"#E5ECF6\",\"gridcolor\":\"white\",\"linecolor\":\"white\",\"showbackground\":true,\"ticks\":\"\",\"zerolinecolor\":\"white\",\"gridwidth\":2},\"zaxis\":{\"backgroundcolor\":\"#E5ECF6\",\"gridcolor\":\"white\",\"linecolor\":\"white\",\"showbackground\":true,\"ticks\":\"\",\"zerolinecolor\":\"white\",\"gridwidth\":2}},\"shapedefaults\":{\"line\":{\"color\":\"#2a3f5f\"}},\"annotationdefaults\":{\"arrowcolor\":\"#2a3f5f\",\"arrowhead\":0,\"arrowwidth\":1},\"geo\":{\"bgcolor\":\"white\",\"landcolor\":\"#E5ECF6\",\"subunitcolor\":\"white\",\"showland\":true,\"showlakes\":true,\"lakecolor\":\"white\"},\"title\":{\"x\":0.05},\"mapbox\":{\"style\":\"light\"}}},\"barmode\":\"overlay\"},                        {\"responsive\": true}                    ).then(function(){\n",
       "                            \n",
       "var gd = document.getElementById('0d50da26-81b7-45cf-9a80-4183ed3d6cb7');\n",
       "var x = new MutationObserver(function (mutations, observer) {{\n",
       "        var display = window.getComputedStyle(gd).display;\n",
       "        if (!display || display === 'none') {{\n",
       "            console.log([gd, 'removed!']);\n",
       "            Plotly.purge(gd);\n",
       "            observer.disconnect();\n",
       "        }}\n",
       "}});\n",
       "\n",
       "// Listen for the removal of the full notebook cells\n",
       "var notebookContainer = gd.closest('#notebook-container');\n",
       "if (notebookContainer) {{\n",
       "    x.observe(notebookContainer, {childList: true});\n",
       "}}\n",
       "\n",
       "// Listen for the clearing of the current output cell\n",
       "var outputEl = gd.closest('.output');\n",
       "if (outputEl) {{\n",
       "    x.observe(outputEl, {childList: true});\n",
       "}}\n",
       "\n",
       "                        })                };                });            </script>        </div>"
      ]
     },
     "metadata": {},
     "output_type": "display_data"
    }
   ],
   "source": [
    "fig = go.Figure()\n",
    "fig.add_trace(go.Histogram(x=hist_data(rs_df,50,5), histnorm='percent', name='RS',\n",
    "                           xbins={'start':0,'end':46,'size':1}))\n",
    "fig.add_trace(go.Histogram(x=hist_data(playoffs_df,5,1), histnorm='percent',\n",
    "                           name='Playoffs', xbins={'start':0,'end':46,'size':1}))\n",
    "fig.update_layout(barmode='overlay')\n",
    "fig.update_traces(opacity=0.5)\n",
    "fig.show()"
   ]
  },
  {
   "cell_type": "code",
   "execution_count": 27,
   "id": "44b28e12",
   "metadata": {},
   "outputs": [
    {
     "data": {
      "text/plain": [
       "0.0"
      ]
     },
     "execution_count": 27,
     "metadata": {},
     "output_type": "execute_result"
    }
   ],
   "source": [
    "((hist_data(playoffs_df,5,1)>=12)&(hist_data(playoffs_df,5,1)<=34)).mean()"
   ]
  },
  {
   "cell_type": "markdown",
   "id": "689e9f33",
   "metadata": {},
   "source": [
    "# How has the game changed over the past 10 years?"
   ]
  },
  {
   "cell_type": "code",
   "execution_count": 28,
   "id": "0459bc89",
   "metadata": {},
   "outputs": [
    {
     "data": {
      "text/html": [
       "<div>\n",
       "<style scoped>\n",
       "    .dataframe tbody tr th:only-of-type {\n",
       "        vertical-align: middle;\n",
       "    }\n",
       "\n",
       "    .dataframe tbody tr th {\n",
       "        vertical-align: top;\n",
       "    }\n",
       "\n",
       "    .dataframe thead th {\n",
       "        text-align: right;\n",
       "    }\n",
       "</style>\n",
       "<table border=\"1\" class=\"dataframe\">\n",
       "  <thead>\n",
       "    <tr style=\"text-align: right;\">\n",
       "      <th></th>\n",
       "      <th>season_start_year</th>\n",
       "      <th>MIN</th>\n",
       "      <th>POSS_est</th>\n",
       "      <th>FGM</th>\n",
       "      <th>FGA</th>\n",
       "      <th>FG3M</th>\n",
       "      <th>FG3A</th>\n",
       "      <th>FTM</th>\n",
       "      <th>FTA</th>\n",
       "      <th>OREB</th>\n",
       "      <th>DREB</th>\n",
       "      <th>REB</th>\n",
       "      <th>AST</th>\n",
       "      <th>STL</th>\n",
       "      <th>BLK</th>\n",
       "      <th>TOV</th>\n",
       "      <th>PTS</th>\n",
       "      <th>FG%</th>\n",
       "      <th>3PT%</th>\n",
       "      <th>FT%</th>\n",
       "      <th>AST%</th>\n",
       "      <th>FG3A%</th>\n",
       "      <th>PTS/FGA</th>\n",
       "      <th>FG3M/FGM</th>\n",
       "      <th>FTA/FGA</th>\n",
       "      <th>TRU%</th>\n",
       "      <th>AST_TOV</th>\n",
       "    </tr>\n",
       "  </thead>\n",
       "  <tbody>\n",
       "    <tr>\n",
       "      <th>0</th>\n",
       "      <td>2012</td>\n",
       "      <td>8404.6</td>\n",
       "      <td>3348.172</td>\n",
       "      <td>1298.8</td>\n",
       "      <td>2874.7</td>\n",
       "      <td>253.5</td>\n",
       "      <td>710.2</td>\n",
       "      <td>626.2</td>\n",
       "      <td>831.3</td>\n",
       "      <td>377.2</td>\n",
       "      <td>1080.8</td>\n",
       "      <td>1456.9</td>\n",
       "      <td>737.0</td>\n",
       "      <td>260.6</td>\n",
       "      <td>174.4</td>\n",
       "      <td>484.9</td>\n",
       "      <td>3476.4</td>\n",
       "      <td>0.451804</td>\n",
       "      <td>0.356942</td>\n",
       "      <td>0.753278</td>\n",
       "      <td>0.567447</td>\n",
       "      <td>0.247052</td>\n",
       "      <td>1.209309</td>\n",
       "      <td>0.195180</td>\n",
       "      <td>0.289178</td>\n",
       "      <td>0.531630</td>\n",
       "      <td>1.519901</td>\n",
       "    </tr>\n",
       "    <tr>\n",
       "      <th>1</th>\n",
       "      <td>2013</td>\n",
       "      <td>10557.4</td>\n",
       "      <td>4206.136</td>\n",
       "      <td>1641.1</td>\n",
       "      <td>3613.3</td>\n",
       "      <td>342.7</td>\n",
       "      <td>956.5</td>\n",
       "      <td>815.1</td>\n",
       "      <td>1071.9</td>\n",
       "      <td>467.9</td>\n",
       "      <td>1368.1</td>\n",
       "      <td>1835.6</td>\n",
       "      <td>934.4</td>\n",
       "      <td>321.3</td>\n",
       "      <td>199.8</td>\n",
       "      <td>589.1</td>\n",
       "      <td>4435.7</td>\n",
       "      <td>0.454183</td>\n",
       "      <td>0.358285</td>\n",
       "      <td>0.760425</td>\n",
       "      <td>0.569374</td>\n",
       "      <td>0.264716</td>\n",
       "      <td>1.227604</td>\n",
       "      <td>0.208823</td>\n",
       "      <td>0.296654</td>\n",
       "      <td>0.537993</td>\n",
       "      <td>1.586148</td>\n",
       "    </tr>\n",
       "    <tr>\n",
       "      <th>2</th>\n",
       "      <td>2014</td>\n",
       "      <td>10453.0</td>\n",
       "      <td>4201.076</td>\n",
       "      <td>1633.5</td>\n",
       "      <td>3648.9</td>\n",
       "      <td>345.5</td>\n",
       "      <td>987.5</td>\n",
       "      <td>766.6</td>\n",
       "      <td>1022.9</td>\n",
       "      <td>475.5</td>\n",
       "      <td>1426.9</td>\n",
       "      <td>1898.5</td>\n",
       "      <td>946.3</td>\n",
       "      <td>330.7</td>\n",
       "      <td>214.3</td>\n",
       "      <td>577.6</td>\n",
       "      <td>4375.1</td>\n",
       "      <td>0.447669</td>\n",
       "      <td>0.349873</td>\n",
       "      <td>0.749438</td>\n",
       "      <td>0.579308</td>\n",
       "      <td>0.270630</td>\n",
       "      <td>1.199019</td>\n",
       "      <td>0.211509</td>\n",
       "      <td>0.280331</td>\n",
       "      <td>0.529061</td>\n",
       "      <td>1.638331</td>\n",
       "    </tr>\n",
       "    <tr>\n",
       "      <th>3</th>\n",
       "      <td>2015</td>\n",
       "      <td>10432.3</td>\n",
       "      <td>4202.760</td>\n",
       "      <td>1624.2</td>\n",
       "      <td>3638.0</td>\n",
       "      <td>372.1</td>\n",
       "      <td>1060.3</td>\n",
       "      <td>763.5</td>\n",
       "      <td>1014.0</td>\n",
       "      <td>455.3</td>\n",
       "      <td>1434.1</td>\n",
       "      <td>1888.0</td>\n",
       "      <td>916.6</td>\n",
       "      <td>331.4</td>\n",
       "      <td>215.9</td>\n",
       "      <td>573.9</td>\n",
       "      <td>4382.5</td>\n",
       "      <td>0.446454</td>\n",
       "      <td>0.350938</td>\n",
       "      <td>0.752959</td>\n",
       "      <td>0.564339</td>\n",
       "      <td>0.291451</td>\n",
       "      <td>1.204645</td>\n",
       "      <td>0.229097</td>\n",
       "      <td>0.278725</td>\n",
       "      <td>0.531902</td>\n",
       "      <td>1.597142</td>\n",
       "    </tr>\n",
       "    <tr>\n",
       "      <th>4</th>\n",
       "      <td>2016</td>\n",
       "      <td>10489.6</td>\n",
       "      <td>4313.692</td>\n",
       "      <td>1701.7</td>\n",
       "      <td>3713.4</td>\n",
       "      <td>433.3</td>\n",
       "      <td>1211.5</td>\n",
       "      <td>807.5</td>\n",
       "      <td>1039.3</td>\n",
       "      <td>433.4</td>\n",
       "      <td>1432.2</td>\n",
       "      <td>1862.9</td>\n",
       "      <td>982.4</td>\n",
       "      <td>331.6</td>\n",
       "      <td>203.1</td>\n",
       "      <td>576.4</td>\n",
       "      <td>4642.8</td>\n",
       "      <td>0.458259</td>\n",
       "      <td>0.357656</td>\n",
       "      <td>0.776965</td>\n",
       "      <td>0.577305</td>\n",
       "      <td>0.326251</td>\n",
       "      <td>1.250283</td>\n",
       "      <td>0.254628</td>\n",
       "      <td>0.279878</td>\n",
       "      <td>0.551786</td>\n",
       "      <td>1.704372</td>\n",
       "    </tr>\n",
       "    <tr>\n",
       "      <th>5</th>\n",
       "      <td>2017</td>\n",
       "      <td>6293.6</td>\n",
       "      <td>2602.492</td>\n",
       "      <td>1046.6</td>\n",
       "      <td>2250.9</td>\n",
       "      <td>275.0</td>\n",
       "      <td>751.9</td>\n",
       "      <td>440.8</td>\n",
       "      <td>571.8</td>\n",
       "      <td>253.4</td>\n",
       "      <td>880.3</td>\n",
       "      <td>1133.1</td>\n",
       "      <td>605.1</td>\n",
       "      <td>203.0</td>\n",
       "      <td>126.4</td>\n",
       "      <td>353.4</td>\n",
       "      <td>2809.8</td>\n",
       "      <td>0.464970</td>\n",
       "      <td>0.365740</td>\n",
       "      <td>0.770899</td>\n",
       "      <td>0.578158</td>\n",
       "      <td>0.334044</td>\n",
       "      <td>1.248301</td>\n",
       "      <td>0.262756</td>\n",
       "      <td>0.254032</td>\n",
       "      <td>0.556946</td>\n",
       "      <td>1.712224</td>\n",
       "    </tr>\n",
       "    <tr>\n",
       "      <th>6</th>\n",
       "      <td>2018</td>\n",
       "      <td>10152.9</td>\n",
       "      <td>4313.064</td>\n",
       "      <td>1701.1</td>\n",
       "      <td>3745.5</td>\n",
       "      <td>476.6</td>\n",
       "      <td>1357.1</td>\n",
       "      <td>783.9</td>\n",
       "      <td>1010.6</td>\n",
       "      <td>438.7</td>\n",
       "      <td>1458.9</td>\n",
       "      <td>1895.8</td>\n",
       "      <td>1001.9</td>\n",
       "      <td>313.1</td>\n",
       "      <td>204.3</td>\n",
       "      <td>561.6</td>\n",
       "      <td>4659.2</td>\n",
       "      <td>0.454172</td>\n",
       "      <td>0.351190</td>\n",
       "      <td>0.775678</td>\n",
       "      <td>0.588972</td>\n",
       "      <td>0.362328</td>\n",
       "      <td>1.243946</td>\n",
       "      <td>0.280172</td>\n",
       "      <td>0.269817</td>\n",
       "      <td>0.551315</td>\n",
       "      <td>1.784010</td>\n",
       "    </tr>\n",
       "    <tr>\n",
       "      <th>7</th>\n",
       "      <td>2019</td>\n",
       "      <td>10354.7</td>\n",
       "      <td>4459.564</td>\n",
       "      <td>1737.8</td>\n",
       "      <td>3808.3</td>\n",
       "      <td>555.2</td>\n",
       "      <td>1535.2</td>\n",
       "      <td>805.6</td>\n",
       "      <td>1030.6</td>\n",
       "      <td>398.0</td>\n",
       "      <td>1476.4</td>\n",
       "      <td>1873.4</td>\n",
       "      <td>1038.1</td>\n",
       "      <td>316.6</td>\n",
       "      <td>195.3</td>\n",
       "      <td>595.8</td>\n",
       "      <td>4833.1</td>\n",
       "      <td>0.456319</td>\n",
       "      <td>0.361647</td>\n",
       "      <td>0.781681</td>\n",
       "      <td>0.597364</td>\n",
       "      <td>0.403120</td>\n",
       "      <td>1.269096</td>\n",
       "      <td>0.319484</td>\n",
       "      <td>0.270619</td>\n",
       "      <td>0.562271</td>\n",
       "      <td>1.742363</td>\n",
       "    </tr>\n",
       "    <tr>\n",
       "      <th>8</th>\n",
       "      <td>2020</td>\n",
       "      <td>9662.4</td>\n",
       "      <td>4057.904</td>\n",
       "      <td>1654.0</td>\n",
       "      <td>3545.7</td>\n",
       "      <td>508.6</td>\n",
       "      <td>1378.7</td>\n",
       "      <td>710.1</td>\n",
       "      <td>904.1</td>\n",
       "      <td>394.6</td>\n",
       "      <td>1350.5</td>\n",
       "      <td>1745.3</td>\n",
       "      <td>964.4</td>\n",
       "      <td>288.5</td>\n",
       "      <td>182.8</td>\n",
       "      <td>509.0</td>\n",
       "      <td>4525.8</td>\n",
       "      <td>0.466481</td>\n",
       "      <td>0.368898</td>\n",
       "      <td>0.785422</td>\n",
       "      <td>0.583071</td>\n",
       "      <td>0.388837</td>\n",
       "      <td>1.276419</td>\n",
       "      <td>0.307497</td>\n",
       "      <td>0.254985</td>\n",
       "      <td>0.569262</td>\n",
       "      <td>1.894695</td>\n",
       "    </tr>\n",
       "    <tr>\n",
       "      <th>9</th>\n",
       "      <td>2021</td>\n",
       "      <td>9645.7</td>\n",
       "      <td>4051.844</td>\n",
       "      <td>1615.4</td>\n",
       "      <td>3507.5</td>\n",
       "      <td>506.8</td>\n",
       "      <td>1419.9</td>\n",
       "      <td>708.8</td>\n",
       "      <td>905.1</td>\n",
       "      <td>384.1</td>\n",
       "      <td>1339.6</td>\n",
       "      <td>1725.0</td>\n",
       "      <td>977.5</td>\n",
       "      <td>296.1</td>\n",
       "      <td>182.8</td>\n",
       "      <td>530.2</td>\n",
       "      <td>4444.1</td>\n",
       "      <td>0.460556</td>\n",
       "      <td>0.356927</td>\n",
       "      <td>0.783118</td>\n",
       "      <td>0.605113</td>\n",
       "      <td>0.404818</td>\n",
       "      <td>1.267028</td>\n",
       "      <td>0.313730</td>\n",
       "      <td>0.258047</td>\n",
       "      <td>0.564341</td>\n",
       "      <td>1.843644</td>\n",
       "    </tr>\n",
       "    <tr>\n",
       "      <th>10</th>\n",
       "      <td>2022</td>\n",
       "      <td>10101.1</td>\n",
       "      <td>4256.512</td>\n",
       "      <td>1746.8</td>\n",
       "      <td>3714.3</td>\n",
       "      <td>521.1</td>\n",
       "      <td>1452.2</td>\n",
       "      <td>768.9</td>\n",
       "      <td>974.8</td>\n",
       "      <td>431.6</td>\n",
       "      <td>1369.1</td>\n",
       "      <td>1800.1</td>\n",
       "      <td>1040.4</td>\n",
       "      <td>297.4</td>\n",
       "      <td>195.6</td>\n",
       "      <td>544.9</td>\n",
       "      <td>4782.7</td>\n",
       "      <td>0.470290</td>\n",
       "      <td>0.358835</td>\n",
       "      <td>0.788777</td>\n",
       "      <td>0.595603</td>\n",
       "      <td>0.390975</td>\n",
       "      <td>1.287645</td>\n",
       "      <td>0.298317</td>\n",
       "      <td>0.262445</td>\n",
       "      <td>0.572459</td>\n",
       "      <td>1.909341</td>\n",
       "    </tr>\n",
       "  </tbody>\n",
       "</table>\n",
       "</div>"
      ],
      "text/plain": [
       "    season_start_year      MIN  POSS_est     FGM     FGA   FG3M    FG3A  \\\n",
       "0                2012   8404.6  3348.172  1298.8  2874.7  253.5   710.2   \n",
       "1                2013  10557.4  4206.136  1641.1  3613.3  342.7   956.5   \n",
       "2                2014  10453.0  4201.076  1633.5  3648.9  345.5   987.5   \n",
       "3                2015  10432.3  4202.760  1624.2  3638.0  372.1  1060.3   \n",
       "4                2016  10489.6  4313.692  1701.7  3713.4  433.3  1211.5   \n",
       "5                2017   6293.6  2602.492  1046.6  2250.9  275.0   751.9   \n",
       "6                2018  10152.9  4313.064  1701.1  3745.5  476.6  1357.1   \n",
       "7                2019  10354.7  4459.564  1737.8  3808.3  555.2  1535.2   \n",
       "8                2020   9662.4  4057.904  1654.0  3545.7  508.6  1378.7   \n",
       "9                2021   9645.7  4051.844  1615.4  3507.5  506.8  1419.9   \n",
       "10               2022  10101.1  4256.512  1746.8  3714.3  521.1  1452.2   \n",
       "\n",
       "      FTM     FTA   OREB    DREB     REB     AST    STL    BLK    TOV     PTS  \\\n",
       "0   626.2   831.3  377.2  1080.8  1456.9   737.0  260.6  174.4  484.9  3476.4   \n",
       "1   815.1  1071.9  467.9  1368.1  1835.6   934.4  321.3  199.8  589.1  4435.7   \n",
       "2   766.6  1022.9  475.5  1426.9  1898.5   946.3  330.7  214.3  577.6  4375.1   \n",
       "3   763.5  1014.0  455.3  1434.1  1888.0   916.6  331.4  215.9  573.9  4382.5   \n",
       "4   807.5  1039.3  433.4  1432.2  1862.9   982.4  331.6  203.1  576.4  4642.8   \n",
       "5   440.8   571.8  253.4   880.3  1133.1   605.1  203.0  126.4  353.4  2809.8   \n",
       "6   783.9  1010.6  438.7  1458.9  1895.8  1001.9  313.1  204.3  561.6  4659.2   \n",
       "7   805.6  1030.6  398.0  1476.4  1873.4  1038.1  316.6  195.3  595.8  4833.1   \n",
       "8   710.1   904.1  394.6  1350.5  1745.3   964.4  288.5  182.8  509.0  4525.8   \n",
       "9   708.8   905.1  384.1  1339.6  1725.0   977.5  296.1  182.8  530.2  4444.1   \n",
       "10  768.9   974.8  431.6  1369.1  1800.1  1040.4  297.4  195.6  544.9  4782.7   \n",
       "\n",
       "         FG%      3PT%       FT%      AST%     FG3A%   PTS/FGA  FG3M/FGM  \\\n",
       "0   0.451804  0.356942  0.753278  0.567447  0.247052  1.209309  0.195180   \n",
       "1   0.454183  0.358285  0.760425  0.569374  0.264716  1.227604  0.208823   \n",
       "2   0.447669  0.349873  0.749438  0.579308  0.270630  1.199019  0.211509   \n",
       "3   0.446454  0.350938  0.752959  0.564339  0.291451  1.204645  0.229097   \n",
       "4   0.458259  0.357656  0.776965  0.577305  0.326251  1.250283  0.254628   \n",
       "5   0.464970  0.365740  0.770899  0.578158  0.334044  1.248301  0.262756   \n",
       "6   0.454172  0.351190  0.775678  0.588972  0.362328  1.243946  0.280172   \n",
       "7   0.456319  0.361647  0.781681  0.597364  0.403120  1.269096  0.319484   \n",
       "8   0.466481  0.368898  0.785422  0.583071  0.388837  1.276419  0.307497   \n",
       "9   0.460556  0.356927  0.783118  0.605113  0.404818  1.267028  0.313730   \n",
       "10  0.470290  0.358835  0.788777  0.595603  0.390975  1.287645  0.298317   \n",
       "\n",
       "     FTA/FGA      TRU%   AST_TOV  \n",
       "0   0.289178  0.531630  1.519901  \n",
       "1   0.296654  0.537993  1.586148  \n",
       "2   0.280331  0.529061  1.638331  \n",
       "3   0.278725  0.531902  1.597142  \n",
       "4   0.279878  0.551786  1.704372  \n",
       "5   0.254032  0.556946  1.712224  \n",
       "6   0.269817  0.551315  1.784010  \n",
       "7   0.270619  0.562271  1.742363  \n",
       "8   0.254985  0.569262  1.894695  \n",
       "9   0.258047  0.564341  1.843644  \n",
       "10  0.262445  0.572459  1.909341  "
      ]
     },
     "execution_count": 28,
     "metadata": {},
     "output_type": "execute_result"
    }
   ],
   "source": [
    "change_df = data.groupby('season_start_year')[total_cols].sum().reset_index()\n",
    "change_df['POSS_est'] = change_df['FGA']-change_df['OREB']+change_df['TOV']+0.44*change_df['FTA']\n",
    "change_df = change_df[list(change_df.columns[0:2])+['POSS_est']+list(change_df.columns[2:-1])]\n",
    "\n",
    "change_df['FG%'] = change_df['FGM']/change_df['FGA']\n",
    "change_df['3PT%'] = change_df['FG3M']/change_df['FG3A']\n",
    "change_df['FT%'] = change_df['FTM']/change_df['FTA']\n",
    "change_df['AST%'] = change_df['AST']/change_df['FGM']\n",
    "change_df['FG3A%'] = change_df['FG3A']/change_df['FGA']\n",
    "change_df['PTS/FGA'] = change_df['PTS']/change_df['FGA']\n",
    "change_df['FG3M/FGM'] = change_df['FG3M']/change_df['FGM']\n",
    "change_df['FTA/FGA'] = change_df['FTA']/change_df['FGA']\n",
    "change_df['TRU%'] = 0.5*change_df['PTS']/(change_df['FGA']+0.475*change_df['FTA'])\n",
    "change_df['AST_TOV'] = change_df['AST']/change_df['TOV']\n",
    "\n",
    "change_df"
   ]
  },
  {
   "cell_type": "code",
   "execution_count": 29,
   "id": "abdfc9d8",
   "metadata": {},
   "outputs": [
    {
     "data": {
      "application/vnd.plotly.v1+json": {
       "config": {
        "plotlyServerURL": "https://plot.ly"
       },
       "data": [
        {
         "name": "POSS_est",
         "type": "scatter",
         "x": [
          2012,
          2013,
          2014,
          2015,
          2016,
          2017,
          2018,
          2019,
          2020,
          2021,
          2022
         ],
         "y": [
          95.60969945030102,
          95.61754219788965,
          96.45635128671195,
          96.68648332582461,
          98.6964307504576,
          99.24337104359985,
          101.95464941051327,
          103.36324181289656,
          100.79244908097367,
          100.81617300973491,
          101.13382502895725
         ]
        },
        {
         "name": "FGM",
         "type": "scatter",
         "x": [
          2012,
          2013,
          2014,
          2015,
          2016,
          2017,
          2018,
          2019,
          2020,
          2021,
          2022
         ],
         "y": [
          37.08826119030054,
          37.30691268683578,
          37.505022481584234,
          37.3654898727989,
          38.93456375838926,
          39.911020719461035,
          40.21156516857253,
          40.27852086492124,
          41.082960755091904,
          40.193661424261585,
          41.5035986179723
         ]
        },
        {
         "name": "FGA",
         "type": "scatter",
         "x": [
          2012,
          2013,
          2014,
          2015,
          2016,
          2017,
          2018,
          2019,
          2020,
          2021,
          2022
         ],
         "y": [
          82.08933203245842,
          82.14067857616459,
          83.77843681239835,
          83.69391217660535,
          84.96186699206834,
          85.83576967077664,
          88.5382501551281,
          88.2683225974678,
          88.07004470938898,
          87.27204868490622,
          88.25098256625516
         ]
        },
        {
         "name": "FG3M",
         "type": "scatter",
         "x": [
          2012,
          2013,
          2014,
          2015,
          2016,
          2017,
          2018,
          2019,
          2020,
          2021,
          2022
         ],
         "y": [
          7.23889298717369,
          7.790554492583402,
          7.932650913613317,
          8.560336646760543,
          9.913819402074436,
          10.486843777806026,
          11.266140708566027,
          12.868359295778728,
          12.632886239443618,
          12.609971282540407,
          12.381225807090317
         ]
        },
        {
         "name": "FG3A",
         "type": "scatter",
         "x": [
          2012,
          2013,
          2014,
          2015,
          2016,
          2017,
          2018,
          2019,
          2020,
          2021,
          2022
         ],
         "y": [
          20.280322680436903,
          21.74398999753727,
          22.67291686597149,
          24.39270343069122,
          27.71888346552776,
          28.67293758739036,
          32.079898354164825,
          35.582682260229646,
          34.244908097367116,
          35.32931772707009,
          34.503964914712256
         ]
        },
        {
         "name": "FTM",
         "type": "scatter",
         "x": [
          2012,
          2013,
          2014,
          2015,
          2016,
          2017,
          2018,
          2019,
          2020,
          2021,
          2022
         ],
         "y": [
          17.88163624681722,
          18.52956220281509,
          17.60107146273797,
          17.564678929862065,
          18.475442342892006,
          16.809457226388712,
          18.53027213899477,
          18.6721005920017,
          17.63785394932936,
          17.63604507708098,
          18.268901406777477
         ]
        },
        {
         "name": "FTA",
         "type": "scatter",
         "x": [
          2012,
          2013,
          2014,
          2015,
          2016,
          2017,
          2018,
          2019,
          2020,
          2021,
          2022
         ],
         "y": [
          23.738428955571944,
          24.367363176539683,
          23.48569788577442,
          23.327550012940577,
          23.778981086028065,
          21.805008262361763,
          23.88913512395473,
          23.887123721595017,
          22.45653253849975,
          22.52029401702313,
          23.161041866727388
         ]
        },
        {
         "name": "OREB",
         "type": "scatter",
         "x": [
          2012,
          2013,
          2014,
          2015,
          2016,
          2017,
          2018,
          2019,
          2020,
          2021,
          2022
         ],
         "y": [
          10.771244318587438,
          10.636709795972495,
          10.91743996938678,
          10.474392032437718,
          9.916107382550335,
          9.663149866531079,
          10.37023904500192,
          9.224796469236193,
          9.801291604570293,
          9.557004675658584,
          10.254724732949878
         ]
        },
        {
         "name": "DREB",
         "type": "scatter",
         "x": [
          2012,
          2013,
          2014,
          2015,
          2016,
          2017,
          2018,
          2019,
          2020,
          2021,
          2022
         ],
         "y": [
          30.86309877923994,
          31.10083922177809,
          32.7615038744858,
          32.99214938220718,
          32.76845637583893,
          33.56934028219143,
          34.4863044056378,
          34.21982288236259,
          33.544461003477394,
          33.331328985973016,
          32.52952648721426
         ]
        },
        {
         "name": "REB",
         "type": "scatter",
         "x": [
          2012,
          2013,
          2014,
          2015,
          2016,
          2017,
          2018,
          2019,
          2020,
          2021,
          2022
         ],
         "y": [
          41.60293172786332,
          41.72845586981643,
          43.58940017219936,
          43.43433375190514,
          42.62278828553996,
          43.2096097622982,
          44.813994031262006,
          43.42144147102282,
          43.35072031793344,
          42.920679681101426,
          42.7699953470414
         ]
        },
        {
         "name": "AST",
         "type": "scatter",
         "x": [
          2012,
          2013,
          2014,
          2015,
          2016,
          2017,
          2018,
          2019,
          2020,
          2021,
          2022
         ],
         "y": [
          21.04561787592509,
          21.24159357417546,
          21.726968334449438,
          21.086816905188694,
          22.477120195241,
          23.07486970891064,
          23.683479596962442,
          24.060957825914798,
          23.954297069051165,
          24.321718485957472,
          24.71968399481245
         ]
        },
        {
         "name": "STL",
         "type": "scatter",
         "x": [
          2012,
          2013,
          2014,
          2015,
          2016,
          2017,
          2018,
          2019,
          2020,
          2021,
          2022
         ],
         "y": [
          7.441639102396307,
          7.304071078106352,
          7.592844159571415,
          7.624013879968943,
          7.586943258084197,
          7.741197406889539,
          7.4012351150902695,
          7.338116990352207,
          7.165921510183805,
          7.367427973086453,
          7.06616111116611
         ]
        },
        {
         "name": "BLK",
         "type": "scatter",
         "x": [
          2012,
          2013,
          2014,
          2015,
          2016,
          2017,
          2018,
          2019,
          2020,
          2021,
          2022
         ],
         "y": [
          4.980129928848488,
          4.542027393108152,
          4.920309958863484,
          4.966881703938729,
          4.6468883465527755,
          4.820134740053388,
          4.829359099370624,
          4.526640076487006,
          4.540486835568803,
          4.548347968524834,
          4.647414638009721
         ]
        },
        {
         "name": "TOV",
         "type": "scatter",
         "x": [
          2012,
          2013,
          2014,
          2015,
          2016,
          2017,
          2018,
          2019,
          2020,
          2021,
          2022
         ],
         "y": [
          13.846702995978394,
          13.391933620020083,
          13.26164737395963,
          13.202841175963114,
          13.187919463087248,
          13.476547603915085,
          13.275418845847,
          13.809381247163122,
          12.642821659215102,
          13.192199632997088,
          12.946708774291906
         ]
        },
        {
         "name": "PTS",
         "type": "scatter",
         "x": [
          2012,
          2013,
          2014,
          2015,
          2016,
          2017,
          2018,
          2019,
          2020,
          2021,
          2022
         ],
         "y": [
          99.27135140280322,
          100.83619072877792,
          100.45192767626519,
          100.8214871121421,
          106.22635753508236,
          107.14884962501588,
          110.13680820258251,
          112.02101461172221,
          112.41430700447096,
          110.57611163523643,
          113.6359406401283
         ]
        },
        {
         "name": "FG%",
         "type": "scatter",
         "x": [
          2012,
          2013,
          2014,
          2015,
          2016,
          2017,
          2018,
          2019,
          2020,
          2021,
          2022
         ],
         "y": [
          0.012901611016906303,
          0.010324886582026339,
          0.01027844623902662,
          0.010270887815502722,
          0.010484882791616646,
          0.017731138975281457,
          0.010735967205599394,
          0.010576509430696436,
          0.011586699595310352,
          0.011459347519390331,
          0.011174002804827908
         ]
        },
        {
         "name": "3PT%",
         "type": "scatter",
         "x": [
          2012,
          2013,
          2014,
          2015,
          2016,
          2017,
          2018,
          2019,
          2020,
          2021,
          2022
         ],
         "y": [
          0.35694170656153196,
          0.3582854155776268,
          0.349873417721519,
          0.35093841365651235,
          0.35765579859678087,
          0.36574012501662456,
          0.3511900375801342,
          0.361646690984888,
          0.3688982374700805,
          0.35692654412282554,
          0.35883487122985813
         ]
        },
        {
         "name": "FT%",
         "type": "scatter",
         "x": [
          2012,
          2013,
          2014,
          2015,
          2016,
          2017,
          2018,
          2019,
          2020,
          2021,
          2022
         ],
         "y": [
          0.7532779983158908,
          0.7604254128183598,
          0.7494378727148304,
          0.7529585798816568,
          0.7769652650822669,
          0.770898915704792,
          0.7756778151593112,
          0.7816805744226665,
          0.7854219665966155,
          0.7831178875262401,
          0.7887771850636028
         ]
        },
        {
         "name": "AST%",
         "type": "scatter",
         "x": [
          2012,
          2013,
          2014,
          2015,
          2016,
          2017,
          2018,
          2019,
          2020,
          2021,
          2022
         ],
         "y": [
          0.5674468740375732,
          0.569374200231552,
          0.5793082338536883,
          0.5643393670730206,
          0.5773050478932832,
          0.5781578444486911,
          0.5889718417494563,
          0.59736448383013,
          0.5830713422007255,
          0.6051132846353844,
          0.5956033890542707
         ]
        },
        {
         "name": "FG3A%",
         "type": "scatter",
         "x": [
          2012,
          2013,
          2014,
          2015,
          2016,
          2017,
          2018,
          2019,
          2020,
          2021,
          2022
         ],
         "y": [
          0.24705186628169898,
          0.2647164641740237,
          0.27062950478226316,
          0.29145134689389773,
          0.3262508752087036,
          0.3340441601137323,
          0.36232812708583634,
          0.4031195021400625,
          0.38883718306681336,
          0.40481824661439775,
          0.39097541932531027
         ]
        },
        {
         "name": "PTS/FGA",
         "type": "scatter",
         "x": [
          2012,
          2013,
          2014,
          2015,
          2016,
          2017,
          2018,
          2019,
          2020,
          2021,
          2022
         ],
         "y": [
          1.209308797439733,
          1.2276035756787422,
          1.199018882402916,
          1.2046454095656955,
          1.2502827597350137,
          1.2483006797281089,
          1.243946068615672,
          1.2690964472336739,
          1.2764193248159743,
          1.2670277975766215,
          1.287645047519048
         ]
        },
        {
         "name": "FG3M/FGM",
         "type": "scatter",
         "x": [
          2012,
          2013,
          2014,
          2015,
          2016,
          2017,
          2018,
          2019,
          2020,
          2021,
          2022
         ],
         "y": [
          0.19518016630736065,
          0.20882335019194442,
          0.21150902969084787,
          0.22909740179780816,
          0.2546277252159605,
          0.26275558952799544,
          0.2801716536358827,
          0.3194844055702613,
          0.307496977025393,
          0.31373034542528166,
          0.29831692237233803
         ]
        },
        {
         "name": "FTA/FGA",
         "type": "scatter",
         "x": [
          2012,
          2013,
          2014,
          2015,
          2016,
          2017,
          2018,
          2019,
          2020,
          2021,
          2022
         ],
         "y": [
          0.2891780011827321,
          0.29665402817369163,
          0.2803310586752172,
          0.27872457394172623,
          0.2798782786664512,
          0.2540317206450753,
          0.2698171138699773,
          0.27061943649397363,
          0.25498491130101253,
          0.25804704205274415,
          0.2624451444417521
         ]
        },
        {
         "name": "TRU%",
         "type": "scatter",
         "x": [
          2012,
          2013,
          2014,
          2015,
          2016,
          2017,
          2018,
          2019,
          2020,
          2021,
          2022
         ],
         "y": [
          0.5316299479977092,
          0.5379928574070896,
          0.5290611163478567,
          0.5319019819644873,
          0.5517857747706687,
          0.5569463687881689,
          0.5513148039242368,
          0.5622714692397451,
          0.5692618953133186,
          0.5643412663995292,
          0.5724589630218345
         ]
        },
        {
         "name": "AST_TOV",
         "type": "scatter",
         "x": [
          2012,
          2013,
          2014,
          2015,
          2016,
          2017,
          2018,
          2019,
          2020,
          2021,
          2022
         ],
         "y": [
          1.5199010105176325,
          1.5861483619079952,
          1.6383310249307477,
          1.5971423592960448,
          1.7043719639139487,
          1.7122241086587437,
          1.7840099715099713,
          1.7423632091305807,
          1.894695481335953,
          1.8436439079592606,
          1.9093411635162418
         ]
        }
       ],
       "layout": {
        "template": {
         "data": {
          "bar": [
           {
            "error_x": {
             "color": "#2a3f5f"
            },
            "error_y": {
             "color": "#2a3f5f"
            },
            "marker": {
             "line": {
              "color": "#E5ECF6",
              "width": 0.5
             },
             "pattern": {
              "fillmode": "overlay",
              "size": 10,
              "solidity": 0.2
             }
            },
            "type": "bar"
           }
          ],
          "barpolar": [
           {
            "marker": {
             "line": {
              "color": "#E5ECF6",
              "width": 0.5
             },
             "pattern": {
              "fillmode": "overlay",
              "size": 10,
              "solidity": 0.2
             }
            },
            "type": "barpolar"
           }
          ],
          "carpet": [
           {
            "aaxis": {
             "endlinecolor": "#2a3f5f",
             "gridcolor": "white",
             "linecolor": "white",
             "minorgridcolor": "white",
             "startlinecolor": "#2a3f5f"
            },
            "baxis": {
             "endlinecolor": "#2a3f5f",
             "gridcolor": "white",
             "linecolor": "white",
             "minorgridcolor": "white",
             "startlinecolor": "#2a3f5f"
            },
            "type": "carpet"
           }
          ],
          "choropleth": [
           {
            "colorbar": {
             "outlinewidth": 0,
             "ticks": ""
            },
            "type": "choropleth"
           }
          ],
          "contour": [
           {
            "colorbar": {
             "outlinewidth": 0,
             "ticks": ""
            },
            "colorscale": [
             [
              0,
              "#0d0887"
             ],
             [
              0.1111111111111111,
              "#46039f"
             ],
             [
              0.2222222222222222,
              "#7201a8"
             ],
             [
              0.3333333333333333,
              "#9c179e"
             ],
             [
              0.4444444444444444,
              "#bd3786"
             ],
             [
              0.5555555555555556,
              "#d8576b"
             ],
             [
              0.6666666666666666,
              "#ed7953"
             ],
             [
              0.7777777777777778,
              "#fb9f3a"
             ],
             [
              0.8888888888888888,
              "#fdca26"
             ],
             [
              1,
              "#f0f921"
             ]
            ],
            "type": "contour"
           }
          ],
          "contourcarpet": [
           {
            "colorbar": {
             "outlinewidth": 0,
             "ticks": ""
            },
            "type": "contourcarpet"
           }
          ],
          "heatmap": [
           {
            "colorbar": {
             "outlinewidth": 0,
             "ticks": ""
            },
            "colorscale": [
             [
              0,
              "#0d0887"
             ],
             [
              0.1111111111111111,
              "#46039f"
             ],
             [
              0.2222222222222222,
              "#7201a8"
             ],
             [
              0.3333333333333333,
              "#9c179e"
             ],
             [
              0.4444444444444444,
              "#bd3786"
             ],
             [
              0.5555555555555556,
              "#d8576b"
             ],
             [
              0.6666666666666666,
              "#ed7953"
             ],
             [
              0.7777777777777778,
              "#fb9f3a"
             ],
             [
              0.8888888888888888,
              "#fdca26"
             ],
             [
              1,
              "#f0f921"
             ]
            ],
            "type": "heatmap"
           }
          ],
          "heatmapgl": [
           {
            "colorbar": {
             "outlinewidth": 0,
             "ticks": ""
            },
            "colorscale": [
             [
              0,
              "#0d0887"
             ],
             [
              0.1111111111111111,
              "#46039f"
             ],
             [
              0.2222222222222222,
              "#7201a8"
             ],
             [
              0.3333333333333333,
              "#9c179e"
             ],
             [
              0.4444444444444444,
              "#bd3786"
             ],
             [
              0.5555555555555556,
              "#d8576b"
             ],
             [
              0.6666666666666666,
              "#ed7953"
             ],
             [
              0.7777777777777778,
              "#fb9f3a"
             ],
             [
              0.8888888888888888,
              "#fdca26"
             ],
             [
              1,
              "#f0f921"
             ]
            ],
            "type": "heatmapgl"
           }
          ],
          "histogram": [
           {
            "marker": {
             "pattern": {
              "fillmode": "overlay",
              "size": 10,
              "solidity": 0.2
             }
            },
            "type": "histogram"
           }
          ],
          "histogram2d": [
           {
            "colorbar": {
             "outlinewidth": 0,
             "ticks": ""
            },
            "colorscale": [
             [
              0,
              "#0d0887"
             ],
             [
              0.1111111111111111,
              "#46039f"
             ],
             [
              0.2222222222222222,
              "#7201a8"
             ],
             [
              0.3333333333333333,
              "#9c179e"
             ],
             [
              0.4444444444444444,
              "#bd3786"
             ],
             [
              0.5555555555555556,
              "#d8576b"
             ],
             [
              0.6666666666666666,
              "#ed7953"
             ],
             [
              0.7777777777777778,
              "#fb9f3a"
             ],
             [
              0.8888888888888888,
              "#fdca26"
             ],
             [
              1,
              "#f0f921"
             ]
            ],
            "type": "histogram2d"
           }
          ],
          "histogram2dcontour": [
           {
            "colorbar": {
             "outlinewidth": 0,
             "ticks": ""
            },
            "colorscale": [
             [
              0,
              "#0d0887"
             ],
             [
              0.1111111111111111,
              "#46039f"
             ],
             [
              0.2222222222222222,
              "#7201a8"
             ],
             [
              0.3333333333333333,
              "#9c179e"
             ],
             [
              0.4444444444444444,
              "#bd3786"
             ],
             [
              0.5555555555555556,
              "#d8576b"
             ],
             [
              0.6666666666666666,
              "#ed7953"
             ],
             [
              0.7777777777777778,
              "#fb9f3a"
             ],
             [
              0.8888888888888888,
              "#fdca26"
             ],
             [
              1,
              "#f0f921"
             ]
            ],
            "type": "histogram2dcontour"
           }
          ],
          "mesh3d": [
           {
            "colorbar": {
             "outlinewidth": 0,
             "ticks": ""
            },
            "type": "mesh3d"
           }
          ],
          "parcoords": [
           {
            "line": {
             "colorbar": {
              "outlinewidth": 0,
              "ticks": ""
             }
            },
            "type": "parcoords"
           }
          ],
          "pie": [
           {
            "automargin": true,
            "type": "pie"
           }
          ],
          "scatter": [
           {
            "fillpattern": {
             "fillmode": "overlay",
             "size": 10,
             "solidity": 0.2
            },
            "type": "scatter"
           }
          ],
          "scatter3d": [
           {
            "line": {
             "colorbar": {
              "outlinewidth": 0,
              "ticks": ""
             }
            },
            "marker": {
             "colorbar": {
              "outlinewidth": 0,
              "ticks": ""
             }
            },
            "type": "scatter3d"
           }
          ],
          "scattercarpet": [
           {
            "marker": {
             "colorbar": {
              "outlinewidth": 0,
              "ticks": ""
             }
            },
            "type": "scattercarpet"
           }
          ],
          "scattergeo": [
           {
            "marker": {
             "colorbar": {
              "outlinewidth": 0,
              "ticks": ""
             }
            },
            "type": "scattergeo"
           }
          ],
          "scattergl": [
           {
            "marker": {
             "colorbar": {
              "outlinewidth": 0,
              "ticks": ""
             }
            },
            "type": "scattergl"
           }
          ],
          "scattermapbox": [
           {
            "marker": {
             "colorbar": {
              "outlinewidth": 0,
              "ticks": ""
             }
            },
            "type": "scattermapbox"
           }
          ],
          "scatterpolar": [
           {
            "marker": {
             "colorbar": {
              "outlinewidth": 0,
              "ticks": ""
             }
            },
            "type": "scatterpolar"
           }
          ],
          "scatterpolargl": [
           {
            "marker": {
             "colorbar": {
              "outlinewidth": 0,
              "ticks": ""
             }
            },
            "type": "scatterpolargl"
           }
          ],
          "scatterternary": [
           {
            "marker": {
             "colorbar": {
              "outlinewidth": 0,
              "ticks": ""
             }
            },
            "type": "scatterternary"
           }
          ],
          "surface": [
           {
            "colorbar": {
             "outlinewidth": 0,
             "ticks": ""
            },
            "colorscale": [
             [
              0,
              "#0d0887"
             ],
             [
              0.1111111111111111,
              "#46039f"
             ],
             [
              0.2222222222222222,
              "#7201a8"
             ],
             [
              0.3333333333333333,
              "#9c179e"
             ],
             [
              0.4444444444444444,
              "#bd3786"
             ],
             [
              0.5555555555555556,
              "#d8576b"
             ],
             [
              0.6666666666666666,
              "#ed7953"
             ],
             [
              0.7777777777777778,
              "#fb9f3a"
             ],
             [
              0.8888888888888888,
              "#fdca26"
             ],
             [
              1,
              "#f0f921"
             ]
            ],
            "type": "surface"
           }
          ],
          "table": [
           {
            "cells": {
             "fill": {
              "color": "#EBF0F8"
             },
             "line": {
              "color": "white"
             }
            },
            "header": {
             "fill": {
              "color": "#C8D4E3"
             },
             "line": {
              "color": "white"
             }
            },
            "type": "table"
           }
          ]
         },
         "layout": {
          "annotationdefaults": {
           "arrowcolor": "#2a3f5f",
           "arrowhead": 0,
           "arrowwidth": 1
          },
          "autotypenumbers": "strict",
          "coloraxis": {
           "colorbar": {
            "outlinewidth": 0,
            "ticks": ""
           }
          },
          "colorscale": {
           "diverging": [
            [
             0,
             "#8e0152"
            ],
            [
             0.1,
             "#c51b7d"
            ],
            [
             0.2,
             "#de77ae"
            ],
            [
             0.3,
             "#f1b6da"
            ],
            [
             0.4,
             "#fde0ef"
            ],
            [
             0.5,
             "#f7f7f7"
            ],
            [
             0.6,
             "#e6f5d0"
            ],
            [
             0.7,
             "#b8e186"
            ],
            [
             0.8,
             "#7fbc41"
            ],
            [
             0.9,
             "#4d9221"
            ],
            [
             1,
             "#276419"
            ]
           ],
           "sequential": [
            [
             0,
             "#0d0887"
            ],
            [
             0.1111111111111111,
             "#46039f"
            ],
            [
             0.2222222222222222,
             "#7201a8"
            ],
            [
             0.3333333333333333,
             "#9c179e"
            ],
            [
             0.4444444444444444,
             "#bd3786"
            ],
            [
             0.5555555555555556,
             "#d8576b"
            ],
            [
             0.6666666666666666,
             "#ed7953"
            ],
            [
             0.7777777777777778,
             "#fb9f3a"
            ],
            [
             0.8888888888888888,
             "#fdca26"
            ],
            [
             1,
             "#f0f921"
            ]
           ],
           "sequentialminus": [
            [
             0,
             "#0d0887"
            ],
            [
             0.1111111111111111,
             "#46039f"
            ],
            [
             0.2222222222222222,
             "#7201a8"
            ],
            [
             0.3333333333333333,
             "#9c179e"
            ],
            [
             0.4444444444444444,
             "#bd3786"
            ],
            [
             0.5555555555555556,
             "#d8576b"
            ],
            [
             0.6666666666666666,
             "#ed7953"
            ],
            [
             0.7777777777777778,
             "#fb9f3a"
            ],
            [
             0.8888888888888888,
             "#fdca26"
            ],
            [
             1,
             "#f0f921"
            ]
           ]
          },
          "colorway": [
           "#636efa",
           "#EF553B",
           "#00cc96",
           "#ab63fa",
           "#FFA15A",
           "#19d3f3",
           "#FF6692",
           "#B6E880",
           "#FF97FF",
           "#FECB52"
          ],
          "font": {
           "color": "#2a3f5f"
          },
          "geo": {
           "bgcolor": "white",
           "lakecolor": "white",
           "landcolor": "#E5ECF6",
           "showlakes": true,
           "showland": true,
           "subunitcolor": "white"
          },
          "hoverlabel": {
           "align": "left"
          },
          "hovermode": "closest",
          "mapbox": {
           "style": "light"
          },
          "paper_bgcolor": "white",
          "plot_bgcolor": "#E5ECF6",
          "polar": {
           "angularaxis": {
            "gridcolor": "white",
            "linecolor": "white",
            "ticks": ""
           },
           "bgcolor": "#E5ECF6",
           "radialaxis": {
            "gridcolor": "white",
            "linecolor": "white",
            "ticks": ""
           }
          },
          "scene": {
           "xaxis": {
            "backgroundcolor": "#E5ECF6",
            "gridcolor": "white",
            "gridwidth": 2,
            "linecolor": "white",
            "showbackground": true,
            "ticks": "",
            "zerolinecolor": "white"
           },
           "yaxis": {
            "backgroundcolor": "#E5ECF6",
            "gridcolor": "white",
            "gridwidth": 2,
            "linecolor": "white",
            "showbackground": true,
            "ticks": "",
            "zerolinecolor": "white"
           },
           "zaxis": {
            "backgroundcolor": "#E5ECF6",
            "gridcolor": "white",
            "gridwidth": 2,
            "linecolor": "white",
            "showbackground": true,
            "ticks": "",
            "zerolinecolor": "white"
           }
          },
          "shapedefaults": {
           "line": {
            "color": "#2a3f5f"
           }
          },
          "ternary": {
           "aaxis": {
            "gridcolor": "white",
            "linecolor": "white",
            "ticks": ""
           },
           "baxis": {
            "gridcolor": "white",
            "linecolor": "white",
            "ticks": ""
           },
           "bgcolor": "#E5ECF6",
           "caxis": {
            "gridcolor": "white",
            "linecolor": "white",
            "ticks": ""
           }
          },
          "title": {
           "x": 0.05
          },
          "xaxis": {
           "automargin": true,
           "gridcolor": "white",
           "linecolor": "white",
           "ticks": "",
           "title": {
            "standoff": 15
           },
           "zerolinecolor": "white",
           "zerolinewidth": 2
          },
          "yaxis": {
           "automargin": true,
           "gridcolor": "white",
           "linecolor": "white",
           "ticks": "",
           "title": {
            "standoff": 15
           },
           "zerolinecolor": "white",
           "zerolinewidth": 2
          }
         }
        }
       }
      },
      "text/html": [
       "<div>                            <div id=\"81e36707-7a9b-4761-8fa2-bd829914c2d4\" class=\"plotly-graph-div\" style=\"height:525px; width:100%;\"></div>            <script type=\"text/javascript\">                require([\"plotly\"], function(Plotly) {                    window.PLOTLYENV=window.PLOTLYENV || {};                                    if (document.getElementById(\"81e36707-7a9b-4761-8fa2-bd829914c2d4\")) {                    Plotly.newPlot(                        \"81e36707-7a9b-4761-8fa2-bd829914c2d4\",                        [{\"name\":\"POSS_est\",\"x\":[2012,2013,2014,2015,2016,2017,2018,2019,2020,2021,2022],\"y\":[95.60969945030102,95.61754219788965,96.45635128671195,96.68648332582461,98.6964307504576,99.24337104359985,101.95464941051327,103.36324181289656,100.79244908097367,100.81617300973491,101.13382502895725],\"type\":\"scatter\"},{\"name\":\"FGM\",\"x\":[2012,2013,2014,2015,2016,2017,2018,2019,2020,2021,2022],\"y\":[37.08826119030054,37.30691268683578,37.505022481584234,37.3654898727989,38.93456375838926,39.911020719461035,40.21156516857253,40.27852086492124,41.082960755091904,40.193661424261585,41.5035986179723],\"type\":\"scatter\"},{\"name\":\"FGA\",\"x\":[2012,2013,2014,2015,2016,2017,2018,2019,2020,2021,2022],\"y\":[82.08933203245842,82.14067857616459,83.77843681239835,83.69391217660535,84.96186699206834,85.83576967077664,88.5382501551281,88.2683225974678,88.07004470938898,87.27204868490622,88.25098256625516],\"type\":\"scatter\"},{\"name\":\"FG3M\",\"x\":[2012,2013,2014,2015,2016,2017,2018,2019,2020,2021,2022],\"y\":[7.23889298717369,7.790554492583402,7.932650913613317,8.560336646760543,9.913819402074436,10.486843777806026,11.266140708566027,12.868359295778728,12.632886239443618,12.609971282540407,12.381225807090317],\"type\":\"scatter\"},{\"name\":\"FG3A\",\"x\":[2012,2013,2014,2015,2016,2017,2018,2019,2020,2021,2022],\"y\":[20.280322680436903,21.74398999753727,22.67291686597149,24.39270343069122,27.71888346552776,28.67293758739036,32.079898354164825,35.582682260229646,34.244908097367116,35.32931772707009,34.503964914712256],\"type\":\"scatter\"},{\"name\":\"FTM\",\"x\":[2012,2013,2014,2015,2016,2017,2018,2019,2020,2021,2022],\"y\":[17.88163624681722,18.52956220281509,17.60107146273797,17.564678929862065,18.475442342892006,16.809457226388712,18.53027213899477,18.6721005920017,17.63785394932936,17.63604507708098,18.268901406777477],\"type\":\"scatter\"},{\"name\":\"FTA\",\"x\":[2012,2013,2014,2015,2016,2017,2018,2019,2020,2021,2022],\"y\":[23.738428955571944,24.367363176539683,23.48569788577442,23.327550012940577,23.778981086028065,21.805008262361763,23.88913512395473,23.887123721595017,22.45653253849975,22.52029401702313,23.161041866727388],\"type\":\"scatter\"},{\"name\":\"OREB\",\"x\":[2012,2013,2014,2015,2016,2017,2018,2019,2020,2021,2022],\"y\":[10.771244318587438,10.636709795972495,10.91743996938678,10.474392032437718,9.916107382550335,9.663149866531079,10.37023904500192,9.224796469236193,9.801291604570293,9.557004675658584,10.254724732949878],\"type\":\"scatter\"},{\"name\":\"DREB\",\"x\":[2012,2013,2014,2015,2016,2017,2018,2019,2020,2021,2022],\"y\":[30.86309877923994,31.10083922177809,32.7615038744858,32.99214938220718,32.76845637583893,33.56934028219143,34.4863044056378,34.21982288236259,33.544461003477394,33.331328985973016,32.52952648721426],\"type\":\"scatter\"},{\"name\":\"REB\",\"x\":[2012,2013,2014,2015,2016,2017,2018,2019,2020,2021,2022],\"y\":[41.60293172786332,41.72845586981643,43.58940017219936,43.43433375190514,42.62278828553996,43.2096097622982,44.813994031262006,43.42144147102282,43.35072031793344,42.920679681101426,42.7699953470414],\"type\":\"scatter\"},{\"name\":\"AST\",\"x\":[2012,2013,2014,2015,2016,2017,2018,2019,2020,2021,2022],\"y\":[21.04561787592509,21.24159357417546,21.726968334449438,21.086816905188694,22.477120195241,23.07486970891064,23.683479596962442,24.060957825914798,23.954297069051165,24.321718485957472,24.71968399481245],\"type\":\"scatter\"},{\"name\":\"STL\",\"x\":[2012,2013,2014,2015,2016,2017,2018,2019,2020,2021,2022],\"y\":[7.441639102396307,7.304071078106352,7.592844159571415,7.624013879968943,7.586943258084197,7.741197406889539,7.4012351150902695,7.338116990352207,7.165921510183805,7.367427973086453,7.06616111116611],\"type\":\"scatter\"},{\"name\":\"BLK\",\"x\":[2012,2013,2014,2015,2016,2017,2018,2019,2020,2021,2022],\"y\":[4.980129928848488,4.542027393108152,4.920309958863484,4.966881703938729,4.6468883465527755,4.820134740053388,4.829359099370624,4.526640076487006,4.540486835568803,4.548347968524834,4.647414638009721],\"type\":\"scatter\"},{\"name\":\"TOV\",\"x\":[2012,2013,2014,2015,2016,2017,2018,2019,2020,2021,2022],\"y\":[13.846702995978394,13.391933620020083,13.26164737395963,13.202841175963114,13.187919463087248,13.476547603915085,13.275418845847,13.809381247163122,12.642821659215102,13.192199632997088,12.946708774291906],\"type\":\"scatter\"},{\"name\":\"PTS\",\"x\":[2012,2013,2014,2015,2016,2017,2018,2019,2020,2021,2022],\"y\":[99.27135140280322,100.83619072877792,100.45192767626519,100.8214871121421,106.22635753508236,107.14884962501588,110.13680820258251,112.02101461172221,112.41430700447096,110.57611163523643,113.6359406401283],\"type\":\"scatter\"},{\"name\":\"FG%\",\"x\":[2012,2013,2014,2015,2016,2017,2018,2019,2020,2021,2022],\"y\":[0.012901611016906303,0.010324886582026339,0.01027844623902662,0.010270887815502722,0.010484882791616646,0.017731138975281457,0.010735967205599394,0.010576509430696436,0.011586699595310352,0.011459347519390331,0.011174002804827908],\"type\":\"scatter\"},{\"name\":\"3PT%\",\"x\":[2012,2013,2014,2015,2016,2017,2018,2019,2020,2021,2022],\"y\":[0.35694170656153196,0.3582854155776268,0.349873417721519,0.35093841365651235,0.35765579859678087,0.36574012501662456,0.3511900375801342,0.361646690984888,0.3688982374700805,0.35692654412282554,0.35883487122985813],\"type\":\"scatter\"},{\"name\":\"FT%\",\"x\":[2012,2013,2014,2015,2016,2017,2018,2019,2020,2021,2022],\"y\":[0.7532779983158908,0.7604254128183598,0.7494378727148304,0.7529585798816568,0.7769652650822669,0.770898915704792,0.7756778151593112,0.7816805744226665,0.7854219665966155,0.7831178875262401,0.7887771850636028],\"type\":\"scatter\"},{\"name\":\"AST%\",\"x\":[2012,2013,2014,2015,2016,2017,2018,2019,2020,2021,2022],\"y\":[0.5674468740375732,0.569374200231552,0.5793082338536883,0.5643393670730206,0.5773050478932832,0.5781578444486911,0.5889718417494563,0.59736448383013,0.5830713422007255,0.6051132846353844,0.5956033890542707],\"type\":\"scatter\"},{\"name\":\"FG3A%\",\"x\":[2012,2013,2014,2015,2016,2017,2018,2019,2020,2021,2022],\"y\":[0.24705186628169898,0.2647164641740237,0.27062950478226316,0.29145134689389773,0.3262508752087036,0.3340441601137323,0.36232812708583634,0.4031195021400625,0.38883718306681336,0.40481824661439775,0.39097541932531027],\"type\":\"scatter\"},{\"name\":\"PTS/FGA\",\"x\":[2012,2013,2014,2015,2016,2017,2018,2019,2020,2021,2022],\"y\":[1.209308797439733,1.2276035756787422,1.199018882402916,1.2046454095656955,1.2502827597350137,1.2483006797281089,1.243946068615672,1.2690964472336739,1.2764193248159743,1.2670277975766215,1.287645047519048],\"type\":\"scatter\"},{\"name\":\"FG3M/FGM\",\"x\":[2012,2013,2014,2015,2016,2017,2018,2019,2020,2021,2022],\"y\":[0.19518016630736065,0.20882335019194442,0.21150902969084787,0.22909740179780816,0.2546277252159605,0.26275558952799544,0.2801716536358827,0.3194844055702613,0.307496977025393,0.31373034542528166,0.29831692237233803],\"type\":\"scatter\"},{\"name\":\"FTA/FGA\",\"x\":[2012,2013,2014,2015,2016,2017,2018,2019,2020,2021,2022],\"y\":[0.2891780011827321,0.29665402817369163,0.2803310586752172,0.27872457394172623,0.2798782786664512,0.2540317206450753,0.2698171138699773,0.27061943649397363,0.25498491130101253,0.25804704205274415,0.2624451444417521],\"type\":\"scatter\"},{\"name\":\"TRU%\",\"x\":[2012,2013,2014,2015,2016,2017,2018,2019,2020,2021,2022],\"y\":[0.5316299479977092,0.5379928574070896,0.5290611163478567,0.5319019819644873,0.5517857747706687,0.5569463687881689,0.5513148039242368,0.5622714692397451,0.5692618953133186,0.5643412663995292,0.5724589630218345],\"type\":\"scatter\"},{\"name\":\"AST_TOV\",\"x\":[2012,2013,2014,2015,2016,2017,2018,2019,2020,2021,2022],\"y\":[1.5199010105176325,1.5861483619079952,1.6383310249307477,1.5971423592960448,1.7043719639139487,1.7122241086587437,1.7840099715099713,1.7423632091305807,1.894695481335953,1.8436439079592606,1.9093411635162418],\"type\":\"scatter\"}],                        {\"template\":{\"data\":{\"histogram2dcontour\":[{\"type\":\"histogram2dcontour\",\"colorbar\":{\"outlinewidth\":0,\"ticks\":\"\"},\"colorscale\":[[0.0,\"#0d0887\"],[0.1111111111111111,\"#46039f\"],[0.2222222222222222,\"#7201a8\"],[0.3333333333333333,\"#9c179e\"],[0.4444444444444444,\"#bd3786\"],[0.5555555555555556,\"#d8576b\"],[0.6666666666666666,\"#ed7953\"],[0.7777777777777778,\"#fb9f3a\"],[0.8888888888888888,\"#fdca26\"],[1.0,\"#f0f921\"]]}],\"choropleth\":[{\"type\":\"choropleth\",\"colorbar\":{\"outlinewidth\":0,\"ticks\":\"\"}}],\"histogram2d\":[{\"type\":\"histogram2d\",\"colorbar\":{\"outlinewidth\":0,\"ticks\":\"\"},\"colorscale\":[[0.0,\"#0d0887\"],[0.1111111111111111,\"#46039f\"],[0.2222222222222222,\"#7201a8\"],[0.3333333333333333,\"#9c179e\"],[0.4444444444444444,\"#bd3786\"],[0.5555555555555556,\"#d8576b\"],[0.6666666666666666,\"#ed7953\"],[0.7777777777777778,\"#fb9f3a\"],[0.8888888888888888,\"#fdca26\"],[1.0,\"#f0f921\"]]}],\"heatmap\":[{\"type\":\"heatmap\",\"colorbar\":{\"outlinewidth\":0,\"ticks\":\"\"},\"colorscale\":[[0.0,\"#0d0887\"],[0.1111111111111111,\"#46039f\"],[0.2222222222222222,\"#7201a8\"],[0.3333333333333333,\"#9c179e\"],[0.4444444444444444,\"#bd3786\"],[0.5555555555555556,\"#d8576b\"],[0.6666666666666666,\"#ed7953\"],[0.7777777777777778,\"#fb9f3a\"],[0.8888888888888888,\"#fdca26\"],[1.0,\"#f0f921\"]]}],\"heatmapgl\":[{\"type\":\"heatmapgl\",\"colorbar\":{\"outlinewidth\":0,\"ticks\":\"\"},\"colorscale\":[[0.0,\"#0d0887\"],[0.1111111111111111,\"#46039f\"],[0.2222222222222222,\"#7201a8\"],[0.3333333333333333,\"#9c179e\"],[0.4444444444444444,\"#bd3786\"],[0.5555555555555556,\"#d8576b\"],[0.6666666666666666,\"#ed7953\"],[0.7777777777777778,\"#fb9f3a\"],[0.8888888888888888,\"#fdca26\"],[1.0,\"#f0f921\"]]}],\"contourcarpet\":[{\"type\":\"contourcarpet\",\"colorbar\":{\"outlinewidth\":0,\"ticks\":\"\"}}],\"contour\":[{\"type\":\"contour\",\"colorbar\":{\"outlinewidth\":0,\"ticks\":\"\"},\"colorscale\":[[0.0,\"#0d0887\"],[0.1111111111111111,\"#46039f\"],[0.2222222222222222,\"#7201a8\"],[0.3333333333333333,\"#9c179e\"],[0.4444444444444444,\"#bd3786\"],[0.5555555555555556,\"#d8576b\"],[0.6666666666666666,\"#ed7953\"],[0.7777777777777778,\"#fb9f3a\"],[0.8888888888888888,\"#fdca26\"],[1.0,\"#f0f921\"]]}],\"surface\":[{\"type\":\"surface\",\"colorbar\":{\"outlinewidth\":0,\"ticks\":\"\"},\"colorscale\":[[0.0,\"#0d0887\"],[0.1111111111111111,\"#46039f\"],[0.2222222222222222,\"#7201a8\"],[0.3333333333333333,\"#9c179e\"],[0.4444444444444444,\"#bd3786\"],[0.5555555555555556,\"#d8576b\"],[0.6666666666666666,\"#ed7953\"],[0.7777777777777778,\"#fb9f3a\"],[0.8888888888888888,\"#fdca26\"],[1.0,\"#f0f921\"]]}],\"mesh3d\":[{\"type\":\"mesh3d\",\"colorbar\":{\"outlinewidth\":0,\"ticks\":\"\"}}],\"scatter\":[{\"fillpattern\":{\"fillmode\":\"overlay\",\"size\":10,\"solidity\":0.2},\"type\":\"scatter\"}],\"parcoords\":[{\"type\":\"parcoords\",\"line\":{\"colorbar\":{\"outlinewidth\":0,\"ticks\":\"\"}}}],\"scatterpolargl\":[{\"type\":\"scatterpolargl\",\"marker\":{\"colorbar\":{\"outlinewidth\":0,\"ticks\":\"\"}}}],\"bar\":[{\"error_x\":{\"color\":\"#2a3f5f\"},\"error_y\":{\"color\":\"#2a3f5f\"},\"marker\":{\"line\":{\"color\":\"#E5ECF6\",\"width\":0.5},\"pattern\":{\"fillmode\":\"overlay\",\"size\":10,\"solidity\":0.2}},\"type\":\"bar\"}],\"scattergeo\":[{\"type\":\"scattergeo\",\"marker\":{\"colorbar\":{\"outlinewidth\":0,\"ticks\":\"\"}}}],\"scatterpolar\":[{\"type\":\"scatterpolar\",\"marker\":{\"colorbar\":{\"outlinewidth\":0,\"ticks\":\"\"}}}],\"histogram\":[{\"marker\":{\"pattern\":{\"fillmode\":\"overlay\",\"size\":10,\"solidity\":0.2}},\"type\":\"histogram\"}],\"scattergl\":[{\"type\":\"scattergl\",\"marker\":{\"colorbar\":{\"outlinewidth\":0,\"ticks\":\"\"}}}],\"scatter3d\":[{\"type\":\"scatter3d\",\"line\":{\"colorbar\":{\"outlinewidth\":0,\"ticks\":\"\"}},\"marker\":{\"colorbar\":{\"outlinewidth\":0,\"ticks\":\"\"}}}],\"scattermapbox\":[{\"type\":\"scattermapbox\",\"marker\":{\"colorbar\":{\"outlinewidth\":0,\"ticks\":\"\"}}}],\"scatterternary\":[{\"type\":\"scatterternary\",\"marker\":{\"colorbar\":{\"outlinewidth\":0,\"ticks\":\"\"}}}],\"scattercarpet\":[{\"type\":\"scattercarpet\",\"marker\":{\"colorbar\":{\"outlinewidth\":0,\"ticks\":\"\"}}}],\"carpet\":[{\"aaxis\":{\"endlinecolor\":\"#2a3f5f\",\"gridcolor\":\"white\",\"linecolor\":\"white\",\"minorgridcolor\":\"white\",\"startlinecolor\":\"#2a3f5f\"},\"baxis\":{\"endlinecolor\":\"#2a3f5f\",\"gridcolor\":\"white\",\"linecolor\":\"white\",\"minorgridcolor\":\"white\",\"startlinecolor\":\"#2a3f5f\"},\"type\":\"carpet\"}],\"table\":[{\"cells\":{\"fill\":{\"color\":\"#EBF0F8\"},\"line\":{\"color\":\"white\"}},\"header\":{\"fill\":{\"color\":\"#C8D4E3\"},\"line\":{\"color\":\"white\"}},\"type\":\"table\"}],\"barpolar\":[{\"marker\":{\"line\":{\"color\":\"#E5ECF6\",\"width\":0.5},\"pattern\":{\"fillmode\":\"overlay\",\"size\":10,\"solidity\":0.2}},\"type\":\"barpolar\"}],\"pie\":[{\"automargin\":true,\"type\":\"pie\"}]},\"layout\":{\"autotypenumbers\":\"strict\",\"colorway\":[\"#636efa\",\"#EF553B\",\"#00cc96\",\"#ab63fa\",\"#FFA15A\",\"#19d3f3\",\"#FF6692\",\"#B6E880\",\"#FF97FF\",\"#FECB52\"],\"font\":{\"color\":\"#2a3f5f\"},\"hovermode\":\"closest\",\"hoverlabel\":{\"align\":\"left\"},\"paper_bgcolor\":\"white\",\"plot_bgcolor\":\"#E5ECF6\",\"polar\":{\"bgcolor\":\"#E5ECF6\",\"angularaxis\":{\"gridcolor\":\"white\",\"linecolor\":\"white\",\"ticks\":\"\"},\"radialaxis\":{\"gridcolor\":\"white\",\"linecolor\":\"white\",\"ticks\":\"\"}},\"ternary\":{\"bgcolor\":\"#E5ECF6\",\"aaxis\":{\"gridcolor\":\"white\",\"linecolor\":\"white\",\"ticks\":\"\"},\"baxis\":{\"gridcolor\":\"white\",\"linecolor\":\"white\",\"ticks\":\"\"},\"caxis\":{\"gridcolor\":\"white\",\"linecolor\":\"white\",\"ticks\":\"\"}},\"coloraxis\":{\"colorbar\":{\"outlinewidth\":0,\"ticks\":\"\"}},\"colorscale\":{\"sequential\":[[0.0,\"#0d0887\"],[0.1111111111111111,\"#46039f\"],[0.2222222222222222,\"#7201a8\"],[0.3333333333333333,\"#9c179e\"],[0.4444444444444444,\"#bd3786\"],[0.5555555555555556,\"#d8576b\"],[0.6666666666666666,\"#ed7953\"],[0.7777777777777778,\"#fb9f3a\"],[0.8888888888888888,\"#fdca26\"],[1.0,\"#f0f921\"]],\"sequentialminus\":[[0.0,\"#0d0887\"],[0.1111111111111111,\"#46039f\"],[0.2222222222222222,\"#7201a8\"],[0.3333333333333333,\"#9c179e\"],[0.4444444444444444,\"#bd3786\"],[0.5555555555555556,\"#d8576b\"],[0.6666666666666666,\"#ed7953\"],[0.7777777777777778,\"#fb9f3a\"],[0.8888888888888888,\"#fdca26\"],[1.0,\"#f0f921\"]],\"diverging\":[[0,\"#8e0152\"],[0.1,\"#c51b7d\"],[0.2,\"#de77ae\"],[0.3,\"#f1b6da\"],[0.4,\"#fde0ef\"],[0.5,\"#f7f7f7\"],[0.6,\"#e6f5d0\"],[0.7,\"#b8e186\"],[0.8,\"#7fbc41\"],[0.9,\"#4d9221\"],[1,\"#276419\"]]},\"xaxis\":{\"gridcolor\":\"white\",\"linecolor\":\"white\",\"ticks\":\"\",\"title\":{\"standoff\":15},\"zerolinecolor\":\"white\",\"automargin\":true,\"zerolinewidth\":2},\"yaxis\":{\"gridcolor\":\"white\",\"linecolor\":\"white\",\"ticks\":\"\",\"title\":{\"standoff\":15},\"zerolinecolor\":\"white\",\"automargin\":true,\"zerolinewidth\":2},\"scene\":{\"xaxis\":{\"backgroundcolor\":\"#E5ECF6\",\"gridcolor\":\"white\",\"linecolor\":\"white\",\"showbackground\":true,\"ticks\":\"\",\"zerolinecolor\":\"white\",\"gridwidth\":2},\"yaxis\":{\"backgroundcolor\":\"#E5ECF6\",\"gridcolor\":\"white\",\"linecolor\":\"white\",\"showbackground\":true,\"ticks\":\"\",\"zerolinecolor\":\"white\",\"gridwidth\":2},\"zaxis\":{\"backgroundcolor\":\"#E5ECF6\",\"gridcolor\":\"white\",\"linecolor\":\"white\",\"showbackground\":true,\"ticks\":\"\",\"zerolinecolor\":\"white\",\"gridwidth\":2}},\"shapedefaults\":{\"line\":{\"color\":\"#2a3f5f\"}},\"annotationdefaults\":{\"arrowcolor\":\"#2a3f5f\",\"arrowhead\":0,\"arrowwidth\":1},\"geo\":{\"bgcolor\":\"white\",\"landcolor\":\"#E5ECF6\",\"subunitcolor\":\"white\",\"showland\":true,\"showlakes\":true,\"lakecolor\":\"white\"},\"title\":{\"x\":0.05},\"mapbox\":{\"style\":\"light\"}}}},                        {\"responsive\": true}                    ).then(function(){\n",
       "                            \n",
       "var gd = document.getElementById('81e36707-7a9b-4761-8fa2-bd829914c2d4');\n",
       "var x = new MutationObserver(function (mutations, observer) {{\n",
       "        var display = window.getComputedStyle(gd).display;\n",
       "        if (!display || display === 'none') {{\n",
       "            console.log([gd, 'removed!']);\n",
       "            Plotly.purge(gd);\n",
       "            observer.disconnect();\n",
       "        }}\n",
       "}});\n",
       "\n",
       "// Listen for the removal of the full notebook cells\n",
       "var notebookContainer = gd.closest('#notebook-container');\n",
       "if (notebookContainer) {{\n",
       "    x.observe(notebookContainer, {childList: true});\n",
       "}}\n",
       "\n",
       "// Listen for the clearing of the current output cell\n",
       "var outputEl = gd.closest('.output');\n",
       "if (outputEl) {{\n",
       "    x.observe(outputEl, {childList: true});\n",
       "}}\n",
       "\n",
       "                        })                };                });            </script>        </div>"
      ]
     },
     "metadata": {},
     "output_type": "display_data"
    }
   ],
   "source": [
    "change_per48_df = change_df.copy()\n",
    "for col in change_per48_df.columns[2:18]:\n",
    "    change_per48_df[col] = (change_per48_df[col]/change_per48_df['MIN'])*48*5\n",
    "\n",
    "change_per48_df.drop(columns='MIN', inplace=True)\n",
    "\n",
    "fig = go.Figure()\n",
    "for col in change_per48_df.columns[1:]:\n",
    "    fig.add_trace(go.Scatter(x=change_per48_df['season_start_year'],\n",
    "                             y=change_per48_df[col], name=col))\n",
    "fig.show()"
   ]
  },
  {
   "cell_type": "code",
   "execution_count": 30,
   "id": "83022a87",
   "metadata": {},
   "outputs": [
    {
     "data": {
      "application/vnd.plotly.v1+json": {
       "config": {
        "plotlyServerURL": "https://plot.ly"
       },
       "data": [
        {
         "name": "FGM",
         "type": "scatter",
         "x": [
          2012,
          2013,
          2014,
          2015,
          2016,
          2017,
          2018,
          2019,
          2020,
          2021,
          2022
         ],
         "y": [
          38.79131657513413,
          39.01680782551966,
          38.88289571528818,
          38.64603260714388,
          39.44880626618683,
          40.21530133425962,
          39.440638951798526,
          38.96793498198478,
          40.75995883589164,
          39.8682673864048,
          41.03829614482468
         ]
        },
        {
         "name": "FGA",
         "type": "scatter",
         "x": [
          2012,
          2013,
          2014,
          2015,
          2016,
          2017,
          2018,
          2019,
          2020,
          2021,
          2022
         ],
         "y": [
          85.85879100595787,
          85.90544861126696,
          86.85631966667587,
          86.56216391133445,
          86.08403196148451,
          86.49017941265525,
          86.84081664450144,
          85.39624052934323,
          87.37762155043589,
          86.5655242403212,
          87.26158883141876
         ]
        },
        {
         "name": "FG3M",
         "type": "scatter",
         "x": [
          2012,
          2013,
          2014,
          2015,
          2016,
          2017,
          2018,
          2019,
          2020,
          2021,
          2022
         ],
         "y": [
          7.571295620416156,
          8.14762052392029,
          8.224083544311029,
          8.853705660090036,
          10.04475980204428,
          10.566795210129367,
          11.050149035581201,
          12.449647544019998,
          12.533564125716135,
          12.50788529864427,
          12.242418205328681
         ]
        },
        {
         "name": "FG3A",
         "type": "scatter",
         "x": [
          2012,
          2013,
          2014,
          2015,
          2016,
          2017,
          2018,
          2019,
          2020,
          2021,
          2022
         ],
         "y": [
          21.211574554712247,
          22.740586609657885,
          23.505882778602434,
          25.228659262008772,
          28.084990768928332,
          28.891539339986437,
          31.464870449406728,
          34.42488996682187,
          33.97566822674957,
          35.04330374022297,
          34.11713628435676
         ]
        },
        {
         "name": "FTM",
         "type": "scatter",
         "x": [
          2012,
          2013,
          2014,
          2015,
          2016,
          2017,
          2018,
          2019,
          2020,
          2021,
          2022
         ],
         "y": [
          18.70274286984062,
          19.37883130740423,
          18.247706063875064,
          18.16663335522371,
          18.71946351292582,
          16.937612104091002,
          18.175014328560852,
          18.064546220213455,
          17.49918184363159,
          17.493269731016294,
          18.064086275335296
         ]
        },
        {
         "name": "FTA",
         "type": "scatter",
         "x": [
          2012,
          2013,
          2014,
          2015,
          2016,
          2017,
          2018,
          2019,
          2020,
          2021,
          2022
         ],
         "y": [
          24.828473567068833,
          25.48419737260041,
          24.348524044792335,
          24.127002255660564,
          24.093050686048052,
          21.97124909509808,
          23.431138513131266,
          23.1098824907547,
          22.279975080731333,
          22.337977473960002,
          22.90138028507848
         ]
        },
        {
         "name": "OREB",
         "type": "scatter",
         "x": [
          2012,
          2013,
          2014,
          2015,
          2016,
          2017,
          2018,
          2019,
          2020,
          2021,
          2022
         ],
         "y": [
          11.265848946828298,
          11.124224228603163,
          11.318528872127045,
          10.83335712722116,
          10.047078001860124,
          9.736821477261024,
          10.171423377904896,
          8.924639269668514,
          9.724232017317314,
          9.47963445779255,
          10.13975762314308
         ]
        },
        {
         "name": "DREB",
         "type": "scatter",
         "x": [
          2012,
          2013,
          2014,
          2015,
          2016,
          2017,
          2018,
          2019,
          2020,
          2021,
          2022
         ],
         "y": [
          32.28030101201491,
          32.526290162752694,
          33.96510798662057,
          34.122814531403165,
          33.201257762492084,
          33.82527208537048,
          33.82514147714942,
          33.106375421453755,
          33.2807281788825,
          33.061490027750324,
          32.16483355385817
         ]
        },
        {
         "name": "REB",
         "type": "scatter",
         "x": [
          2012,
          2013,
          2014,
          2015,
          2016,
          2017,
          2018,
          2019,
          2020,
          2021,
          2022
         ],
         "y": [
          43.51329621058894,
          43.64100447536646,
          45.190803498913134,
          44.9228602156678,
          43.18574436932447,
          43.539038736718496,
          43.954831182658076,
          42.00859097436431,
          43.00988884902156,
          42.57320864278091,
          42.290495128405595
         ]
        },
        {
         "name": "AST",
         "type": "scatter",
         "x": [
          2012,
          2013,
          2014,
          2015,
          2016,
          2017,
          2018,
          2019,
          2020,
          2021,
          2022
         ],
         "y": [
          22.012011330361762,
          22.21516375124342,
          22.52518164394074,
          21.80947758139889,
          22.773994990833838,
          23.25079193327011,
          23.229425763216124,
          23.27806036643941,
          23.765963906489652,
          24.124818230909185,
          24.44254826487039
         ]
        },
        {
         "name": "STL",
         "type": "scatter",
         "x": [
          2012,
          2013,
          2014,
          2015,
          2016,
          2017,
          2018,
          2019,
          2020,
          2021,
          2022
         ],
         "y": [
          7.783351631875543,
          7.638840018487277,
          7.871792845451974,
          7.88529442556796,
          7.687150589332757,
          7.800216100568225,
          7.259340459589748,
          7.099348725570481,
          7.109581695377712,
          7.307783813986915,
          6.986941420580981
         ]
        },
        {
         "name": "BLK",
         "type": "scatter",
         "x": [
          2012,
          2013,
          2014,
          2015,
          2016,
          2017,
          2018,
          2019,
          2020,
          2021,
          2022
         ],
         "y": [
          5.208812450495375,
          4.750203036706373,
          5.101074105776711,
          5.13710038165396,
          4.708263825975521,
          4.856883325674008,
          4.736771816972806,
          4.379351882829801,
          4.504788679081615,
          4.51152611008716,
          4.5953118421843975
         ]
        },
        {
         "name": "TOV",
         "type": "scatter",
         "x": [
          2012,
          2013,
          2014,
          2015,
          2016,
          2017,
          2018,
          2019,
          2020,
          2021,
          2022
         ],
         "y": [
          14.482529571360134,
          14.005728773392015,
          13.74885862574255,
          13.655312223396052,
          13.362103738514477,
          13.579292462762613,
          13.020905787625686,
          13.360050444393218,
          12.543421431359638,
          13.085400128928951,
          12.801561466289769
         ]
        },
        {
         "name": "PTS",
         "type": "scatter",
         "x": [
          2012,
          2013,
          2014,
          2015,
          2016,
          2017,
          2018,
          2019,
          2020,
          2021,
          2022
         ],
         "y": [
          103.82979130104428,
          105.45783588547776,
          104.14236733636812,
          104.27671339786235,
          107.62938104992197,
          107.96574975062363,
          108.025292460302,
          108.37606546290175,
          111.5304847034331,
          109.68092552427981,
          112.36195269741984
         ]
        },
        {
         "name": "FG%",
         "type": "scatter",
         "x": [
          2012,
          2013,
          2014,
          2015,
          2016,
          2017,
          2018,
          2019,
          2020,
          2021,
          2022
         ],
         "y": [
          0.01349403992595197,
          0.010798109159361156,
          0.010656059556383615,
          0.010622878671562362,
          0.010623365720414397,
          0.01786632073137839,
          0.010530139888345624,
          0.010232370081659739,
          0.011495602796596338,
          0.011366576589138932,
          0.011048729543877629
         ]
        },
        {
         "name": "3PT%",
         "type": "scatter",
         "x": [
          2012,
          2013,
          2014,
          2015,
          2016,
          2017,
          2018,
          2019,
          2020,
          2021,
          2022
         ],
         "y": [
          0.35694170656153196,
          0.3582854155776268,
          0.349873417721519,
          0.35093841365651235,
          0.35765579859678087,
          0.36574012501662456,
          0.3511900375801342,
          0.361646690984888,
          0.3688982374700805,
          0.35692654412282554,
          0.35883487122985813
         ]
        },
        {
         "name": "FT%",
         "type": "scatter",
         "x": [
          2012,
          2013,
          2014,
          2015,
          2016,
          2017,
          2018,
          2019,
          2020,
          2021,
          2022
         ],
         "y": [
          0.7532779983158908,
          0.7604254128183598,
          0.7494378727148304,
          0.7529585798816568,
          0.7769652650822669,
          0.770898915704792,
          0.7756778151593112,
          0.7816805744226665,
          0.7854219665966155,
          0.7831178875262401,
          0.7887771850636028
         ]
        },
        {
         "name": "AST%",
         "type": "scatter",
         "x": [
          2012,
          2013,
          2014,
          2015,
          2016,
          2017,
          2018,
          2019,
          2020,
          2021,
          2022
         ],
         "y": [
          0.5674468740375732,
          0.569374200231552,
          0.5793082338536883,
          0.5643393670730206,
          0.5773050478932832,
          0.5781578444486911,
          0.5889718417494563,
          0.59736448383013,
          0.5830713422007255,
          0.6051132846353844,
          0.5956033890542707
         ]
        },
        {
         "name": "FG3A%",
         "type": "scatter",
         "x": [
          2012,
          2013,
          2014,
          2015,
          2016,
          2017,
          2018,
          2019,
          2020,
          2021,
          2022
         ],
         "y": [
          0.24705186628169898,
          0.2647164641740237,
          0.27062950478226316,
          0.29145134689389773,
          0.3262508752087036,
          0.3340441601137323,
          0.36232812708583634,
          0.4031195021400625,
          0.38883718306681336,
          0.40481824661439775,
          0.39097541932531027
         ]
        },
        {
         "name": "PTS/FGA",
         "type": "scatter",
         "x": [
          2012,
          2013,
          2014,
          2015,
          2016,
          2017,
          2018,
          2019,
          2020,
          2021,
          2022
         ],
         "y": [
          1.209308797439733,
          1.2276035756787422,
          1.199018882402916,
          1.2046454095656955,
          1.2502827597350137,
          1.2483006797281089,
          1.243946068615672,
          1.2690964472336739,
          1.2764193248159743,
          1.2670277975766215,
          1.287645047519048
         ]
        },
        {
         "name": "FG3M/FGM",
         "type": "scatter",
         "x": [
          2012,
          2013,
          2014,
          2015,
          2016,
          2017,
          2018,
          2019,
          2020,
          2021,
          2022
         ],
         "y": [
          0.19518016630736065,
          0.20882335019194442,
          0.21150902969084787,
          0.22909740179780816,
          0.2546277252159605,
          0.26275558952799544,
          0.2801716536358827,
          0.3194844055702613,
          0.307496977025393,
          0.31373034542528166,
          0.29831692237233803
         ]
        },
        {
         "name": "FTA/FGA",
         "type": "scatter",
         "x": [
          2012,
          2013,
          2014,
          2015,
          2016,
          2017,
          2018,
          2019,
          2020,
          2021,
          2022
         ],
         "y": [
          0.2891780011827321,
          0.29665402817369163,
          0.2803310586752172,
          0.27872457394172623,
          0.2798782786664512,
          0.2540317206450753,
          0.2698171138699773,
          0.27061943649397363,
          0.25498491130101253,
          0.25804704205274415,
          0.2624451444417521
         ]
        },
        {
         "name": "TRU%",
         "type": "scatter",
         "x": [
          2012,
          2013,
          2014,
          2015,
          2016,
          2017,
          2018,
          2019,
          2020,
          2021,
          2022
         ],
         "y": [
          0.5316299479977092,
          0.5379928574070896,
          0.5290611163478567,
          0.5319019819644873,
          0.5517857747706687,
          0.5569463687881689,
          0.5513148039242368,
          0.5622714692397451,
          0.5692618953133186,
          0.5643412663995292,
          0.5724589630218345
         ]
        },
        {
         "name": "AST_TOV",
         "type": "scatter",
         "x": [
          2012,
          2013,
          2014,
          2015,
          2016,
          2017,
          2018,
          2019,
          2020,
          2021,
          2022
         ],
         "y": [
          1.5199010105176325,
          1.5861483619079952,
          1.6383310249307477,
          1.5971423592960448,
          1.7043719639139487,
          1.7122241086587437,
          1.7840099715099713,
          1.7423632091305807,
          1.894695481335953,
          1.8436439079592606,
          1.9093411635162418
         ]
        }
       ],
       "layout": {
        "template": {
         "data": {
          "bar": [
           {
            "error_x": {
             "color": "#2a3f5f"
            },
            "error_y": {
             "color": "#2a3f5f"
            },
            "marker": {
             "line": {
              "color": "#E5ECF6",
              "width": 0.5
             },
             "pattern": {
              "fillmode": "overlay",
              "size": 10,
              "solidity": 0.2
             }
            },
            "type": "bar"
           }
          ],
          "barpolar": [
           {
            "marker": {
             "line": {
              "color": "#E5ECF6",
              "width": 0.5
             },
             "pattern": {
              "fillmode": "overlay",
              "size": 10,
              "solidity": 0.2
             }
            },
            "type": "barpolar"
           }
          ],
          "carpet": [
           {
            "aaxis": {
             "endlinecolor": "#2a3f5f",
             "gridcolor": "white",
             "linecolor": "white",
             "minorgridcolor": "white",
             "startlinecolor": "#2a3f5f"
            },
            "baxis": {
             "endlinecolor": "#2a3f5f",
             "gridcolor": "white",
             "linecolor": "white",
             "minorgridcolor": "white",
             "startlinecolor": "#2a3f5f"
            },
            "type": "carpet"
           }
          ],
          "choropleth": [
           {
            "colorbar": {
             "outlinewidth": 0,
             "ticks": ""
            },
            "type": "choropleth"
           }
          ],
          "contour": [
           {
            "colorbar": {
             "outlinewidth": 0,
             "ticks": ""
            },
            "colorscale": [
             [
              0,
              "#0d0887"
             ],
             [
              0.1111111111111111,
              "#46039f"
             ],
             [
              0.2222222222222222,
              "#7201a8"
             ],
             [
              0.3333333333333333,
              "#9c179e"
             ],
             [
              0.4444444444444444,
              "#bd3786"
             ],
             [
              0.5555555555555556,
              "#d8576b"
             ],
             [
              0.6666666666666666,
              "#ed7953"
             ],
             [
              0.7777777777777778,
              "#fb9f3a"
             ],
             [
              0.8888888888888888,
              "#fdca26"
             ],
             [
              1,
              "#f0f921"
             ]
            ],
            "type": "contour"
           }
          ],
          "contourcarpet": [
           {
            "colorbar": {
             "outlinewidth": 0,
             "ticks": ""
            },
            "type": "contourcarpet"
           }
          ],
          "heatmap": [
           {
            "colorbar": {
             "outlinewidth": 0,
             "ticks": ""
            },
            "colorscale": [
             [
              0,
              "#0d0887"
             ],
             [
              0.1111111111111111,
              "#46039f"
             ],
             [
              0.2222222222222222,
              "#7201a8"
             ],
             [
              0.3333333333333333,
              "#9c179e"
             ],
             [
              0.4444444444444444,
              "#bd3786"
             ],
             [
              0.5555555555555556,
              "#d8576b"
             ],
             [
              0.6666666666666666,
              "#ed7953"
             ],
             [
              0.7777777777777778,
              "#fb9f3a"
             ],
             [
              0.8888888888888888,
              "#fdca26"
             ],
             [
              1,
              "#f0f921"
             ]
            ],
            "type": "heatmap"
           }
          ],
          "heatmapgl": [
           {
            "colorbar": {
             "outlinewidth": 0,
             "ticks": ""
            },
            "colorscale": [
             [
              0,
              "#0d0887"
             ],
             [
              0.1111111111111111,
              "#46039f"
             ],
             [
              0.2222222222222222,
              "#7201a8"
             ],
             [
              0.3333333333333333,
              "#9c179e"
             ],
             [
              0.4444444444444444,
              "#bd3786"
             ],
             [
              0.5555555555555556,
              "#d8576b"
             ],
             [
              0.6666666666666666,
              "#ed7953"
             ],
             [
              0.7777777777777778,
              "#fb9f3a"
             ],
             [
              0.8888888888888888,
              "#fdca26"
             ],
             [
              1,
              "#f0f921"
             ]
            ],
            "type": "heatmapgl"
           }
          ],
          "histogram": [
           {
            "marker": {
             "pattern": {
              "fillmode": "overlay",
              "size": 10,
              "solidity": 0.2
             }
            },
            "type": "histogram"
           }
          ],
          "histogram2d": [
           {
            "colorbar": {
             "outlinewidth": 0,
             "ticks": ""
            },
            "colorscale": [
             [
              0,
              "#0d0887"
             ],
             [
              0.1111111111111111,
              "#46039f"
             ],
             [
              0.2222222222222222,
              "#7201a8"
             ],
             [
              0.3333333333333333,
              "#9c179e"
             ],
             [
              0.4444444444444444,
              "#bd3786"
             ],
             [
              0.5555555555555556,
              "#d8576b"
             ],
             [
              0.6666666666666666,
              "#ed7953"
             ],
             [
              0.7777777777777778,
              "#fb9f3a"
             ],
             [
              0.8888888888888888,
              "#fdca26"
             ],
             [
              1,
              "#f0f921"
             ]
            ],
            "type": "histogram2d"
           }
          ],
          "histogram2dcontour": [
           {
            "colorbar": {
             "outlinewidth": 0,
             "ticks": ""
            },
            "colorscale": [
             [
              0,
              "#0d0887"
             ],
             [
              0.1111111111111111,
              "#46039f"
             ],
             [
              0.2222222222222222,
              "#7201a8"
             ],
             [
              0.3333333333333333,
              "#9c179e"
             ],
             [
              0.4444444444444444,
              "#bd3786"
             ],
             [
              0.5555555555555556,
              "#d8576b"
             ],
             [
              0.6666666666666666,
              "#ed7953"
             ],
             [
              0.7777777777777778,
              "#fb9f3a"
             ],
             [
              0.8888888888888888,
              "#fdca26"
             ],
             [
              1,
              "#f0f921"
             ]
            ],
            "type": "histogram2dcontour"
           }
          ],
          "mesh3d": [
           {
            "colorbar": {
             "outlinewidth": 0,
             "ticks": ""
            },
            "type": "mesh3d"
           }
          ],
          "parcoords": [
           {
            "line": {
             "colorbar": {
              "outlinewidth": 0,
              "ticks": ""
             }
            },
            "type": "parcoords"
           }
          ],
          "pie": [
           {
            "automargin": true,
            "type": "pie"
           }
          ],
          "scatter": [
           {
            "fillpattern": {
             "fillmode": "overlay",
             "size": 10,
             "solidity": 0.2
            },
            "type": "scatter"
           }
          ],
          "scatter3d": [
           {
            "line": {
             "colorbar": {
              "outlinewidth": 0,
              "ticks": ""
             }
            },
            "marker": {
             "colorbar": {
              "outlinewidth": 0,
              "ticks": ""
             }
            },
            "type": "scatter3d"
           }
          ],
          "scattercarpet": [
           {
            "marker": {
             "colorbar": {
              "outlinewidth": 0,
              "ticks": ""
             }
            },
            "type": "scattercarpet"
           }
          ],
          "scattergeo": [
           {
            "marker": {
             "colorbar": {
              "outlinewidth": 0,
              "ticks": ""
             }
            },
            "type": "scattergeo"
           }
          ],
          "scattergl": [
           {
            "marker": {
             "colorbar": {
              "outlinewidth": 0,
              "ticks": ""
             }
            },
            "type": "scattergl"
           }
          ],
          "scattermapbox": [
           {
            "marker": {
             "colorbar": {
              "outlinewidth": 0,
              "ticks": ""
             }
            },
            "type": "scattermapbox"
           }
          ],
          "scatterpolar": [
           {
            "marker": {
             "colorbar": {
              "outlinewidth": 0,
              "ticks": ""
             }
            },
            "type": "scatterpolar"
           }
          ],
          "scatterpolargl": [
           {
            "marker": {
             "colorbar": {
              "outlinewidth": 0,
              "ticks": ""
             }
            },
            "type": "scatterpolargl"
           }
          ],
          "scatterternary": [
           {
            "marker": {
             "colorbar": {
              "outlinewidth": 0,
              "ticks": ""
             }
            },
            "type": "scatterternary"
           }
          ],
          "surface": [
           {
            "colorbar": {
             "outlinewidth": 0,
             "ticks": ""
            },
            "colorscale": [
             [
              0,
              "#0d0887"
             ],
             [
              0.1111111111111111,
              "#46039f"
             ],
             [
              0.2222222222222222,
              "#7201a8"
             ],
             [
              0.3333333333333333,
              "#9c179e"
             ],
             [
              0.4444444444444444,
              "#bd3786"
             ],
             [
              0.5555555555555556,
              "#d8576b"
             ],
             [
              0.6666666666666666,
              "#ed7953"
             ],
             [
              0.7777777777777778,
              "#fb9f3a"
             ],
             [
              0.8888888888888888,
              "#fdca26"
             ],
             [
              1,
              "#f0f921"
             ]
            ],
            "type": "surface"
           }
          ],
          "table": [
           {
            "cells": {
             "fill": {
              "color": "#EBF0F8"
             },
             "line": {
              "color": "white"
             }
            },
            "header": {
             "fill": {
              "color": "#C8D4E3"
             },
             "line": {
              "color": "white"
             }
            },
            "type": "table"
           }
          ]
         },
         "layout": {
          "annotationdefaults": {
           "arrowcolor": "#2a3f5f",
           "arrowhead": 0,
           "arrowwidth": 1
          },
          "autotypenumbers": "strict",
          "coloraxis": {
           "colorbar": {
            "outlinewidth": 0,
            "ticks": ""
           }
          },
          "colorscale": {
           "diverging": [
            [
             0,
             "#8e0152"
            ],
            [
             0.1,
             "#c51b7d"
            ],
            [
             0.2,
             "#de77ae"
            ],
            [
             0.3,
             "#f1b6da"
            ],
            [
             0.4,
             "#fde0ef"
            ],
            [
             0.5,
             "#f7f7f7"
            ],
            [
             0.6,
             "#e6f5d0"
            ],
            [
             0.7,
             "#b8e186"
            ],
            [
             0.8,
             "#7fbc41"
            ],
            [
             0.9,
             "#4d9221"
            ],
            [
             1,
             "#276419"
            ]
           ],
           "sequential": [
            [
             0,
             "#0d0887"
            ],
            [
             0.1111111111111111,
             "#46039f"
            ],
            [
             0.2222222222222222,
             "#7201a8"
            ],
            [
             0.3333333333333333,
             "#9c179e"
            ],
            [
             0.4444444444444444,
             "#bd3786"
            ],
            [
             0.5555555555555556,
             "#d8576b"
            ],
            [
             0.6666666666666666,
             "#ed7953"
            ],
            [
             0.7777777777777778,
             "#fb9f3a"
            ],
            [
             0.8888888888888888,
             "#fdca26"
            ],
            [
             1,
             "#f0f921"
            ]
           ],
           "sequentialminus": [
            [
             0,
             "#0d0887"
            ],
            [
             0.1111111111111111,
             "#46039f"
            ],
            [
             0.2222222222222222,
             "#7201a8"
            ],
            [
             0.3333333333333333,
             "#9c179e"
            ],
            [
             0.4444444444444444,
             "#bd3786"
            ],
            [
             0.5555555555555556,
             "#d8576b"
            ],
            [
             0.6666666666666666,
             "#ed7953"
            ],
            [
             0.7777777777777778,
             "#fb9f3a"
            ],
            [
             0.8888888888888888,
             "#fdca26"
            ],
            [
             1,
             "#f0f921"
            ]
           ]
          },
          "colorway": [
           "#636efa",
           "#EF553B",
           "#00cc96",
           "#ab63fa",
           "#FFA15A",
           "#19d3f3",
           "#FF6692",
           "#B6E880",
           "#FF97FF",
           "#FECB52"
          ],
          "font": {
           "color": "#2a3f5f"
          },
          "geo": {
           "bgcolor": "white",
           "lakecolor": "white",
           "landcolor": "#E5ECF6",
           "showlakes": true,
           "showland": true,
           "subunitcolor": "white"
          },
          "hoverlabel": {
           "align": "left"
          },
          "hovermode": "closest",
          "mapbox": {
           "style": "light"
          },
          "paper_bgcolor": "white",
          "plot_bgcolor": "#E5ECF6",
          "polar": {
           "angularaxis": {
            "gridcolor": "white",
            "linecolor": "white",
            "ticks": ""
           },
           "bgcolor": "#E5ECF6",
           "radialaxis": {
            "gridcolor": "white",
            "linecolor": "white",
            "ticks": ""
           }
          },
          "scene": {
           "xaxis": {
            "backgroundcolor": "#E5ECF6",
            "gridcolor": "white",
            "gridwidth": 2,
            "linecolor": "white",
            "showbackground": true,
            "ticks": "",
            "zerolinecolor": "white"
           },
           "yaxis": {
            "backgroundcolor": "#E5ECF6",
            "gridcolor": "white",
            "gridwidth": 2,
            "linecolor": "white",
            "showbackground": true,
            "ticks": "",
            "zerolinecolor": "white"
           },
           "zaxis": {
            "backgroundcolor": "#E5ECF6",
            "gridcolor": "white",
            "gridwidth": 2,
            "linecolor": "white",
            "showbackground": true,
            "ticks": "",
            "zerolinecolor": "white"
           }
          },
          "shapedefaults": {
           "line": {
            "color": "#2a3f5f"
           }
          },
          "ternary": {
           "aaxis": {
            "gridcolor": "white",
            "linecolor": "white",
            "ticks": ""
           },
           "baxis": {
            "gridcolor": "white",
            "linecolor": "white",
            "ticks": ""
           },
           "bgcolor": "#E5ECF6",
           "caxis": {
            "gridcolor": "white",
            "linecolor": "white",
            "ticks": ""
           }
          },
          "title": {
           "x": 0.05
          },
          "xaxis": {
           "automargin": true,
           "gridcolor": "white",
           "linecolor": "white",
           "ticks": "",
           "title": {
            "standoff": 15
           },
           "zerolinecolor": "white",
           "zerolinewidth": 2
          },
          "yaxis": {
           "automargin": true,
           "gridcolor": "white",
           "linecolor": "white",
           "ticks": "",
           "title": {
            "standoff": 15
           },
           "zerolinecolor": "white",
           "zerolinewidth": 2
          }
         }
        }
       }
      },
      "text/html": [
       "<div>                            <div id=\"af8c49e6-c118-481f-a6d1-a99bfe31836d\" class=\"plotly-graph-div\" style=\"height:525px; width:100%;\"></div>            <script type=\"text/javascript\">                require([\"plotly\"], function(Plotly) {                    window.PLOTLYENV=window.PLOTLYENV || {};                                    if (document.getElementById(\"af8c49e6-c118-481f-a6d1-a99bfe31836d\")) {                    Plotly.newPlot(                        \"af8c49e6-c118-481f-a6d1-a99bfe31836d\",                        [{\"name\":\"FGM\",\"x\":[2012,2013,2014,2015,2016,2017,2018,2019,2020,2021,2022],\"y\":[38.79131657513413,39.01680782551966,38.88289571528818,38.64603260714388,39.44880626618683,40.21530133425962,39.440638951798526,38.96793498198478,40.75995883589164,39.8682673864048,41.03829614482468],\"type\":\"scatter\"},{\"name\":\"FGA\",\"x\":[2012,2013,2014,2015,2016,2017,2018,2019,2020,2021,2022],\"y\":[85.85879100595787,85.90544861126696,86.85631966667587,86.56216391133445,86.08403196148451,86.49017941265525,86.84081664450144,85.39624052934323,87.37762155043589,86.5655242403212,87.26158883141876],\"type\":\"scatter\"},{\"name\":\"FG3M\",\"x\":[2012,2013,2014,2015,2016,2017,2018,2019,2020,2021,2022],\"y\":[7.571295620416156,8.14762052392029,8.224083544311029,8.853705660090036,10.04475980204428,10.566795210129367,11.050149035581201,12.449647544019998,12.533564125716135,12.50788529864427,12.242418205328681],\"type\":\"scatter\"},{\"name\":\"FG3A\",\"x\":[2012,2013,2014,2015,2016,2017,2018,2019,2020,2021,2022],\"y\":[21.211574554712247,22.740586609657885,23.505882778602434,25.228659262008772,28.084990768928332,28.891539339986437,31.464870449406728,34.42488996682187,33.97566822674957,35.04330374022297,34.11713628435676],\"type\":\"scatter\"},{\"name\":\"FTM\",\"x\":[2012,2013,2014,2015,2016,2017,2018,2019,2020,2021,2022],\"y\":[18.70274286984062,19.37883130740423,18.247706063875064,18.16663335522371,18.71946351292582,16.937612104091002,18.175014328560852,18.064546220213455,17.49918184363159,17.493269731016294,18.064086275335296],\"type\":\"scatter\"},{\"name\":\"FTA\",\"x\":[2012,2013,2014,2015,2016,2017,2018,2019,2020,2021,2022],\"y\":[24.828473567068833,25.48419737260041,24.348524044792335,24.127002255660564,24.093050686048052,21.97124909509808,23.431138513131266,23.1098824907547,22.279975080731333,22.337977473960002,22.90138028507848],\"type\":\"scatter\"},{\"name\":\"OREB\",\"x\":[2012,2013,2014,2015,2016,2017,2018,2019,2020,2021,2022],\"y\":[11.265848946828298,11.124224228603163,11.318528872127045,10.83335712722116,10.047078001860124,9.736821477261024,10.171423377904896,8.924639269668514,9.724232017317314,9.47963445779255,10.13975762314308],\"type\":\"scatter\"},{\"name\":\"DREB\",\"x\":[2012,2013,2014,2015,2016,2017,2018,2019,2020,2021,2022],\"y\":[32.28030101201491,32.526290162752694,33.96510798662057,34.122814531403165,33.201257762492084,33.82527208537048,33.82514147714942,33.106375421453755,33.2807281788825,33.061490027750324,32.16483355385817],\"type\":\"scatter\"},{\"name\":\"REB\",\"x\":[2012,2013,2014,2015,2016,2017,2018,2019,2020,2021,2022],\"y\":[43.51329621058894,43.64100447536646,45.190803498913134,44.9228602156678,43.18574436932447,43.539038736718496,43.954831182658076,42.00859097436431,43.00988884902156,42.57320864278091,42.290495128405595],\"type\":\"scatter\"},{\"name\":\"AST\",\"x\":[2012,2013,2014,2015,2016,2017,2018,2019,2020,2021,2022],\"y\":[22.012011330361762,22.21516375124342,22.52518164394074,21.80947758139889,22.773994990833838,23.25079193327011,23.229425763216124,23.27806036643941,23.765963906489652,24.124818230909185,24.44254826487039],\"type\":\"scatter\"},{\"name\":\"STL\",\"x\":[2012,2013,2014,2015,2016,2017,2018,2019,2020,2021,2022],\"y\":[7.783351631875543,7.638840018487277,7.871792845451974,7.88529442556796,7.687150589332757,7.800216100568225,7.259340459589748,7.099348725570481,7.109581695377712,7.307783813986915,6.986941420580981],\"type\":\"scatter\"},{\"name\":\"BLK\",\"x\":[2012,2013,2014,2015,2016,2017,2018,2019,2020,2021,2022],\"y\":[5.208812450495375,4.750203036706373,5.101074105776711,5.13710038165396,4.708263825975521,4.856883325674008,4.736771816972806,4.379351882829801,4.504788679081615,4.51152611008716,4.5953118421843975],\"type\":\"scatter\"},{\"name\":\"TOV\",\"x\":[2012,2013,2014,2015,2016,2017,2018,2019,2020,2021,2022],\"y\":[14.482529571360134,14.005728773392015,13.74885862574255,13.655312223396052,13.362103738514477,13.579292462762613,13.020905787625686,13.360050444393218,12.543421431359638,13.085400128928951,12.801561466289769],\"type\":\"scatter\"},{\"name\":\"PTS\",\"x\":[2012,2013,2014,2015,2016,2017,2018,2019,2020,2021,2022],\"y\":[103.82979130104428,105.45783588547776,104.14236733636812,104.27671339786235,107.62938104992197,107.96574975062363,108.025292460302,108.37606546290175,111.5304847034331,109.68092552427981,112.36195269741984],\"type\":\"scatter\"},{\"name\":\"FG%\",\"x\":[2012,2013,2014,2015,2016,2017,2018,2019,2020,2021,2022],\"y\":[0.01349403992595197,0.010798109159361156,0.010656059556383615,0.010622878671562362,0.010623365720414397,0.01786632073137839,0.010530139888345624,0.010232370081659739,0.011495602796596338,0.011366576589138932,0.011048729543877629],\"type\":\"scatter\"},{\"name\":\"3PT%\",\"x\":[2012,2013,2014,2015,2016,2017,2018,2019,2020,2021,2022],\"y\":[0.35694170656153196,0.3582854155776268,0.349873417721519,0.35093841365651235,0.35765579859678087,0.36574012501662456,0.3511900375801342,0.361646690984888,0.3688982374700805,0.35692654412282554,0.35883487122985813],\"type\":\"scatter\"},{\"name\":\"FT%\",\"x\":[2012,2013,2014,2015,2016,2017,2018,2019,2020,2021,2022],\"y\":[0.7532779983158908,0.7604254128183598,0.7494378727148304,0.7529585798816568,0.7769652650822669,0.770898915704792,0.7756778151593112,0.7816805744226665,0.7854219665966155,0.7831178875262401,0.7887771850636028],\"type\":\"scatter\"},{\"name\":\"AST%\",\"x\":[2012,2013,2014,2015,2016,2017,2018,2019,2020,2021,2022],\"y\":[0.5674468740375732,0.569374200231552,0.5793082338536883,0.5643393670730206,0.5773050478932832,0.5781578444486911,0.5889718417494563,0.59736448383013,0.5830713422007255,0.6051132846353844,0.5956033890542707],\"type\":\"scatter\"},{\"name\":\"FG3A%\",\"x\":[2012,2013,2014,2015,2016,2017,2018,2019,2020,2021,2022],\"y\":[0.24705186628169898,0.2647164641740237,0.27062950478226316,0.29145134689389773,0.3262508752087036,0.3340441601137323,0.36232812708583634,0.4031195021400625,0.38883718306681336,0.40481824661439775,0.39097541932531027],\"type\":\"scatter\"},{\"name\":\"PTS/FGA\",\"x\":[2012,2013,2014,2015,2016,2017,2018,2019,2020,2021,2022],\"y\":[1.209308797439733,1.2276035756787422,1.199018882402916,1.2046454095656955,1.2502827597350137,1.2483006797281089,1.243946068615672,1.2690964472336739,1.2764193248159743,1.2670277975766215,1.287645047519048],\"type\":\"scatter\"},{\"name\":\"FG3M/FGM\",\"x\":[2012,2013,2014,2015,2016,2017,2018,2019,2020,2021,2022],\"y\":[0.19518016630736065,0.20882335019194442,0.21150902969084787,0.22909740179780816,0.2546277252159605,0.26275558952799544,0.2801716536358827,0.3194844055702613,0.307496977025393,0.31373034542528166,0.29831692237233803],\"type\":\"scatter\"},{\"name\":\"FTA/FGA\",\"x\":[2012,2013,2014,2015,2016,2017,2018,2019,2020,2021,2022],\"y\":[0.2891780011827321,0.29665402817369163,0.2803310586752172,0.27872457394172623,0.2798782786664512,0.2540317206450753,0.2698171138699773,0.27061943649397363,0.25498491130101253,0.25804704205274415,0.2624451444417521],\"type\":\"scatter\"},{\"name\":\"TRU%\",\"x\":[2012,2013,2014,2015,2016,2017,2018,2019,2020,2021,2022],\"y\":[0.5316299479977092,0.5379928574070896,0.5290611163478567,0.5319019819644873,0.5517857747706687,0.5569463687881689,0.5513148039242368,0.5622714692397451,0.5692618953133186,0.5643412663995292,0.5724589630218345],\"type\":\"scatter\"},{\"name\":\"AST_TOV\",\"x\":[2012,2013,2014,2015,2016,2017,2018,2019,2020,2021,2022],\"y\":[1.5199010105176325,1.5861483619079952,1.6383310249307477,1.5971423592960448,1.7043719639139487,1.7122241086587437,1.7840099715099713,1.7423632091305807,1.894695481335953,1.8436439079592606,1.9093411635162418],\"type\":\"scatter\"}],                        {\"template\":{\"data\":{\"histogram2dcontour\":[{\"type\":\"histogram2dcontour\",\"colorbar\":{\"outlinewidth\":0,\"ticks\":\"\"},\"colorscale\":[[0.0,\"#0d0887\"],[0.1111111111111111,\"#46039f\"],[0.2222222222222222,\"#7201a8\"],[0.3333333333333333,\"#9c179e\"],[0.4444444444444444,\"#bd3786\"],[0.5555555555555556,\"#d8576b\"],[0.6666666666666666,\"#ed7953\"],[0.7777777777777778,\"#fb9f3a\"],[0.8888888888888888,\"#fdca26\"],[1.0,\"#f0f921\"]]}],\"choropleth\":[{\"type\":\"choropleth\",\"colorbar\":{\"outlinewidth\":0,\"ticks\":\"\"}}],\"histogram2d\":[{\"type\":\"histogram2d\",\"colorbar\":{\"outlinewidth\":0,\"ticks\":\"\"},\"colorscale\":[[0.0,\"#0d0887\"],[0.1111111111111111,\"#46039f\"],[0.2222222222222222,\"#7201a8\"],[0.3333333333333333,\"#9c179e\"],[0.4444444444444444,\"#bd3786\"],[0.5555555555555556,\"#d8576b\"],[0.6666666666666666,\"#ed7953\"],[0.7777777777777778,\"#fb9f3a\"],[0.8888888888888888,\"#fdca26\"],[1.0,\"#f0f921\"]]}],\"heatmap\":[{\"type\":\"heatmap\",\"colorbar\":{\"outlinewidth\":0,\"ticks\":\"\"},\"colorscale\":[[0.0,\"#0d0887\"],[0.1111111111111111,\"#46039f\"],[0.2222222222222222,\"#7201a8\"],[0.3333333333333333,\"#9c179e\"],[0.4444444444444444,\"#bd3786\"],[0.5555555555555556,\"#d8576b\"],[0.6666666666666666,\"#ed7953\"],[0.7777777777777778,\"#fb9f3a\"],[0.8888888888888888,\"#fdca26\"],[1.0,\"#f0f921\"]]}],\"heatmapgl\":[{\"type\":\"heatmapgl\",\"colorbar\":{\"outlinewidth\":0,\"ticks\":\"\"},\"colorscale\":[[0.0,\"#0d0887\"],[0.1111111111111111,\"#46039f\"],[0.2222222222222222,\"#7201a8\"],[0.3333333333333333,\"#9c179e\"],[0.4444444444444444,\"#bd3786\"],[0.5555555555555556,\"#d8576b\"],[0.6666666666666666,\"#ed7953\"],[0.7777777777777778,\"#fb9f3a\"],[0.8888888888888888,\"#fdca26\"],[1.0,\"#f0f921\"]]}],\"contourcarpet\":[{\"type\":\"contourcarpet\",\"colorbar\":{\"outlinewidth\":0,\"ticks\":\"\"}}],\"contour\":[{\"type\":\"contour\",\"colorbar\":{\"outlinewidth\":0,\"ticks\":\"\"},\"colorscale\":[[0.0,\"#0d0887\"],[0.1111111111111111,\"#46039f\"],[0.2222222222222222,\"#7201a8\"],[0.3333333333333333,\"#9c179e\"],[0.4444444444444444,\"#bd3786\"],[0.5555555555555556,\"#d8576b\"],[0.6666666666666666,\"#ed7953\"],[0.7777777777777778,\"#fb9f3a\"],[0.8888888888888888,\"#fdca26\"],[1.0,\"#f0f921\"]]}],\"surface\":[{\"type\":\"surface\",\"colorbar\":{\"outlinewidth\":0,\"ticks\":\"\"},\"colorscale\":[[0.0,\"#0d0887\"],[0.1111111111111111,\"#46039f\"],[0.2222222222222222,\"#7201a8\"],[0.3333333333333333,\"#9c179e\"],[0.4444444444444444,\"#bd3786\"],[0.5555555555555556,\"#d8576b\"],[0.6666666666666666,\"#ed7953\"],[0.7777777777777778,\"#fb9f3a\"],[0.8888888888888888,\"#fdca26\"],[1.0,\"#f0f921\"]]}],\"mesh3d\":[{\"type\":\"mesh3d\",\"colorbar\":{\"outlinewidth\":0,\"ticks\":\"\"}}],\"scatter\":[{\"fillpattern\":{\"fillmode\":\"overlay\",\"size\":10,\"solidity\":0.2},\"type\":\"scatter\"}],\"parcoords\":[{\"type\":\"parcoords\",\"line\":{\"colorbar\":{\"outlinewidth\":0,\"ticks\":\"\"}}}],\"scatterpolargl\":[{\"type\":\"scatterpolargl\",\"marker\":{\"colorbar\":{\"outlinewidth\":0,\"ticks\":\"\"}}}],\"bar\":[{\"error_x\":{\"color\":\"#2a3f5f\"},\"error_y\":{\"color\":\"#2a3f5f\"},\"marker\":{\"line\":{\"color\":\"#E5ECF6\",\"width\":0.5},\"pattern\":{\"fillmode\":\"overlay\",\"size\":10,\"solidity\":0.2}},\"type\":\"bar\"}],\"scattergeo\":[{\"type\":\"scattergeo\",\"marker\":{\"colorbar\":{\"outlinewidth\":0,\"ticks\":\"\"}}}],\"scatterpolar\":[{\"type\":\"scatterpolar\",\"marker\":{\"colorbar\":{\"outlinewidth\":0,\"ticks\":\"\"}}}],\"histogram\":[{\"marker\":{\"pattern\":{\"fillmode\":\"overlay\",\"size\":10,\"solidity\":0.2}},\"type\":\"histogram\"}],\"scattergl\":[{\"type\":\"scattergl\",\"marker\":{\"colorbar\":{\"outlinewidth\":0,\"ticks\":\"\"}}}],\"scatter3d\":[{\"type\":\"scatter3d\",\"line\":{\"colorbar\":{\"outlinewidth\":0,\"ticks\":\"\"}},\"marker\":{\"colorbar\":{\"outlinewidth\":0,\"ticks\":\"\"}}}],\"scattermapbox\":[{\"type\":\"scattermapbox\",\"marker\":{\"colorbar\":{\"outlinewidth\":0,\"ticks\":\"\"}}}],\"scatterternary\":[{\"type\":\"scatterternary\",\"marker\":{\"colorbar\":{\"outlinewidth\":0,\"ticks\":\"\"}}}],\"scattercarpet\":[{\"type\":\"scattercarpet\",\"marker\":{\"colorbar\":{\"outlinewidth\":0,\"ticks\":\"\"}}}],\"carpet\":[{\"aaxis\":{\"endlinecolor\":\"#2a3f5f\",\"gridcolor\":\"white\",\"linecolor\":\"white\",\"minorgridcolor\":\"white\",\"startlinecolor\":\"#2a3f5f\"},\"baxis\":{\"endlinecolor\":\"#2a3f5f\",\"gridcolor\":\"white\",\"linecolor\":\"white\",\"minorgridcolor\":\"white\",\"startlinecolor\":\"#2a3f5f\"},\"type\":\"carpet\"}],\"table\":[{\"cells\":{\"fill\":{\"color\":\"#EBF0F8\"},\"line\":{\"color\":\"white\"}},\"header\":{\"fill\":{\"color\":\"#C8D4E3\"},\"line\":{\"color\":\"white\"}},\"type\":\"table\"}],\"barpolar\":[{\"marker\":{\"line\":{\"color\":\"#E5ECF6\",\"width\":0.5},\"pattern\":{\"fillmode\":\"overlay\",\"size\":10,\"solidity\":0.2}},\"type\":\"barpolar\"}],\"pie\":[{\"automargin\":true,\"type\":\"pie\"}]},\"layout\":{\"autotypenumbers\":\"strict\",\"colorway\":[\"#636efa\",\"#EF553B\",\"#00cc96\",\"#ab63fa\",\"#FFA15A\",\"#19d3f3\",\"#FF6692\",\"#B6E880\",\"#FF97FF\",\"#FECB52\"],\"font\":{\"color\":\"#2a3f5f\"},\"hovermode\":\"closest\",\"hoverlabel\":{\"align\":\"left\"},\"paper_bgcolor\":\"white\",\"plot_bgcolor\":\"#E5ECF6\",\"polar\":{\"bgcolor\":\"#E5ECF6\",\"angularaxis\":{\"gridcolor\":\"white\",\"linecolor\":\"white\",\"ticks\":\"\"},\"radialaxis\":{\"gridcolor\":\"white\",\"linecolor\":\"white\",\"ticks\":\"\"}},\"ternary\":{\"bgcolor\":\"#E5ECF6\",\"aaxis\":{\"gridcolor\":\"white\",\"linecolor\":\"white\",\"ticks\":\"\"},\"baxis\":{\"gridcolor\":\"white\",\"linecolor\":\"white\",\"ticks\":\"\"},\"caxis\":{\"gridcolor\":\"white\",\"linecolor\":\"white\",\"ticks\":\"\"}},\"coloraxis\":{\"colorbar\":{\"outlinewidth\":0,\"ticks\":\"\"}},\"colorscale\":{\"sequential\":[[0.0,\"#0d0887\"],[0.1111111111111111,\"#46039f\"],[0.2222222222222222,\"#7201a8\"],[0.3333333333333333,\"#9c179e\"],[0.4444444444444444,\"#bd3786\"],[0.5555555555555556,\"#d8576b\"],[0.6666666666666666,\"#ed7953\"],[0.7777777777777778,\"#fb9f3a\"],[0.8888888888888888,\"#fdca26\"],[1.0,\"#f0f921\"]],\"sequentialminus\":[[0.0,\"#0d0887\"],[0.1111111111111111,\"#46039f\"],[0.2222222222222222,\"#7201a8\"],[0.3333333333333333,\"#9c179e\"],[0.4444444444444444,\"#bd3786\"],[0.5555555555555556,\"#d8576b\"],[0.6666666666666666,\"#ed7953\"],[0.7777777777777778,\"#fb9f3a\"],[0.8888888888888888,\"#fdca26\"],[1.0,\"#f0f921\"]],\"diverging\":[[0,\"#8e0152\"],[0.1,\"#c51b7d\"],[0.2,\"#de77ae\"],[0.3,\"#f1b6da\"],[0.4,\"#fde0ef\"],[0.5,\"#f7f7f7\"],[0.6,\"#e6f5d0\"],[0.7,\"#b8e186\"],[0.8,\"#7fbc41\"],[0.9,\"#4d9221\"],[1,\"#276419\"]]},\"xaxis\":{\"gridcolor\":\"white\",\"linecolor\":\"white\",\"ticks\":\"\",\"title\":{\"standoff\":15},\"zerolinecolor\":\"white\",\"automargin\":true,\"zerolinewidth\":2},\"yaxis\":{\"gridcolor\":\"white\",\"linecolor\":\"white\",\"ticks\":\"\",\"title\":{\"standoff\":15},\"zerolinecolor\":\"white\",\"automargin\":true,\"zerolinewidth\":2},\"scene\":{\"xaxis\":{\"backgroundcolor\":\"#E5ECF6\",\"gridcolor\":\"white\",\"linecolor\":\"white\",\"showbackground\":true,\"ticks\":\"\",\"zerolinecolor\":\"white\",\"gridwidth\":2},\"yaxis\":{\"backgroundcolor\":\"#E5ECF6\",\"gridcolor\":\"white\",\"linecolor\":\"white\",\"showbackground\":true,\"ticks\":\"\",\"zerolinecolor\":\"white\",\"gridwidth\":2},\"zaxis\":{\"backgroundcolor\":\"#E5ECF6\",\"gridcolor\":\"white\",\"linecolor\":\"white\",\"showbackground\":true,\"ticks\":\"\",\"zerolinecolor\":\"white\",\"gridwidth\":2}},\"shapedefaults\":{\"line\":{\"color\":\"#2a3f5f\"}},\"annotationdefaults\":{\"arrowcolor\":\"#2a3f5f\",\"arrowhead\":0,\"arrowwidth\":1},\"geo\":{\"bgcolor\":\"white\",\"landcolor\":\"#E5ECF6\",\"subunitcolor\":\"white\",\"showland\":true,\"showlakes\":true,\"lakecolor\":\"white\"},\"title\":{\"x\":0.05},\"mapbox\":{\"style\":\"light\"}}}},                        {\"responsive\": true}                    ).then(function(){\n",
       "                            \n",
       "var gd = document.getElementById('af8c49e6-c118-481f-a6d1-a99bfe31836d');\n",
       "var x = new MutationObserver(function (mutations, observer) {{\n",
       "        var display = window.getComputedStyle(gd).display;\n",
       "        if (!display || display === 'none') {{\n",
       "            console.log([gd, 'removed!']);\n",
       "            Plotly.purge(gd);\n",
       "            observer.disconnect();\n",
       "        }}\n",
       "}});\n",
       "\n",
       "// Listen for the removal of the full notebook cells\n",
       "var notebookContainer = gd.closest('#notebook-container');\n",
       "if (notebookContainer) {{\n",
       "    x.observe(notebookContainer, {childList: true});\n",
       "}}\n",
       "\n",
       "// Listen for the clearing of the current output cell\n",
       "var outputEl = gd.closest('.output');\n",
       "if (outputEl) {{\n",
       "    x.observe(outputEl, {childList: true});\n",
       "}}\n",
       "\n",
       "                        })                };                });            </script>        </div>"
      ]
     },
     "metadata": {},
     "output_type": "display_data"
    }
   ],
   "source": [
    "change_per100_df = change_df.copy()\n",
    "\n",
    "for col in change_per100_df.columns[3:18]:\n",
    "    change_per100_df[col] = (change_per100_df[col]/change_per100_df['POSS_est'])*100\n",
    "\n",
    "change_per100_df.drop(columns=['MIN','POSS_est'], inplace=True)\n",
    "change_per100_df\n",
    "\n",
    "fig = go.Figure()\n",
    "for col in change_per100_df.columns[1:]:\n",
    "    fig.add_trace(go.Scatter(x=change_per100_df['season_start_year'],\n",
    "                             y=change_per100_df[col], name=col))\n",
    "fig.show()"
   ]
  },
  {
   "cell_type": "markdown",
   "id": "571cdc78",
   "metadata": {},
   "source": [
    "## Compare RS to Playoffs"
   ]
  },
  {
   "cell_type": "code",
   "execution_count": 31,
   "id": "75c0b225",
   "metadata": {},
   "outputs": [
    {
     "data": {
      "text/html": [
       "<div>\n",
       "<style scoped>\n",
       "    .dataframe tbody tr th:only-of-type {\n",
       "        vertical-align: middle;\n",
       "    }\n",
       "\n",
       "    .dataframe tbody tr th {\n",
       "        vertical-align: top;\n",
       "    }\n",
       "\n",
       "    .dataframe thead th {\n",
       "        text-align: right;\n",
       "    }\n",
       "</style>\n",
       "<table border=\"1\" class=\"dataframe\">\n",
       "  <thead>\n",
       "    <tr style=\"text-align: right;\">\n",
       "      <th></th>\n",
       "      <th>season_start_year</th>\n",
       "      <th>FGM</th>\n",
       "      <th>FGA</th>\n",
       "      <th>FG3M</th>\n",
       "      <th>FG3A</th>\n",
       "      <th>FTM</th>\n",
       "      <th>FTA</th>\n",
       "      <th>OREB</th>\n",
       "      <th>DREB</th>\n",
       "      <th>REB</th>\n",
       "      <th>AST</th>\n",
       "      <th>STL</th>\n",
       "      <th>BLK</th>\n",
       "      <th>TOV</th>\n",
       "      <th>PTS</th>\n",
       "      <th>POSS_per_48</th>\n",
       "      <th>FG%</th>\n",
       "      <th>3PT%</th>\n",
       "      <th>FT%</th>\n",
       "      <th>AST%</th>\n",
       "      <th>FG3A%</th>\n",
       "      <th>PTS/FGA</th>\n",
       "      <th>FG3M/FGM</th>\n",
       "      <th>FTA/FGA</th>\n",
       "      <th>TRU%</th>\n",
       "      <th>AST_TOV</th>\n",
       "    </tr>\n",
       "  </thead>\n",
       "  <tbody>\n",
       "    <tr>\n",
       "      <th>0</th>\n",
       "      <td>2012</td>\n",
       "      <td>39.736744</td>\n",
       "      <td>86.658749</td>\n",
       "      <td>7.610868</td>\n",
       "      <td>20.739616</td>\n",
       "      <td>18.070805</td>\n",
       "      <td>23.788971</td>\n",
       "      <td>11.591553</td>\n",
       "      <td>32.090826</td>\n",
       "      <td>43.662350</td>\n",
       "      <td>22.992834</td>\n",
       "      <td>8.041483</td>\n",
       "      <td>5.262515</td>\n",
       "      <td>14.465657</td>\n",
       "      <td>105.145147</td>\n",
       "      <td>96.911494</td>\n",
       "      <td>0.458543</td>\n",
       "      <td>0.366972</td>\n",
       "      <td>0.759630</td>\n",
       "      <td>0.578629</td>\n",
       "      <td>0.239325</td>\n",
       "      <td>1.213324</td>\n",
       "      <td>0.191532</td>\n",
       "      <td>0.274513</td>\n",
       "      <td>0.536682</td>\n",
       "      <td>1.589477</td>\n",
       "    </tr>\n",
       "    <tr>\n",
       "      <th>1</th>\n",
       "      <td>2013</td>\n",
       "      <td>39.172867</td>\n",
       "      <td>85.660814</td>\n",
       "      <td>8.018098</td>\n",
       "      <td>22.115446</td>\n",
       "      <td>18.929667</td>\n",
       "      <td>24.860914</td>\n",
       "      <td>10.807967</td>\n",
       "      <td>32.431300</td>\n",
       "      <td>43.239267</td>\n",
       "      <td>22.896165</td>\n",
       "      <td>7.895995</td>\n",
       "      <td>4.750917</td>\n",
       "      <td>14.208351</td>\n",
       "      <td>105.230597</td>\n",
       "      <td>97.415691</td>\n",
       "      <td>0.457302</td>\n",
       "      <td>0.362556</td>\n",
       "      <td>0.761423</td>\n",
       "      <td>0.584490</td>\n",
       "      <td>0.258175</td>\n",
       "      <td>1.228457</td>\n",
       "      <td>0.204685</td>\n",
       "      <td>0.290225</td>\n",
       "      <td>0.539812</td>\n",
       "      <td>1.611458</td>\n",
       "    </tr>\n",
       "    <tr>\n",
       "      <th>2</th>\n",
       "      <td>2014</td>\n",
       "      <td>39.387593</td>\n",
       "      <td>86.715518</td>\n",
       "      <td>8.025314</td>\n",
       "      <td>22.516697</td>\n",
       "      <td>18.104991</td>\n",
       "      <td>23.994656</td>\n",
       "      <td>11.380280</td>\n",
       "      <td>33.741792</td>\n",
       "      <td>45.037089</td>\n",
       "      <td>22.797509</td>\n",
       "      <td>7.951417</td>\n",
       "      <td>5.017669</td>\n",
       "      <td>14.107114</td>\n",
       "      <td>104.868543</td>\n",
       "      <td>96.552106</td>\n",
       "      <td>0.454216</td>\n",
       "      <td>0.356416</td>\n",
       "      <td>0.754543</td>\n",
       "      <td>0.578799</td>\n",
       "      <td>0.259662</td>\n",
       "      <td>1.209340</td>\n",
       "      <td>0.203752</td>\n",
       "      <td>0.276705</td>\n",
       "      <td>0.534427</td>\n",
       "      <td>1.616029</td>\n",
       "    </tr>\n",
       "    <tr>\n",
       "      <th>3</th>\n",
       "      <td>2015</td>\n",
       "      <td>39.242430</td>\n",
       "      <td>86.350104</td>\n",
       "      <td>8.805139</td>\n",
       "      <td>24.706848</td>\n",
       "      <td>18.098440</td>\n",
       "      <td>23.777882</td>\n",
       "      <td>10.816076</td>\n",
       "      <td>34.291589</td>\n",
       "      <td>45.071235</td>\n",
       "      <td>22.506474</td>\n",
       "      <td>8.080181</td>\n",
       "      <td>5.074703</td>\n",
       "      <td>14.003704</td>\n",
       "      <td>105.413940</td>\n",
       "      <td>97.912895</td>\n",
       "      <td>0.454457</td>\n",
       "      <td>0.356385</td>\n",
       "      <td>0.761146</td>\n",
       "      <td>0.573524</td>\n",
       "      <td>0.286124</td>\n",
       "      <td>1.220774</td>\n",
       "      <td>0.224378</td>\n",
       "      <td>0.275366</td>\n",
       "      <td>0.539784</td>\n",
       "      <td>1.607180</td>\n",
       "    </tr>\n",
       "    <tr>\n",
       "      <th>4</th>\n",
       "      <td>2016</td>\n",
       "      <td>39.626915</td>\n",
       "      <td>86.209107</td>\n",
       "      <td>9.932548</td>\n",
       "      <td>27.557569</td>\n",
       "      <td>18.394268</td>\n",
       "      <td>23.629422</td>\n",
       "      <td>10.000214</td>\n",
       "      <td>33.419518</td>\n",
       "      <td>43.387679</td>\n",
       "      <td>23.269728</td>\n",
       "      <td>7.720963</td>\n",
       "      <td>4.700955</td>\n",
       "      <td>13.394161</td>\n",
       "      <td>107.573524</td>\n",
       "      <td>99.715254</td>\n",
       "      <td>0.459660</td>\n",
       "      <td>0.360429</td>\n",
       "      <td>0.778448</td>\n",
       "      <td>0.587220</td>\n",
       "      <td>0.319660</td>\n",
       "      <td>1.247821</td>\n",
       "      <td>0.250652</td>\n",
       "      <td>0.274094</td>\n",
       "      <td>0.552038</td>\n",
       "      <td>1.737304</td>\n",
       "    </tr>\n",
       "    <tr>\n",
       "      <th>5</th>\n",
       "      <td>2017</td>\n",
       "      <td>40.215301</td>\n",
       "      <td>86.490179</td>\n",
       "      <td>10.566795</td>\n",
       "      <td>28.891539</td>\n",
       "      <td>16.937612</td>\n",
       "      <td>21.971249</td>\n",
       "      <td>9.736821</td>\n",
       "      <td>33.825272</td>\n",
       "      <td>43.539039</td>\n",
       "      <td>23.250792</td>\n",
       "      <td>7.800216</td>\n",
       "      <td>4.856883</td>\n",
       "      <td>13.579292</td>\n",
       "      <td>107.965750</td>\n",
       "      <td>99.243371</td>\n",
       "      <td>0.464970</td>\n",
       "      <td>0.365740</td>\n",
       "      <td>0.770899</td>\n",
       "      <td>0.578158</td>\n",
       "      <td>0.334044</td>\n",
       "      <td>1.248301</td>\n",
       "      <td>0.262756</td>\n",
       "      <td>0.254032</td>\n",
       "      <td>0.556946</td>\n",
       "      <td>1.712224</td>\n",
       "    </tr>\n",
       "    <tr>\n",
       "      <th>6</th>\n",
       "      <td>2018</td>\n",
       "      <td>40.487306</td>\n",
       "      <td>86.875025</td>\n",
       "      <td>11.097109</td>\n",
       "      <td>30.898682</td>\n",
       "      <td>17.791462</td>\n",
       "      <td>22.980940</td>\n",
       "      <td>10.122729</td>\n",
       "      <td>33.720776</td>\n",
       "      <td>43.814634</td>\n",
       "      <td>23.655788</td>\n",
       "      <td>7.325896</td>\n",
       "      <td>4.778072</td>\n",
       "      <td>13.136090</td>\n",
       "      <td>109.837921</td>\n",
       "      <td>103.577193</td>\n",
       "      <td>0.466041</td>\n",
       "      <td>0.359145</td>\n",
       "      <td>0.774183</td>\n",
       "      <td>0.584277</td>\n",
       "      <td>0.355668</td>\n",
       "      <td>1.264321</td>\n",
       "      <td>0.274089</td>\n",
       "      <td>0.264529</td>\n",
       "      <td>0.561595</td>\n",
       "      <td>1.800824</td>\n",
       "    </tr>\n",
       "    <tr>\n",
       "      <th>7</th>\n",
       "      <td>2019</td>\n",
       "      <td>39.558565</td>\n",
       "      <td>85.858845</td>\n",
       "      <td>12.119820</td>\n",
       "      <td>33.375479</td>\n",
       "      <td>17.629775</td>\n",
       "      <td>22.636618</td>\n",
       "      <td>9.121960</td>\n",
       "      <td>32.702349</td>\n",
       "      <td>41.806960</td>\n",
       "      <td>23.847559</td>\n",
       "      <td>7.248298</td>\n",
       "      <td>4.507199</td>\n",
       "      <td>13.303003</td>\n",
       "      <td>108.828559</td>\n",
       "      <td>104.905352</td>\n",
       "      <td>0.460740</td>\n",
       "      <td>0.363135</td>\n",
       "      <td>0.778817</td>\n",
       "      <td>0.602842</td>\n",
       "      <td>0.388725</td>\n",
       "      <td>1.267529</td>\n",
       "      <td>0.306377</td>\n",
       "      <td>0.263649</td>\n",
       "      <td>0.563229</td>\n",
       "      <td>1.792645</td>\n",
       "    </tr>\n",
       "    <tr>\n",
       "      <th>8</th>\n",
       "      <td>2020</td>\n",
       "      <td>40.987014</td>\n",
       "      <td>86.923848</td>\n",
       "      <td>12.468681</td>\n",
       "      <td>33.574052</td>\n",
       "      <td>17.065502</td>\n",
       "      <td>21.776067</td>\n",
       "      <td>9.495652</td>\n",
       "      <td>33.315187</td>\n",
       "      <td>42.826527</td>\n",
       "      <td>24.858918</td>\n",
       "      <td>7.479640</td>\n",
       "      <td>4.573288</td>\n",
       "      <td>12.990334</td>\n",
       "      <td>111.543512</td>\n",
       "      <td>102.019227</td>\n",
       "      <td>0.471528</td>\n",
       "      <td>0.371379</td>\n",
       "      <td>0.783682</td>\n",
       "      <td>0.606507</td>\n",
       "      <td>0.386247</td>\n",
       "      <td>1.283233</td>\n",
       "      <td>0.304211</td>\n",
       "      <td>0.250519</td>\n",
       "      <td>0.573385</td>\n",
       "      <td>1.913647</td>\n",
       "    </tr>\n",
       "    <tr>\n",
       "      <th>9</th>\n",
       "      <td>2021</td>\n",
       "      <td>40.459773</td>\n",
       "      <td>87.307931</td>\n",
       "      <td>12.860201</td>\n",
       "      <td>35.716159</td>\n",
       "      <td>16.642379</td>\n",
       "      <td>21.342292</td>\n",
       "      <td>9.483256</td>\n",
       "      <td>33.487375</td>\n",
       "      <td>42.998441</td>\n",
       "      <td>25.048986</td>\n",
       "      <td>7.484899</td>\n",
       "      <td>4.441676</td>\n",
       "      <td>12.784716</td>\n",
       "      <td>110.406235</td>\n",
       "      <td>102.202125</td>\n",
       "      <td>0.463415</td>\n",
       "      <td>0.360067</td>\n",
       "      <td>0.779784</td>\n",
       "      <td>0.619108</td>\n",
       "      <td>0.409083</td>\n",
       "      <td>1.264561</td>\n",
       "      <td>0.317852</td>\n",
       "      <td>0.244448</td>\n",
       "      <td>0.566502</td>\n",
       "      <td>1.959291</td>\n",
       "    </tr>\n",
       "    <tr>\n",
       "      <th>10</th>\n",
       "      <td>2022</td>\n",
       "      <td>41.428718</td>\n",
       "      <td>86.593655</td>\n",
       "      <td>12.184917</td>\n",
       "      <td>33.453470</td>\n",
       "      <td>18.457213</td>\n",
       "      <td>23.470646</td>\n",
       "      <td>9.825007</td>\n",
       "      <td>31.893654</td>\n",
       "      <td>41.714990</td>\n",
       "      <td>24.861635</td>\n",
       "      <td>6.965956</td>\n",
       "      <td>4.510621</td>\n",
       "      <td>12.904268</td>\n",
       "      <td>113.543609</td>\n",
       "      <td>103.020591</td>\n",
       "      <td>0.478427</td>\n",
       "      <td>0.364235</td>\n",
       "      <td>0.786396</td>\n",
       "      <td>0.600106</td>\n",
       "      <td>0.386327</td>\n",
       "      <td>1.311223</td>\n",
       "      <td>0.294118</td>\n",
       "      <td>0.271043</td>\n",
       "      <td>0.580832</td>\n",
       "      <td>1.926621</td>\n",
       "    </tr>\n",
       "  </tbody>\n",
       "</table>\n",
       "</div>"
      ],
      "text/plain": [
       "    season_start_year        FGM        FGA       FG3M       FG3A        FTM  \\\n",
       "0                2012  39.736744  86.658749   7.610868  20.739616  18.070805   \n",
       "1                2013  39.172867  85.660814   8.018098  22.115446  18.929667   \n",
       "2                2014  39.387593  86.715518   8.025314  22.516697  18.104991   \n",
       "3                2015  39.242430  86.350104   8.805139  24.706848  18.098440   \n",
       "4                2016  39.626915  86.209107   9.932548  27.557569  18.394268   \n",
       "5                2017  40.215301  86.490179  10.566795  28.891539  16.937612   \n",
       "6                2018  40.487306  86.875025  11.097109  30.898682  17.791462   \n",
       "7                2019  39.558565  85.858845  12.119820  33.375479  17.629775   \n",
       "8                2020  40.987014  86.923848  12.468681  33.574052  17.065502   \n",
       "9                2021  40.459773  87.307931  12.860201  35.716159  16.642379   \n",
       "10               2022  41.428718  86.593655  12.184917  33.453470  18.457213   \n",
       "\n",
       "          FTA       OREB       DREB        REB        AST       STL       BLK  \\\n",
       "0   23.788971  11.591553  32.090826  43.662350  22.992834  8.041483  5.262515   \n",
       "1   24.860914  10.807967  32.431300  43.239267  22.896165  7.895995  4.750917   \n",
       "2   23.994656  11.380280  33.741792  45.037089  22.797509  7.951417  5.017669   \n",
       "3   23.777882  10.816076  34.291589  45.071235  22.506474  8.080181  5.074703   \n",
       "4   23.629422  10.000214  33.419518  43.387679  23.269728  7.720963  4.700955   \n",
       "5   21.971249   9.736821  33.825272  43.539039  23.250792  7.800216  4.856883   \n",
       "6   22.980940  10.122729  33.720776  43.814634  23.655788  7.325896  4.778072   \n",
       "7   22.636618   9.121960  32.702349  41.806960  23.847559  7.248298  4.507199   \n",
       "8   21.776067   9.495652  33.315187  42.826527  24.858918  7.479640  4.573288   \n",
       "9   21.342292   9.483256  33.487375  42.998441  25.048986  7.484899  4.441676   \n",
       "10  23.470646   9.825007  31.893654  41.714990  24.861635  6.965956  4.510621   \n",
       "\n",
       "          TOV         PTS  POSS_per_48       FG%      3PT%       FT%  \\\n",
       "0   14.465657  105.145147    96.911494  0.458543  0.366972  0.759630   \n",
       "1   14.208351  105.230597    97.415691  0.457302  0.362556  0.761423   \n",
       "2   14.107114  104.868543    96.552106  0.454216  0.356416  0.754543   \n",
       "3   14.003704  105.413940    97.912895  0.454457  0.356385  0.761146   \n",
       "4   13.394161  107.573524    99.715254  0.459660  0.360429  0.778448   \n",
       "5   13.579292  107.965750    99.243371  0.464970  0.365740  0.770899   \n",
       "6   13.136090  109.837921   103.577193  0.466041  0.359145  0.774183   \n",
       "7   13.303003  108.828559   104.905352  0.460740  0.363135  0.778817   \n",
       "8   12.990334  111.543512   102.019227  0.471528  0.371379  0.783682   \n",
       "9   12.784716  110.406235   102.202125  0.463415  0.360067  0.779784   \n",
       "10  12.904268  113.543609   103.020591  0.478427  0.364235  0.786396   \n",
       "\n",
       "        AST%     FG3A%   PTS/FGA  FG3M/FGM   FTA/FGA      TRU%   AST_TOV  \n",
       "0   0.578629  0.239325  1.213324  0.191532  0.274513  0.536682  1.589477  \n",
       "1   0.584490  0.258175  1.228457  0.204685  0.290225  0.539812  1.611458  \n",
       "2   0.578799  0.259662  1.209340  0.203752  0.276705  0.534427  1.616029  \n",
       "3   0.573524  0.286124  1.220774  0.224378  0.275366  0.539784  1.607180  \n",
       "4   0.587220  0.319660  1.247821  0.250652  0.274094  0.552038  1.737304  \n",
       "5   0.578158  0.334044  1.248301  0.262756  0.254032  0.556946  1.712224  \n",
       "6   0.584277  0.355668  1.264321  0.274089  0.264529  0.561595  1.800824  \n",
       "7   0.602842  0.388725  1.267529  0.306377  0.263649  0.563229  1.792645  \n",
       "8   0.606507  0.386247  1.283233  0.304211  0.250519  0.573385  1.913647  \n",
       "9   0.619108  0.409083  1.264561  0.317852  0.244448  0.566502  1.959291  \n",
       "10  0.600106  0.386327  1.311223  0.294118  0.271043  0.580832  1.926621  "
      ]
     },
     "execution_count": 31,
     "metadata": {},
     "output_type": "execute_result"
    }
   ],
   "source": [
    "rs_change_df = rs_df.groupby('season_start_year')[total_cols].sum().reset_index()\n",
    "playoffs_change_df = playoffs_df.groupby('season_start_year')[total_cols].sum().reset_index()\n",
    "\n",
    "for i in [rs_change_df,playoffs_change_df]:\n",
    "    i['POSS_est'] = i['FGA']-i['OREB']+i['TOV']+0.44*i['FTA']\n",
    "    i['POSS_per_48'] = (i['POSS_est']/i['MIN'])*48*5\n",
    "    \n",
    "    i['FG%'] = i['FGM']/i['FGA']\n",
    "    i['3PT%'] = i['FG3M']/i['FG3A']\n",
    "    i['FT%'] = i['FTM']/i['FTA']\n",
    "    i['AST%'] = i['AST']/i['FGM']\n",
    "    i['FG3A%'] = i['FG3A']/i['FGA']\n",
    "    i['PTS/FGA'] = i['PTS']/i['FGA']\n",
    "    i['FG3M/FGM'] = i['FG3M']/i['FGM']\n",
    "    i['FTA/FGA'] = i['FTA']/i['FGA']\n",
    "    i['TRU%'] = 0.5*i['PTS']/(i['FGA']+0.475*i['FTA'])\n",
    "    i['AST_TOV'] = i['AST']/i['TOV']\n",
    "    for col in total_cols:\n",
    "        i[col] = 100*i[col]/i['POSS_est']\n",
    "    i.drop(columns=['MIN','POSS_est'], inplace=True)\n",
    "    \n",
    "rs_change_df"
   ]
  },
  {
   "cell_type": "code",
   "execution_count": 36,
   "id": "41132e5b",
   "metadata": {
    "scrolled": true
   },
   "outputs": [
    {
     "data": {
      "text/html": [
       "<div>\n",
       "<style scoped>\n",
       "    .dataframe tbody tr th:only-of-type {\n",
       "        vertical-align: middle;\n",
       "    }\n",
       "\n",
       "    .dataframe tbody tr th {\n",
       "        vertical-align: top;\n",
       "    }\n",
       "\n",
       "    .dataframe thead th {\n",
       "        text-align: right;\n",
       "    }\n",
       "</style>\n",
       "<table border=\"1\" class=\"dataframe\">\n",
       "  <thead>\n",
       "    <tr style=\"text-align: right;\">\n",
       "      <th></th>\n",
       "      <th>season_start_year</th>\n",
       "      <th>FGM</th>\n",
       "      <th>FGA</th>\n",
       "      <th>FG3M</th>\n",
       "      <th>FG3A</th>\n",
       "      <th>FTM</th>\n",
       "      <th>FTA</th>\n",
       "      <th>OREB</th>\n",
       "      <th>DREB</th>\n",
       "      <th>REB</th>\n",
       "      <th>AST</th>\n",
       "      <th>STL</th>\n",
       "      <th>BLK</th>\n",
       "      <th>TOV</th>\n",
       "      <th>PTS</th>\n",
       "      <th>POSS_per_48</th>\n",
       "      <th>FG%</th>\n",
       "      <th>3PT%</th>\n",
       "      <th>FT%</th>\n",
       "      <th>AST%</th>\n",
       "      <th>FG3A%</th>\n",
       "      <th>PTS/FGA</th>\n",
       "      <th>FG3M/FGM</th>\n",
       "      <th>FTA/FGA</th>\n",
       "      <th>TRU%</th>\n",
       "      <th>AST_TOV</th>\n",
       "    </tr>\n",
       "  </thead>\n",
       "  <tbody>\n",
       "    <tr>\n",
       "      <th>0</th>\n",
       "      <td>2012</td>\n",
       "      <td>-5.896</td>\n",
       "      <td>-2.288</td>\n",
       "      <td>-1.289</td>\n",
       "      <td>5.640</td>\n",
       "      <td>8.666</td>\n",
       "      <td>10.829</td>\n",
       "      <td>-6.963</td>\n",
       "      <td>1.463</td>\n",
       "      <td>-0.846</td>\n",
       "      <td>-10.572</td>\n",
       "      <td>-7.955</td>\n",
       "      <td>-2.529</td>\n",
       "      <td>0.289</td>\n",
       "      <td>-3.100</td>\n",
       "      <td>-3.264</td>\n",
       "      <td>-3.693</td>\n",
       "      <td>-6.558</td>\n",
       "      <td>-1.951</td>\n",
       "      <td>-4.968</td>\n",
       "      <td>8.113</td>\n",
       "      <td>-0.832</td>\n",
       "      <td>4.896</td>\n",
       "      <td>13.424</td>\n",
       "      <td>-2.344</td>\n",
       "      <td>-10.829</td>\n",
       "    </tr>\n",
       "    <tr>\n",
       "      <th>1</th>\n",
       "      <td>2013</td>\n",
       "      <td>-1.115</td>\n",
       "      <td>0.799</td>\n",
       "      <td>4.519</td>\n",
       "      <td>7.908</td>\n",
       "      <td>6.638</td>\n",
       "      <td>7.014</td>\n",
       "      <td>8.186</td>\n",
       "      <td>0.819</td>\n",
       "      <td>2.599</td>\n",
       "      <td>-8.321</td>\n",
       "      <td>-9.111</td>\n",
       "      <td>-0.042</td>\n",
       "      <td>-3.990</td>\n",
       "      <td>0.604</td>\n",
       "      <td>-4.998</td>\n",
       "      <td>-1.898</td>\n",
       "      <td>-3.140</td>\n",
       "      <td>-0.351</td>\n",
       "      <td>-7.288</td>\n",
       "      <td>7.053</td>\n",
       "      <td>-0.193</td>\n",
       "      <td>5.697</td>\n",
       "      <td>6.166</td>\n",
       "      <td>-0.933</td>\n",
       "      <td>-4.511</td>\n",
       "    </tr>\n",
       "    <tr>\n",
       "      <th>2</th>\n",
       "      <td>2014</td>\n",
       "      <td>-3.602</td>\n",
       "      <td>0.456</td>\n",
       "      <td>6.962</td>\n",
       "      <td>12.348</td>\n",
       "      <td>2.216</td>\n",
       "      <td>4.145</td>\n",
       "      <td>-1.525</td>\n",
       "      <td>1.860</td>\n",
       "      <td>0.959</td>\n",
       "      <td>-3.358</td>\n",
       "      <td>-2.815</td>\n",
       "      <td>4.672</td>\n",
       "      <td>-7.138</td>\n",
       "      <td>-1.946</td>\n",
       "      <td>-0.278</td>\n",
       "      <td>-4.040</td>\n",
       "      <td>-4.794</td>\n",
       "      <td>-1.853</td>\n",
       "      <td>0.253</td>\n",
       "      <td>11.838</td>\n",
       "      <td>-2.392</td>\n",
       "      <td>10.958</td>\n",
       "      <td>3.672</td>\n",
       "      <td>-2.806</td>\n",
       "      <td>4.071</td>\n",
       "    </tr>\n",
       "    <tr>\n",
       "      <th>3</th>\n",
       "      <td>2015</td>\n",
       "      <td>-4.382</td>\n",
       "      <td>0.708</td>\n",
       "      <td>1.590</td>\n",
       "      <td>6.089</td>\n",
       "      <td>1.086</td>\n",
       "      <td>4.233</td>\n",
       "      <td>0.461</td>\n",
       "      <td>-1.419</td>\n",
       "      <td>-0.949</td>\n",
       "      <td>-8.928</td>\n",
       "      <td>-6.954</td>\n",
       "      <td>3.545</td>\n",
       "      <td>-7.172</td>\n",
       "      <td>-3.110</td>\n",
       "      <td>-3.528</td>\n",
       "      <td>-5.054</td>\n",
       "      <td>-4.241</td>\n",
       "      <td>-3.019</td>\n",
       "      <td>-4.755</td>\n",
       "      <td>5.343</td>\n",
       "      <td>-3.791</td>\n",
       "      <td>6.245</td>\n",
       "      <td>3.500</td>\n",
       "      <td>-4.179</td>\n",
       "      <td>-1.891</td>\n",
       "    </tr>\n",
       "    <tr>\n",
       "      <th>4</th>\n",
       "      <td>2016</td>\n",
       "      <td>-1.288</td>\n",
       "      <td>-0.416</td>\n",
       "      <td>3.236</td>\n",
       "      <td>5.483</td>\n",
       "      <td>5.065</td>\n",
       "      <td>5.621</td>\n",
       "      <td>1.343</td>\n",
       "      <td>-1.871</td>\n",
       "      <td>-1.333</td>\n",
       "      <td>-6.103</td>\n",
       "      <td>-1.255</td>\n",
       "      <td>0.445</td>\n",
       "      <td>-0.686</td>\n",
       "      <td>0.149</td>\n",
       "      <td>-2.872</td>\n",
       "      <td>-0.876</td>\n",
       "      <td>-2.130</td>\n",
       "      <td>-0.527</td>\n",
       "      <td>-4.878</td>\n",
       "      <td>5.923</td>\n",
       "      <td>0.567</td>\n",
       "      <td>4.583</td>\n",
       "      <td>6.062</td>\n",
       "      <td>-0.131</td>\n",
       "      <td>-5.455</td>\n",
       "    </tr>\n",
       "    <tr>\n",
       "      <th>5</th>\n",
       "      <td>2017</td>\n",
       "      <td>-6.603</td>\n",
       "      <td>0.334</td>\n",
       "      <td>3.776</td>\n",
       "      <td>12.428</td>\n",
       "      <td>11.375</td>\n",
       "      <td>10.327</td>\n",
       "      <td>5.362</td>\n",
       "      <td>0.554</td>\n",
       "      <td>1.534</td>\n",
       "      <td>-3.387</td>\n",
       "      <td>-8.467</td>\n",
       "      <td>-4.001</td>\n",
       "      <td>-5.636</td>\n",
       "      <td>-2.962</td>\n",
       "      <td>-0.081</td>\n",
       "      <td>-6.914</td>\n",
       "      <td>-7.696</td>\n",
       "      <td>0.950</td>\n",
       "      <td>3.443</td>\n",
       "      <td>12.054</td>\n",
       "      <td>-3.285</td>\n",
       "      <td>11.113</td>\n",
       "      <td>9.959</td>\n",
       "      <td>-4.311</td>\n",
       "      <td>2.384</td>\n",
       "    </tr>\n",
       "    <tr>\n",
       "      <th>6</th>\n",
       "      <td>2018</td>\n",
       "      <td>-6.418</td>\n",
       "      <td>-2.675</td>\n",
       "      <td>17.618</td>\n",
       "      <td>17.617</td>\n",
       "      <td>5.999</td>\n",
       "      <td>4.324</td>\n",
       "      <td>-15.397</td>\n",
       "      <td>0.367</td>\n",
       "      <td>-3.281</td>\n",
       "      <td>-5.995</td>\n",
       "      <td>-6.807</td>\n",
       "      <td>-13.233</td>\n",
       "      <td>2.498</td>\n",
       "      <td>-2.084</td>\n",
       "      <td>-2.817</td>\n",
       "      <td>-3.846</td>\n",
       "      <td>0.001</td>\n",
       "      <td>1.607</td>\n",
       "      <td>0.452</td>\n",
       "      <td>20.850</td>\n",
       "      <td>0.608</td>\n",
       "      <td>25.685</td>\n",
       "      <td>7.191</td>\n",
       "      <td>-0.193</td>\n",
       "      <td>-8.286</td>\n",
       "    </tr>\n",
       "    <tr>\n",
       "      <th>7</th>\n",
       "      <td>2019</td>\n",
       "      <td>2.067</td>\n",
       "      <td>2.662</td>\n",
       "      <td>4.319</td>\n",
       "      <td>3.832</td>\n",
       "      <td>3.417</td>\n",
       "      <td>2.187</td>\n",
       "      <td>10.838</td>\n",
       "      <td>1.591</td>\n",
       "      <td>3.619</td>\n",
       "      <td>-8.089</td>\n",
       "      <td>-10.544</td>\n",
       "      <td>-2.622</td>\n",
       "      <td>-11.389</td>\n",
       "      <td>2.463</td>\n",
       "      <td>-5.835</td>\n",
       "      <td>-0.580</td>\n",
       "      <td>0.468</td>\n",
       "      <td>1.204</td>\n",
       "      <td>-9.950</td>\n",
       "      <td>1.140</td>\n",
       "      <td>-0.195</td>\n",
       "      <td>2.206</td>\n",
       "      <td>-0.463</td>\n",
       "      <td>-0.143</td>\n",
       "      <td>3.723</td>\n",
       "    </tr>\n",
       "    <tr>\n",
       "      <th>8</th>\n",
       "      <td>2020</td>\n",
       "      <td>-5.096</td>\n",
       "      <td>-1.813</td>\n",
       "      <td>-4.320</td>\n",
       "      <td>1.089</td>\n",
       "      <td>10.684</td>\n",
       "      <td>10.079</td>\n",
       "      <td>-0.231</td>\n",
       "      <td>-2.858</td>\n",
       "      <td>-2.220</td>\n",
       "      <td>-9.050</td>\n",
       "      <td>-6.181</td>\n",
       "      <td>1.154</td>\n",
       "      <td>4.528</td>\n",
       "      <td>-2.736</td>\n",
       "      <td>-3.329</td>\n",
       "      <td>-3.344</td>\n",
       "      <td>-5.351</td>\n",
       "      <td>0.549</td>\n",
       "      <td>-4.166</td>\n",
       "      <td>2.956</td>\n",
       "      <td>-0.940</td>\n",
       "      <td>0.818</td>\n",
       "      <td>12.112</td>\n",
       "      <td>-2.200</td>\n",
       "      <td>-12.990</td>\n",
       "    </tr>\n",
       "    <tr>\n",
       "      <th>9</th>\n",
       "      <td>2021</td>\n",
       "      <td>-0.287</td>\n",
       "      <td>1.308</td>\n",
       "      <td>-4.009</td>\n",
       "      <td>-1.172</td>\n",
       "      <td>4.341</td>\n",
       "      <td>2.561</td>\n",
       "      <td>12.826</td>\n",
       "      <td>-2.509</td>\n",
       "      <td>0.734</td>\n",
       "      <td>-5.397</td>\n",
       "      <td>-6.154</td>\n",
       "      <td>6.850</td>\n",
       "      <td>-1.297</td>\n",
       "      <td>-0.132</td>\n",
       "      <td>-4.167</td>\n",
       "      <td>-1.574</td>\n",
       "      <td>-2.870</td>\n",
       "      <td>1.736</td>\n",
       "      <td>-5.125</td>\n",
       "      <td>-2.448</td>\n",
       "      <td>-1.421</td>\n",
       "      <td>-3.733</td>\n",
       "      <td>1.237</td>\n",
       "      <td>-1.548</td>\n",
       "      <td>-4.154</td>\n",
       "    </tr>\n",
       "    <tr>\n",
       "      <th>10</th>\n",
       "      <td>2022</td>\n",
       "      <td>NaN</td>\n",
       "      <td>NaN</td>\n",
       "      <td>NaN</td>\n",
       "      <td>NaN</td>\n",
       "      <td>NaN</td>\n",
       "      <td>NaN</td>\n",
       "      <td>NaN</td>\n",
       "      <td>NaN</td>\n",
       "      <td>NaN</td>\n",
       "      <td>NaN</td>\n",
       "      <td>NaN</td>\n",
       "      <td>NaN</td>\n",
       "      <td>NaN</td>\n",
       "      <td>NaN</td>\n",
       "      <td>NaN</td>\n",
       "      <td>NaN</td>\n",
       "      <td>NaN</td>\n",
       "      <td>NaN</td>\n",
       "      <td>NaN</td>\n",
       "      <td>NaN</td>\n",
       "      <td>NaN</td>\n",
       "      <td>NaN</td>\n",
       "      <td>NaN</td>\n",
       "      <td>NaN</td>\n",
       "      <td>NaN</td>\n",
       "    </tr>\n",
       "  </tbody>\n",
       "</table>\n",
       "</div>"
      ],
      "text/plain": [
       "    season_start_year    FGM    FGA    FG3M    FG3A     FTM     FTA    OREB  \\\n",
       "0                2012 -5.896 -2.288  -1.289   5.640   8.666  10.829  -6.963   \n",
       "1                2013 -1.115  0.799   4.519   7.908   6.638   7.014   8.186   \n",
       "2                2014 -3.602  0.456   6.962  12.348   2.216   4.145  -1.525   \n",
       "3                2015 -4.382  0.708   1.590   6.089   1.086   4.233   0.461   \n",
       "4                2016 -1.288 -0.416   3.236   5.483   5.065   5.621   1.343   \n",
       "5                2017 -6.603  0.334   3.776  12.428  11.375  10.327   5.362   \n",
       "6                2018 -6.418 -2.675  17.618  17.617   5.999   4.324 -15.397   \n",
       "7                2019  2.067  2.662   4.319   3.832   3.417   2.187  10.838   \n",
       "8                2020 -5.096 -1.813  -4.320   1.089  10.684  10.079  -0.231   \n",
       "9                2021 -0.287  1.308  -4.009  -1.172   4.341   2.561  12.826   \n",
       "10               2022    NaN    NaN     NaN     NaN     NaN     NaN     NaN   \n",
       "\n",
       "     DREB    REB     AST     STL     BLK     TOV    PTS  POSS_per_48    FG%  \\\n",
       "0   1.463 -0.846 -10.572  -7.955  -2.529   0.289 -3.100       -3.264 -3.693   \n",
       "1   0.819  2.599  -8.321  -9.111  -0.042  -3.990  0.604       -4.998 -1.898   \n",
       "2   1.860  0.959  -3.358  -2.815   4.672  -7.138 -1.946       -0.278 -4.040   \n",
       "3  -1.419 -0.949  -8.928  -6.954   3.545  -7.172 -3.110       -3.528 -5.054   \n",
       "4  -1.871 -1.333  -6.103  -1.255   0.445  -0.686  0.149       -2.872 -0.876   \n",
       "5   0.554  1.534  -3.387  -8.467  -4.001  -5.636 -2.962       -0.081 -6.914   \n",
       "6   0.367 -3.281  -5.995  -6.807 -13.233   2.498 -2.084       -2.817 -3.846   \n",
       "7   1.591  3.619  -8.089 -10.544  -2.622 -11.389  2.463       -5.835 -0.580   \n",
       "8  -2.858 -2.220  -9.050  -6.181   1.154   4.528 -2.736       -3.329 -3.344   \n",
       "9  -2.509  0.734  -5.397  -6.154   6.850  -1.297 -0.132       -4.167 -1.574   \n",
       "10    NaN    NaN     NaN     NaN     NaN     NaN    NaN          NaN    NaN   \n",
       "\n",
       "     3PT%    FT%   AST%   FG3A%  PTS/FGA  FG3M/FGM  FTA/FGA   TRU%  AST_TOV  \n",
       "0  -6.558 -1.951 -4.968   8.113   -0.832     4.896   13.424 -2.344  -10.829  \n",
       "1  -3.140 -0.351 -7.288   7.053   -0.193     5.697    6.166 -0.933   -4.511  \n",
       "2  -4.794 -1.853  0.253  11.838   -2.392    10.958    3.672 -2.806    4.071  \n",
       "3  -4.241 -3.019 -4.755   5.343   -3.791     6.245    3.500 -4.179   -1.891  \n",
       "4  -2.130 -0.527 -4.878   5.923    0.567     4.583    6.062 -0.131   -5.455  \n",
       "5  -7.696  0.950  3.443  12.054   -3.285    11.113    9.959 -4.311    2.384  \n",
       "6   0.001  1.607  0.452  20.850    0.608    25.685    7.191 -0.193   -8.286  \n",
       "7   0.468  1.204 -9.950   1.140   -0.195     2.206   -0.463 -0.143    3.723  \n",
       "8  -5.351  0.549 -4.166   2.956   -0.940     0.818   12.112 -2.200  -12.990  \n",
       "9  -2.870  1.736 -5.125  -2.448   -1.421    -3.733    1.237 -1.548   -4.154  \n",
       "10    NaN    NaN    NaN     NaN      NaN       NaN      NaN    NaN      NaN  "
      ]
     },
     "execution_count": 36,
     "metadata": {},
     "output_type": "execute_result"
    }
   ],
   "source": [
    "comp_change_df = round(100*(playoffs_change_df-rs_change_df)/rs_change_df,3)\n",
    "comp_change_df['season_start_year'] = list(range(2012,2023))\n",
    "comp_change_df"
   ]
  },
  {
   "cell_type": "code",
   "execution_count": 35,
   "id": "af409efe",
   "metadata": {},
   "outputs": [
    {
     "data": {
      "application/vnd.plotly.v1+json": {
       "config": {
        "plotlyServerURL": "https://plot.ly"
       },
       "data": [
        {
         "name": "FGM",
         "type": "scatter",
         "x": [
          2012,
          2013,
          2014,
          2015,
          2016,
          2017,
          2018,
          2019,
          2020,
          2021,
          2022
         ],
         "y": [
          -5.896,
          -1.115,
          -3.602,
          -4.382,
          -1.288,
          -6.603,
          -6.418,
          2.067,
          -5.096,
          -0.287,
          null
         ]
        },
        {
         "name": "FGA",
         "type": "scatter",
         "x": [
          2012,
          2013,
          2014,
          2015,
          2016,
          2017,
          2018,
          2019,
          2020,
          2021,
          2022
         ],
         "y": [
          -2.288,
          0.799,
          0.456,
          0.708,
          -0.416,
          0.334,
          -2.675,
          2.662,
          -1.813,
          1.308,
          null
         ]
        },
        {
         "name": "FG3M",
         "type": "scatter",
         "x": [
          2012,
          2013,
          2014,
          2015,
          2016,
          2017,
          2018,
          2019,
          2020,
          2021,
          2022
         ],
         "y": [
          -1.289,
          4.519,
          6.962,
          1.59,
          3.236,
          3.776,
          17.618,
          4.319,
          -4.32,
          -4.009,
          null
         ]
        },
        {
         "name": "FG3A",
         "type": "scatter",
         "x": [
          2012,
          2013,
          2014,
          2015,
          2016,
          2017,
          2018,
          2019,
          2020,
          2021,
          2022
         ],
         "y": [
          5.64,
          7.908,
          12.348,
          6.089,
          5.483,
          12.428,
          17.617,
          3.832,
          1.089,
          -1.172,
          null
         ]
        },
        {
         "name": "FTM",
         "type": "scatter",
         "x": [
          2012,
          2013,
          2014,
          2015,
          2016,
          2017,
          2018,
          2019,
          2020,
          2021,
          2022
         ],
         "y": [
          8.666,
          6.638,
          2.216,
          1.086,
          5.065,
          11.375,
          5.999,
          3.417,
          10.684,
          4.341,
          null
         ]
        },
        {
         "name": "FTA",
         "type": "scatter",
         "x": [
          2012,
          2013,
          2014,
          2015,
          2016,
          2017,
          2018,
          2019,
          2020,
          2021,
          2022
         ],
         "y": [
          10.829,
          7.014,
          4.145,
          4.233,
          5.621,
          10.327,
          4.324,
          2.187,
          10.079,
          2.561,
          null
         ]
        },
        {
         "name": "OREB",
         "type": "scatter",
         "x": [
          2012,
          2013,
          2014,
          2015,
          2016,
          2017,
          2018,
          2019,
          2020,
          2021,
          2022
         ],
         "y": [
          -6.963,
          8.186,
          -1.525,
          0.461,
          1.343,
          5.362,
          -15.397,
          10.838,
          -0.231,
          12.826,
          null
         ]
        },
        {
         "name": "DREB",
         "type": "scatter",
         "x": [
          2012,
          2013,
          2014,
          2015,
          2016,
          2017,
          2018,
          2019,
          2020,
          2021,
          2022
         ],
         "y": [
          1.463,
          0.819,
          1.86,
          -1.419,
          -1.871,
          0.554,
          0.367,
          1.591,
          -2.858,
          -2.509,
          null
         ]
        },
        {
         "name": "REB",
         "type": "scatter",
         "x": [
          2012,
          2013,
          2014,
          2015,
          2016,
          2017,
          2018,
          2019,
          2020,
          2021,
          2022
         ],
         "y": [
          -0.846,
          2.599,
          0.959,
          -0.949,
          -1.333,
          1.534,
          -3.281,
          3.619,
          -2.22,
          0.734,
          null
         ]
        },
        {
         "name": "AST",
         "type": "scatter",
         "x": [
          2012,
          2013,
          2014,
          2015,
          2016,
          2017,
          2018,
          2019,
          2020,
          2021,
          2022
         ],
         "y": [
          -10.572,
          -8.321,
          -3.358,
          -8.928,
          -6.103,
          -3.387,
          -5.995,
          -8.089,
          -9.05,
          -5.397,
          null
         ]
        },
        {
         "name": "STL",
         "type": "scatter",
         "x": [
          2012,
          2013,
          2014,
          2015,
          2016,
          2017,
          2018,
          2019,
          2020,
          2021,
          2022
         ],
         "y": [
          -7.955,
          -9.111,
          -2.815,
          -6.954,
          -1.255,
          -8.467,
          -6.807,
          -10.544,
          -6.181,
          -6.154,
          null
         ]
        },
        {
         "name": "BLK",
         "type": "scatter",
         "x": [
          2012,
          2013,
          2014,
          2015,
          2016,
          2017,
          2018,
          2019,
          2020,
          2021,
          2022
         ],
         "y": [
          -2.529,
          -0.042,
          4.672,
          3.545,
          0.445,
          -4.001,
          -13.233,
          -2.622,
          1.154,
          6.85,
          null
         ]
        },
        {
         "name": "TOV",
         "type": "scatter",
         "x": [
          2012,
          2013,
          2014,
          2015,
          2016,
          2017,
          2018,
          2019,
          2020,
          2021,
          2022
         ],
         "y": [
          0.289,
          -3.99,
          -7.138,
          -7.172,
          -0.686,
          -5.636,
          2.498,
          -11.389,
          4.528,
          -1.297,
          null
         ]
        },
        {
         "name": "PTS",
         "type": "scatter",
         "x": [
          2012,
          2013,
          2014,
          2015,
          2016,
          2017,
          2018,
          2019,
          2020,
          2021,
          2022
         ],
         "y": [
          -3.1,
          0.604,
          -1.946,
          -3.11,
          0.149,
          -2.962,
          -2.084,
          2.463,
          -2.736,
          -0.132,
          null
         ]
        },
        {
         "name": "POSS_per_48",
         "type": "scatter",
         "x": [
          2012,
          2013,
          2014,
          2015,
          2016,
          2017,
          2018,
          2019,
          2020,
          2021,
          2022
         ],
         "y": [
          -3.264,
          -4.998,
          -0.278,
          -3.528,
          -2.872,
          -0.081,
          -2.817,
          -5.835,
          -3.329,
          -4.167,
          null
         ]
        },
        {
         "name": "FG%",
         "type": "scatter",
         "x": [
          2012,
          2013,
          2014,
          2015,
          2016,
          2017,
          2018,
          2019,
          2020,
          2021,
          2022
         ],
         "y": [
          -3.693,
          -1.898,
          -4.04,
          -5.054,
          -0.876,
          -6.914,
          -3.846,
          -0.58,
          -3.344,
          -1.574,
          null
         ]
        },
        {
         "name": "3PT%",
         "type": "scatter",
         "x": [
          2012,
          2013,
          2014,
          2015,
          2016,
          2017,
          2018,
          2019,
          2020,
          2021,
          2022
         ],
         "y": [
          -6.558,
          -3.14,
          -4.794,
          -4.241,
          -2.13,
          -7.696,
          0.001,
          0.468,
          -5.351,
          -2.87,
          null
         ]
        },
        {
         "name": "FT%",
         "type": "scatter",
         "x": [
          2012,
          2013,
          2014,
          2015,
          2016,
          2017,
          2018,
          2019,
          2020,
          2021,
          2022
         ],
         "y": [
          -1.951,
          -0.351,
          -1.853,
          -3.019,
          -0.527,
          0.95,
          1.607,
          1.204,
          0.549,
          1.736,
          null
         ]
        },
        {
         "name": "AST%",
         "type": "scatter",
         "x": [
          2012,
          2013,
          2014,
          2015,
          2016,
          2017,
          2018,
          2019,
          2020,
          2021,
          2022
         ],
         "y": [
          -4.968,
          -7.288,
          0.253,
          -4.755,
          -4.878,
          3.443,
          0.452,
          -9.95,
          -4.166,
          -5.125,
          null
         ]
        },
        {
         "name": "FG3A%",
         "type": "scatter",
         "x": [
          2012,
          2013,
          2014,
          2015,
          2016,
          2017,
          2018,
          2019,
          2020,
          2021,
          2022
         ],
         "y": [
          8.113,
          7.053,
          11.838,
          5.343,
          5.923,
          12.054,
          20.85,
          1.14,
          2.956,
          -2.448,
          null
         ]
        },
        {
         "name": "PTS/FGA",
         "type": "scatter",
         "x": [
          2012,
          2013,
          2014,
          2015,
          2016,
          2017,
          2018,
          2019,
          2020,
          2021,
          2022
         ],
         "y": [
          -0.832,
          -0.193,
          -2.392,
          -3.791,
          0.567,
          -3.285,
          0.608,
          -0.195,
          -0.94,
          -1.421,
          null
         ]
        },
        {
         "name": "FG3M/FGM",
         "type": "scatter",
         "x": [
          2012,
          2013,
          2014,
          2015,
          2016,
          2017,
          2018,
          2019,
          2020,
          2021,
          2022
         ],
         "y": [
          4.896,
          5.697,
          10.958,
          6.245,
          4.583,
          11.113,
          25.685,
          2.206,
          0.818,
          -3.733,
          null
         ]
        },
        {
         "name": "FTA/FGA",
         "type": "scatter",
         "x": [
          2012,
          2013,
          2014,
          2015,
          2016,
          2017,
          2018,
          2019,
          2020,
          2021,
          2022
         ],
         "y": [
          13.424,
          6.166,
          3.672,
          3.5,
          6.062,
          9.959,
          7.191,
          -0.463,
          12.112,
          1.237,
          null
         ]
        },
        {
         "name": "TRU%",
         "type": "scatter",
         "x": [
          2012,
          2013,
          2014,
          2015,
          2016,
          2017,
          2018,
          2019,
          2020,
          2021,
          2022
         ],
         "y": [
          -2.344,
          -0.933,
          -2.806,
          -4.179,
          -0.131,
          -4.311,
          -0.193,
          -0.143,
          -2.2,
          -1.548,
          null
         ]
        },
        {
         "name": "AST_TOV",
         "type": "scatter",
         "x": [
          2012,
          2013,
          2014,
          2015,
          2016,
          2017,
          2018,
          2019,
          2020,
          2021,
          2022
         ],
         "y": [
          -10.829,
          -4.511,
          4.071,
          -1.891,
          -5.455,
          2.384,
          -8.286,
          3.723,
          -12.99,
          -4.154,
          null
         ]
        }
       ],
       "layout": {
        "template": {
         "data": {
          "bar": [
           {
            "error_x": {
             "color": "#2a3f5f"
            },
            "error_y": {
             "color": "#2a3f5f"
            },
            "marker": {
             "line": {
              "color": "#E5ECF6",
              "width": 0.5
             },
             "pattern": {
              "fillmode": "overlay",
              "size": 10,
              "solidity": 0.2
             }
            },
            "type": "bar"
           }
          ],
          "barpolar": [
           {
            "marker": {
             "line": {
              "color": "#E5ECF6",
              "width": 0.5
             },
             "pattern": {
              "fillmode": "overlay",
              "size": 10,
              "solidity": 0.2
             }
            },
            "type": "barpolar"
           }
          ],
          "carpet": [
           {
            "aaxis": {
             "endlinecolor": "#2a3f5f",
             "gridcolor": "white",
             "linecolor": "white",
             "minorgridcolor": "white",
             "startlinecolor": "#2a3f5f"
            },
            "baxis": {
             "endlinecolor": "#2a3f5f",
             "gridcolor": "white",
             "linecolor": "white",
             "minorgridcolor": "white",
             "startlinecolor": "#2a3f5f"
            },
            "type": "carpet"
           }
          ],
          "choropleth": [
           {
            "colorbar": {
             "outlinewidth": 0,
             "ticks": ""
            },
            "type": "choropleth"
           }
          ],
          "contour": [
           {
            "colorbar": {
             "outlinewidth": 0,
             "ticks": ""
            },
            "colorscale": [
             [
              0,
              "#0d0887"
             ],
             [
              0.1111111111111111,
              "#46039f"
             ],
             [
              0.2222222222222222,
              "#7201a8"
             ],
             [
              0.3333333333333333,
              "#9c179e"
             ],
             [
              0.4444444444444444,
              "#bd3786"
             ],
             [
              0.5555555555555556,
              "#d8576b"
             ],
             [
              0.6666666666666666,
              "#ed7953"
             ],
             [
              0.7777777777777778,
              "#fb9f3a"
             ],
             [
              0.8888888888888888,
              "#fdca26"
             ],
             [
              1,
              "#f0f921"
             ]
            ],
            "type": "contour"
           }
          ],
          "contourcarpet": [
           {
            "colorbar": {
             "outlinewidth": 0,
             "ticks": ""
            },
            "type": "contourcarpet"
           }
          ],
          "heatmap": [
           {
            "colorbar": {
             "outlinewidth": 0,
             "ticks": ""
            },
            "colorscale": [
             [
              0,
              "#0d0887"
             ],
             [
              0.1111111111111111,
              "#46039f"
             ],
             [
              0.2222222222222222,
              "#7201a8"
             ],
             [
              0.3333333333333333,
              "#9c179e"
             ],
             [
              0.4444444444444444,
              "#bd3786"
             ],
             [
              0.5555555555555556,
              "#d8576b"
             ],
             [
              0.6666666666666666,
              "#ed7953"
             ],
             [
              0.7777777777777778,
              "#fb9f3a"
             ],
             [
              0.8888888888888888,
              "#fdca26"
             ],
             [
              1,
              "#f0f921"
             ]
            ],
            "type": "heatmap"
           }
          ],
          "heatmapgl": [
           {
            "colorbar": {
             "outlinewidth": 0,
             "ticks": ""
            },
            "colorscale": [
             [
              0,
              "#0d0887"
             ],
             [
              0.1111111111111111,
              "#46039f"
             ],
             [
              0.2222222222222222,
              "#7201a8"
             ],
             [
              0.3333333333333333,
              "#9c179e"
             ],
             [
              0.4444444444444444,
              "#bd3786"
             ],
             [
              0.5555555555555556,
              "#d8576b"
             ],
             [
              0.6666666666666666,
              "#ed7953"
             ],
             [
              0.7777777777777778,
              "#fb9f3a"
             ],
             [
              0.8888888888888888,
              "#fdca26"
             ],
             [
              1,
              "#f0f921"
             ]
            ],
            "type": "heatmapgl"
           }
          ],
          "histogram": [
           {
            "marker": {
             "pattern": {
              "fillmode": "overlay",
              "size": 10,
              "solidity": 0.2
             }
            },
            "type": "histogram"
           }
          ],
          "histogram2d": [
           {
            "colorbar": {
             "outlinewidth": 0,
             "ticks": ""
            },
            "colorscale": [
             [
              0,
              "#0d0887"
             ],
             [
              0.1111111111111111,
              "#46039f"
             ],
             [
              0.2222222222222222,
              "#7201a8"
             ],
             [
              0.3333333333333333,
              "#9c179e"
             ],
             [
              0.4444444444444444,
              "#bd3786"
             ],
             [
              0.5555555555555556,
              "#d8576b"
             ],
             [
              0.6666666666666666,
              "#ed7953"
             ],
             [
              0.7777777777777778,
              "#fb9f3a"
             ],
             [
              0.8888888888888888,
              "#fdca26"
             ],
             [
              1,
              "#f0f921"
             ]
            ],
            "type": "histogram2d"
           }
          ],
          "histogram2dcontour": [
           {
            "colorbar": {
             "outlinewidth": 0,
             "ticks": ""
            },
            "colorscale": [
             [
              0,
              "#0d0887"
             ],
             [
              0.1111111111111111,
              "#46039f"
             ],
             [
              0.2222222222222222,
              "#7201a8"
             ],
             [
              0.3333333333333333,
              "#9c179e"
             ],
             [
              0.4444444444444444,
              "#bd3786"
             ],
             [
              0.5555555555555556,
              "#d8576b"
             ],
             [
              0.6666666666666666,
              "#ed7953"
             ],
             [
              0.7777777777777778,
              "#fb9f3a"
             ],
             [
              0.8888888888888888,
              "#fdca26"
             ],
             [
              1,
              "#f0f921"
             ]
            ],
            "type": "histogram2dcontour"
           }
          ],
          "mesh3d": [
           {
            "colorbar": {
             "outlinewidth": 0,
             "ticks": ""
            },
            "type": "mesh3d"
           }
          ],
          "parcoords": [
           {
            "line": {
             "colorbar": {
              "outlinewidth": 0,
              "ticks": ""
             }
            },
            "type": "parcoords"
           }
          ],
          "pie": [
           {
            "automargin": true,
            "type": "pie"
           }
          ],
          "scatter": [
           {
            "fillpattern": {
             "fillmode": "overlay",
             "size": 10,
             "solidity": 0.2
            },
            "type": "scatter"
           }
          ],
          "scatter3d": [
           {
            "line": {
             "colorbar": {
              "outlinewidth": 0,
              "ticks": ""
             }
            },
            "marker": {
             "colorbar": {
              "outlinewidth": 0,
              "ticks": ""
             }
            },
            "type": "scatter3d"
           }
          ],
          "scattercarpet": [
           {
            "marker": {
             "colorbar": {
              "outlinewidth": 0,
              "ticks": ""
             }
            },
            "type": "scattercarpet"
           }
          ],
          "scattergeo": [
           {
            "marker": {
             "colorbar": {
              "outlinewidth": 0,
              "ticks": ""
             }
            },
            "type": "scattergeo"
           }
          ],
          "scattergl": [
           {
            "marker": {
             "colorbar": {
              "outlinewidth": 0,
              "ticks": ""
             }
            },
            "type": "scattergl"
           }
          ],
          "scattermapbox": [
           {
            "marker": {
             "colorbar": {
              "outlinewidth": 0,
              "ticks": ""
             }
            },
            "type": "scattermapbox"
           }
          ],
          "scatterpolar": [
           {
            "marker": {
             "colorbar": {
              "outlinewidth": 0,
              "ticks": ""
             }
            },
            "type": "scatterpolar"
           }
          ],
          "scatterpolargl": [
           {
            "marker": {
             "colorbar": {
              "outlinewidth": 0,
              "ticks": ""
             }
            },
            "type": "scatterpolargl"
           }
          ],
          "scatterternary": [
           {
            "marker": {
             "colorbar": {
              "outlinewidth": 0,
              "ticks": ""
             }
            },
            "type": "scatterternary"
           }
          ],
          "surface": [
           {
            "colorbar": {
             "outlinewidth": 0,
             "ticks": ""
            },
            "colorscale": [
             [
              0,
              "#0d0887"
             ],
             [
              0.1111111111111111,
              "#46039f"
             ],
             [
              0.2222222222222222,
              "#7201a8"
             ],
             [
              0.3333333333333333,
              "#9c179e"
             ],
             [
              0.4444444444444444,
              "#bd3786"
             ],
             [
              0.5555555555555556,
              "#d8576b"
             ],
             [
              0.6666666666666666,
              "#ed7953"
             ],
             [
              0.7777777777777778,
              "#fb9f3a"
             ],
             [
              0.8888888888888888,
              "#fdca26"
             ],
             [
              1,
              "#f0f921"
             ]
            ],
            "type": "surface"
           }
          ],
          "table": [
           {
            "cells": {
             "fill": {
              "color": "#EBF0F8"
             },
             "line": {
              "color": "white"
             }
            },
            "header": {
             "fill": {
              "color": "#C8D4E3"
             },
             "line": {
              "color": "white"
             }
            },
            "type": "table"
           }
          ]
         },
         "layout": {
          "annotationdefaults": {
           "arrowcolor": "#2a3f5f",
           "arrowhead": 0,
           "arrowwidth": 1
          },
          "autotypenumbers": "strict",
          "coloraxis": {
           "colorbar": {
            "outlinewidth": 0,
            "ticks": ""
           }
          },
          "colorscale": {
           "diverging": [
            [
             0,
             "#8e0152"
            ],
            [
             0.1,
             "#c51b7d"
            ],
            [
             0.2,
             "#de77ae"
            ],
            [
             0.3,
             "#f1b6da"
            ],
            [
             0.4,
             "#fde0ef"
            ],
            [
             0.5,
             "#f7f7f7"
            ],
            [
             0.6,
             "#e6f5d0"
            ],
            [
             0.7,
             "#b8e186"
            ],
            [
             0.8,
             "#7fbc41"
            ],
            [
             0.9,
             "#4d9221"
            ],
            [
             1,
             "#276419"
            ]
           ],
           "sequential": [
            [
             0,
             "#0d0887"
            ],
            [
             0.1111111111111111,
             "#46039f"
            ],
            [
             0.2222222222222222,
             "#7201a8"
            ],
            [
             0.3333333333333333,
             "#9c179e"
            ],
            [
             0.4444444444444444,
             "#bd3786"
            ],
            [
             0.5555555555555556,
             "#d8576b"
            ],
            [
             0.6666666666666666,
             "#ed7953"
            ],
            [
             0.7777777777777778,
             "#fb9f3a"
            ],
            [
             0.8888888888888888,
             "#fdca26"
            ],
            [
             1,
             "#f0f921"
            ]
           ],
           "sequentialminus": [
            [
             0,
             "#0d0887"
            ],
            [
             0.1111111111111111,
             "#46039f"
            ],
            [
             0.2222222222222222,
             "#7201a8"
            ],
            [
             0.3333333333333333,
             "#9c179e"
            ],
            [
             0.4444444444444444,
             "#bd3786"
            ],
            [
             0.5555555555555556,
             "#d8576b"
            ],
            [
             0.6666666666666666,
             "#ed7953"
            ],
            [
             0.7777777777777778,
             "#fb9f3a"
            ],
            [
             0.8888888888888888,
             "#fdca26"
            ],
            [
             1,
             "#f0f921"
            ]
           ]
          },
          "colorway": [
           "#636efa",
           "#EF553B",
           "#00cc96",
           "#ab63fa",
           "#FFA15A",
           "#19d3f3",
           "#FF6692",
           "#B6E880",
           "#FF97FF",
           "#FECB52"
          ],
          "font": {
           "color": "#2a3f5f"
          },
          "geo": {
           "bgcolor": "white",
           "lakecolor": "white",
           "landcolor": "#E5ECF6",
           "showlakes": true,
           "showland": true,
           "subunitcolor": "white"
          },
          "hoverlabel": {
           "align": "left"
          },
          "hovermode": "closest",
          "mapbox": {
           "style": "light"
          },
          "paper_bgcolor": "white",
          "plot_bgcolor": "#E5ECF6",
          "polar": {
           "angularaxis": {
            "gridcolor": "white",
            "linecolor": "white",
            "ticks": ""
           },
           "bgcolor": "#E5ECF6",
           "radialaxis": {
            "gridcolor": "white",
            "linecolor": "white",
            "ticks": ""
           }
          },
          "scene": {
           "xaxis": {
            "backgroundcolor": "#E5ECF6",
            "gridcolor": "white",
            "gridwidth": 2,
            "linecolor": "white",
            "showbackground": true,
            "ticks": "",
            "zerolinecolor": "white"
           },
           "yaxis": {
            "backgroundcolor": "#E5ECF6",
            "gridcolor": "white",
            "gridwidth": 2,
            "linecolor": "white",
            "showbackground": true,
            "ticks": "",
            "zerolinecolor": "white"
           },
           "zaxis": {
            "backgroundcolor": "#E5ECF6",
            "gridcolor": "white",
            "gridwidth": 2,
            "linecolor": "white",
            "showbackground": true,
            "ticks": "",
            "zerolinecolor": "white"
           }
          },
          "shapedefaults": {
           "line": {
            "color": "#2a3f5f"
           }
          },
          "ternary": {
           "aaxis": {
            "gridcolor": "white",
            "linecolor": "white",
            "ticks": ""
           },
           "baxis": {
            "gridcolor": "white",
            "linecolor": "white",
            "ticks": ""
           },
           "bgcolor": "#E5ECF6",
           "caxis": {
            "gridcolor": "white",
            "linecolor": "white",
            "ticks": ""
           }
          },
          "title": {
           "x": 0.05
          },
          "xaxis": {
           "automargin": true,
           "gridcolor": "white",
           "linecolor": "white",
           "ticks": "",
           "title": {
            "standoff": 15
           },
           "zerolinecolor": "white",
           "zerolinewidth": 2
          },
          "yaxis": {
           "automargin": true,
           "gridcolor": "white",
           "linecolor": "white",
           "ticks": "",
           "title": {
            "standoff": 15
           },
           "zerolinecolor": "white",
           "zerolinewidth": 2
          }
         }
        }
       }
      },
      "text/html": [
       "<div>                            <div id=\"9e6d47f4-0302-49b0-8e22-e29d17ac9b84\" class=\"plotly-graph-div\" style=\"height:525px; width:100%;\"></div>            <script type=\"text/javascript\">                require([\"plotly\"], function(Plotly) {                    window.PLOTLYENV=window.PLOTLYENV || {};                                    if (document.getElementById(\"9e6d47f4-0302-49b0-8e22-e29d17ac9b84\")) {                    Plotly.newPlot(                        \"9e6d47f4-0302-49b0-8e22-e29d17ac9b84\",                        [{\"name\":\"FGM\",\"x\":[2012,2013,2014,2015,2016,2017,2018,2019,2020,2021,2022],\"y\":[-5.896,-1.115,-3.602,-4.382,-1.288,-6.603,-6.418,2.067,-5.096,-0.287,null],\"type\":\"scatter\"},{\"name\":\"FGA\",\"x\":[2012,2013,2014,2015,2016,2017,2018,2019,2020,2021,2022],\"y\":[-2.288,0.799,0.456,0.708,-0.416,0.334,-2.675,2.662,-1.813,1.308,null],\"type\":\"scatter\"},{\"name\":\"FG3M\",\"x\":[2012,2013,2014,2015,2016,2017,2018,2019,2020,2021,2022],\"y\":[-1.289,4.519,6.962,1.59,3.236,3.776,17.618,4.319,-4.32,-4.009,null],\"type\":\"scatter\"},{\"name\":\"FG3A\",\"x\":[2012,2013,2014,2015,2016,2017,2018,2019,2020,2021,2022],\"y\":[5.64,7.908,12.348,6.089,5.483,12.428,17.617,3.832,1.089,-1.172,null],\"type\":\"scatter\"},{\"name\":\"FTM\",\"x\":[2012,2013,2014,2015,2016,2017,2018,2019,2020,2021,2022],\"y\":[8.666,6.638,2.216,1.086,5.065,11.375,5.999,3.417,10.684,4.341,null],\"type\":\"scatter\"},{\"name\":\"FTA\",\"x\":[2012,2013,2014,2015,2016,2017,2018,2019,2020,2021,2022],\"y\":[10.829,7.014,4.145,4.233,5.621,10.327,4.324,2.187,10.079,2.561,null],\"type\":\"scatter\"},{\"name\":\"OREB\",\"x\":[2012,2013,2014,2015,2016,2017,2018,2019,2020,2021,2022],\"y\":[-6.963,8.186,-1.525,0.461,1.343,5.362,-15.397,10.838,-0.231,12.826,null],\"type\":\"scatter\"},{\"name\":\"DREB\",\"x\":[2012,2013,2014,2015,2016,2017,2018,2019,2020,2021,2022],\"y\":[1.463,0.819,1.86,-1.419,-1.871,0.554,0.367,1.591,-2.858,-2.509,null],\"type\":\"scatter\"},{\"name\":\"REB\",\"x\":[2012,2013,2014,2015,2016,2017,2018,2019,2020,2021,2022],\"y\":[-0.846,2.599,0.959,-0.949,-1.333,1.534,-3.281,3.619,-2.22,0.734,null],\"type\":\"scatter\"},{\"name\":\"AST\",\"x\":[2012,2013,2014,2015,2016,2017,2018,2019,2020,2021,2022],\"y\":[-10.572,-8.321,-3.358,-8.928,-6.103,-3.387,-5.995,-8.089,-9.05,-5.397,null],\"type\":\"scatter\"},{\"name\":\"STL\",\"x\":[2012,2013,2014,2015,2016,2017,2018,2019,2020,2021,2022],\"y\":[-7.955,-9.111,-2.815,-6.954,-1.255,-8.467,-6.807,-10.544,-6.181,-6.154,null],\"type\":\"scatter\"},{\"name\":\"BLK\",\"x\":[2012,2013,2014,2015,2016,2017,2018,2019,2020,2021,2022],\"y\":[-2.529,-0.042,4.672,3.545,0.445,-4.001,-13.233,-2.622,1.154,6.85,null],\"type\":\"scatter\"},{\"name\":\"TOV\",\"x\":[2012,2013,2014,2015,2016,2017,2018,2019,2020,2021,2022],\"y\":[0.289,-3.99,-7.138,-7.172,-0.686,-5.636,2.498,-11.389,4.528,-1.297,null],\"type\":\"scatter\"},{\"name\":\"PTS\",\"x\":[2012,2013,2014,2015,2016,2017,2018,2019,2020,2021,2022],\"y\":[-3.1,0.604,-1.946,-3.11,0.149,-2.962,-2.084,2.463,-2.736,-0.132,null],\"type\":\"scatter\"},{\"name\":\"POSS_per_48\",\"x\":[2012,2013,2014,2015,2016,2017,2018,2019,2020,2021,2022],\"y\":[-3.264,-4.998,-0.278,-3.528,-2.872,-0.081,-2.817,-5.835,-3.329,-4.167,null],\"type\":\"scatter\"},{\"name\":\"FG%\",\"x\":[2012,2013,2014,2015,2016,2017,2018,2019,2020,2021,2022],\"y\":[-3.693,-1.898,-4.04,-5.054,-0.876,-6.914,-3.846,-0.58,-3.344,-1.574,null],\"type\":\"scatter\"},{\"name\":\"3PT%\",\"x\":[2012,2013,2014,2015,2016,2017,2018,2019,2020,2021,2022],\"y\":[-6.558,-3.14,-4.794,-4.241,-2.13,-7.696,0.001,0.468,-5.351,-2.87,null],\"type\":\"scatter\"},{\"name\":\"FT%\",\"x\":[2012,2013,2014,2015,2016,2017,2018,2019,2020,2021,2022],\"y\":[-1.951,-0.351,-1.853,-3.019,-0.527,0.95,1.607,1.204,0.549,1.736,null],\"type\":\"scatter\"},{\"name\":\"AST%\",\"x\":[2012,2013,2014,2015,2016,2017,2018,2019,2020,2021,2022],\"y\":[-4.968,-7.288,0.253,-4.755,-4.878,3.443,0.452,-9.95,-4.166,-5.125,null],\"type\":\"scatter\"},{\"name\":\"FG3A%\",\"x\":[2012,2013,2014,2015,2016,2017,2018,2019,2020,2021,2022],\"y\":[8.113,7.053,11.838,5.343,5.923,12.054,20.85,1.14,2.956,-2.448,null],\"type\":\"scatter\"},{\"name\":\"PTS/FGA\",\"x\":[2012,2013,2014,2015,2016,2017,2018,2019,2020,2021,2022],\"y\":[-0.832,-0.193,-2.392,-3.791,0.567,-3.285,0.608,-0.195,-0.94,-1.421,null],\"type\":\"scatter\"},{\"name\":\"FG3M/FGM\",\"x\":[2012,2013,2014,2015,2016,2017,2018,2019,2020,2021,2022],\"y\":[4.896,5.697,10.958,6.245,4.583,11.113,25.685,2.206,0.818,-3.733,null],\"type\":\"scatter\"},{\"name\":\"FTA/FGA\",\"x\":[2012,2013,2014,2015,2016,2017,2018,2019,2020,2021,2022],\"y\":[13.424,6.166,3.672,3.5,6.062,9.959,7.191,-0.463,12.112,1.237,null],\"type\":\"scatter\"},{\"name\":\"TRU%\",\"x\":[2012,2013,2014,2015,2016,2017,2018,2019,2020,2021,2022],\"y\":[-2.344,-0.933,-2.806,-4.179,-0.131,-4.311,-0.193,-0.143,-2.2,-1.548,null],\"type\":\"scatter\"},{\"name\":\"AST_TOV\",\"x\":[2012,2013,2014,2015,2016,2017,2018,2019,2020,2021,2022],\"y\":[-10.829,-4.511,4.071,-1.891,-5.455,2.384,-8.286,3.723,-12.99,-4.154,null],\"type\":\"scatter\"}],                        {\"template\":{\"data\":{\"histogram2dcontour\":[{\"type\":\"histogram2dcontour\",\"colorbar\":{\"outlinewidth\":0,\"ticks\":\"\"},\"colorscale\":[[0.0,\"#0d0887\"],[0.1111111111111111,\"#46039f\"],[0.2222222222222222,\"#7201a8\"],[0.3333333333333333,\"#9c179e\"],[0.4444444444444444,\"#bd3786\"],[0.5555555555555556,\"#d8576b\"],[0.6666666666666666,\"#ed7953\"],[0.7777777777777778,\"#fb9f3a\"],[0.8888888888888888,\"#fdca26\"],[1.0,\"#f0f921\"]]}],\"choropleth\":[{\"type\":\"choropleth\",\"colorbar\":{\"outlinewidth\":0,\"ticks\":\"\"}}],\"histogram2d\":[{\"type\":\"histogram2d\",\"colorbar\":{\"outlinewidth\":0,\"ticks\":\"\"},\"colorscale\":[[0.0,\"#0d0887\"],[0.1111111111111111,\"#46039f\"],[0.2222222222222222,\"#7201a8\"],[0.3333333333333333,\"#9c179e\"],[0.4444444444444444,\"#bd3786\"],[0.5555555555555556,\"#d8576b\"],[0.6666666666666666,\"#ed7953\"],[0.7777777777777778,\"#fb9f3a\"],[0.8888888888888888,\"#fdca26\"],[1.0,\"#f0f921\"]]}],\"heatmap\":[{\"type\":\"heatmap\",\"colorbar\":{\"outlinewidth\":0,\"ticks\":\"\"},\"colorscale\":[[0.0,\"#0d0887\"],[0.1111111111111111,\"#46039f\"],[0.2222222222222222,\"#7201a8\"],[0.3333333333333333,\"#9c179e\"],[0.4444444444444444,\"#bd3786\"],[0.5555555555555556,\"#d8576b\"],[0.6666666666666666,\"#ed7953\"],[0.7777777777777778,\"#fb9f3a\"],[0.8888888888888888,\"#fdca26\"],[1.0,\"#f0f921\"]]}],\"heatmapgl\":[{\"type\":\"heatmapgl\",\"colorbar\":{\"outlinewidth\":0,\"ticks\":\"\"},\"colorscale\":[[0.0,\"#0d0887\"],[0.1111111111111111,\"#46039f\"],[0.2222222222222222,\"#7201a8\"],[0.3333333333333333,\"#9c179e\"],[0.4444444444444444,\"#bd3786\"],[0.5555555555555556,\"#d8576b\"],[0.6666666666666666,\"#ed7953\"],[0.7777777777777778,\"#fb9f3a\"],[0.8888888888888888,\"#fdca26\"],[1.0,\"#f0f921\"]]}],\"contourcarpet\":[{\"type\":\"contourcarpet\",\"colorbar\":{\"outlinewidth\":0,\"ticks\":\"\"}}],\"contour\":[{\"type\":\"contour\",\"colorbar\":{\"outlinewidth\":0,\"ticks\":\"\"},\"colorscale\":[[0.0,\"#0d0887\"],[0.1111111111111111,\"#46039f\"],[0.2222222222222222,\"#7201a8\"],[0.3333333333333333,\"#9c179e\"],[0.4444444444444444,\"#bd3786\"],[0.5555555555555556,\"#d8576b\"],[0.6666666666666666,\"#ed7953\"],[0.7777777777777778,\"#fb9f3a\"],[0.8888888888888888,\"#fdca26\"],[1.0,\"#f0f921\"]]}],\"surface\":[{\"type\":\"surface\",\"colorbar\":{\"outlinewidth\":0,\"ticks\":\"\"},\"colorscale\":[[0.0,\"#0d0887\"],[0.1111111111111111,\"#46039f\"],[0.2222222222222222,\"#7201a8\"],[0.3333333333333333,\"#9c179e\"],[0.4444444444444444,\"#bd3786\"],[0.5555555555555556,\"#d8576b\"],[0.6666666666666666,\"#ed7953\"],[0.7777777777777778,\"#fb9f3a\"],[0.8888888888888888,\"#fdca26\"],[1.0,\"#f0f921\"]]}],\"mesh3d\":[{\"type\":\"mesh3d\",\"colorbar\":{\"outlinewidth\":0,\"ticks\":\"\"}}],\"scatter\":[{\"fillpattern\":{\"fillmode\":\"overlay\",\"size\":10,\"solidity\":0.2},\"type\":\"scatter\"}],\"parcoords\":[{\"type\":\"parcoords\",\"line\":{\"colorbar\":{\"outlinewidth\":0,\"ticks\":\"\"}}}],\"scatterpolargl\":[{\"type\":\"scatterpolargl\",\"marker\":{\"colorbar\":{\"outlinewidth\":0,\"ticks\":\"\"}}}],\"bar\":[{\"error_x\":{\"color\":\"#2a3f5f\"},\"error_y\":{\"color\":\"#2a3f5f\"},\"marker\":{\"line\":{\"color\":\"#E5ECF6\",\"width\":0.5},\"pattern\":{\"fillmode\":\"overlay\",\"size\":10,\"solidity\":0.2}},\"type\":\"bar\"}],\"scattergeo\":[{\"type\":\"scattergeo\",\"marker\":{\"colorbar\":{\"outlinewidth\":0,\"ticks\":\"\"}}}],\"scatterpolar\":[{\"type\":\"scatterpolar\",\"marker\":{\"colorbar\":{\"outlinewidth\":0,\"ticks\":\"\"}}}],\"histogram\":[{\"marker\":{\"pattern\":{\"fillmode\":\"overlay\",\"size\":10,\"solidity\":0.2}},\"type\":\"histogram\"}],\"scattergl\":[{\"type\":\"scattergl\",\"marker\":{\"colorbar\":{\"outlinewidth\":0,\"ticks\":\"\"}}}],\"scatter3d\":[{\"type\":\"scatter3d\",\"line\":{\"colorbar\":{\"outlinewidth\":0,\"ticks\":\"\"}},\"marker\":{\"colorbar\":{\"outlinewidth\":0,\"ticks\":\"\"}}}],\"scattermapbox\":[{\"type\":\"scattermapbox\",\"marker\":{\"colorbar\":{\"outlinewidth\":0,\"ticks\":\"\"}}}],\"scatterternary\":[{\"type\":\"scatterternary\",\"marker\":{\"colorbar\":{\"outlinewidth\":0,\"ticks\":\"\"}}}],\"scattercarpet\":[{\"type\":\"scattercarpet\",\"marker\":{\"colorbar\":{\"outlinewidth\":0,\"ticks\":\"\"}}}],\"carpet\":[{\"aaxis\":{\"endlinecolor\":\"#2a3f5f\",\"gridcolor\":\"white\",\"linecolor\":\"white\",\"minorgridcolor\":\"white\",\"startlinecolor\":\"#2a3f5f\"},\"baxis\":{\"endlinecolor\":\"#2a3f5f\",\"gridcolor\":\"white\",\"linecolor\":\"white\",\"minorgridcolor\":\"white\",\"startlinecolor\":\"#2a3f5f\"},\"type\":\"carpet\"}],\"table\":[{\"cells\":{\"fill\":{\"color\":\"#EBF0F8\"},\"line\":{\"color\":\"white\"}},\"header\":{\"fill\":{\"color\":\"#C8D4E3\"},\"line\":{\"color\":\"white\"}},\"type\":\"table\"}],\"barpolar\":[{\"marker\":{\"line\":{\"color\":\"#E5ECF6\",\"width\":0.5},\"pattern\":{\"fillmode\":\"overlay\",\"size\":10,\"solidity\":0.2}},\"type\":\"barpolar\"}],\"pie\":[{\"automargin\":true,\"type\":\"pie\"}]},\"layout\":{\"autotypenumbers\":\"strict\",\"colorway\":[\"#636efa\",\"#EF553B\",\"#00cc96\",\"#ab63fa\",\"#FFA15A\",\"#19d3f3\",\"#FF6692\",\"#B6E880\",\"#FF97FF\",\"#FECB52\"],\"font\":{\"color\":\"#2a3f5f\"},\"hovermode\":\"closest\",\"hoverlabel\":{\"align\":\"left\"},\"paper_bgcolor\":\"white\",\"plot_bgcolor\":\"#E5ECF6\",\"polar\":{\"bgcolor\":\"#E5ECF6\",\"angularaxis\":{\"gridcolor\":\"white\",\"linecolor\":\"white\",\"ticks\":\"\"},\"radialaxis\":{\"gridcolor\":\"white\",\"linecolor\":\"white\",\"ticks\":\"\"}},\"ternary\":{\"bgcolor\":\"#E5ECF6\",\"aaxis\":{\"gridcolor\":\"white\",\"linecolor\":\"white\",\"ticks\":\"\"},\"baxis\":{\"gridcolor\":\"white\",\"linecolor\":\"white\",\"ticks\":\"\"},\"caxis\":{\"gridcolor\":\"white\",\"linecolor\":\"white\",\"ticks\":\"\"}},\"coloraxis\":{\"colorbar\":{\"outlinewidth\":0,\"ticks\":\"\"}},\"colorscale\":{\"sequential\":[[0.0,\"#0d0887\"],[0.1111111111111111,\"#46039f\"],[0.2222222222222222,\"#7201a8\"],[0.3333333333333333,\"#9c179e\"],[0.4444444444444444,\"#bd3786\"],[0.5555555555555556,\"#d8576b\"],[0.6666666666666666,\"#ed7953\"],[0.7777777777777778,\"#fb9f3a\"],[0.8888888888888888,\"#fdca26\"],[1.0,\"#f0f921\"]],\"sequentialminus\":[[0.0,\"#0d0887\"],[0.1111111111111111,\"#46039f\"],[0.2222222222222222,\"#7201a8\"],[0.3333333333333333,\"#9c179e\"],[0.4444444444444444,\"#bd3786\"],[0.5555555555555556,\"#d8576b\"],[0.6666666666666666,\"#ed7953\"],[0.7777777777777778,\"#fb9f3a\"],[0.8888888888888888,\"#fdca26\"],[1.0,\"#f0f921\"]],\"diverging\":[[0,\"#8e0152\"],[0.1,\"#c51b7d\"],[0.2,\"#de77ae\"],[0.3,\"#f1b6da\"],[0.4,\"#fde0ef\"],[0.5,\"#f7f7f7\"],[0.6,\"#e6f5d0\"],[0.7,\"#b8e186\"],[0.8,\"#7fbc41\"],[0.9,\"#4d9221\"],[1,\"#276419\"]]},\"xaxis\":{\"gridcolor\":\"white\",\"linecolor\":\"white\",\"ticks\":\"\",\"title\":{\"standoff\":15},\"zerolinecolor\":\"white\",\"automargin\":true,\"zerolinewidth\":2},\"yaxis\":{\"gridcolor\":\"white\",\"linecolor\":\"white\",\"ticks\":\"\",\"title\":{\"standoff\":15},\"zerolinecolor\":\"white\",\"automargin\":true,\"zerolinewidth\":2},\"scene\":{\"xaxis\":{\"backgroundcolor\":\"#E5ECF6\",\"gridcolor\":\"white\",\"linecolor\":\"white\",\"showbackground\":true,\"ticks\":\"\",\"zerolinecolor\":\"white\",\"gridwidth\":2},\"yaxis\":{\"backgroundcolor\":\"#E5ECF6\",\"gridcolor\":\"white\",\"linecolor\":\"white\",\"showbackground\":true,\"ticks\":\"\",\"zerolinecolor\":\"white\",\"gridwidth\":2},\"zaxis\":{\"backgroundcolor\":\"#E5ECF6\",\"gridcolor\":\"white\",\"linecolor\":\"white\",\"showbackground\":true,\"ticks\":\"\",\"zerolinecolor\":\"white\",\"gridwidth\":2}},\"shapedefaults\":{\"line\":{\"color\":\"#2a3f5f\"}},\"annotationdefaults\":{\"arrowcolor\":\"#2a3f5f\",\"arrowhead\":0,\"arrowwidth\":1},\"geo\":{\"bgcolor\":\"white\",\"landcolor\":\"#E5ECF6\",\"subunitcolor\":\"white\",\"showland\":true,\"showlakes\":true,\"lakecolor\":\"white\"},\"title\":{\"x\":0.05},\"mapbox\":{\"style\":\"light\"}}}},                        {\"responsive\": true}                    ).then(function(){\n",
       "                            \n",
       "var gd = document.getElementById('9e6d47f4-0302-49b0-8e22-e29d17ac9b84');\n",
       "var x = new MutationObserver(function (mutations, observer) {{\n",
       "        var display = window.getComputedStyle(gd).display;\n",
       "        if (!display || display === 'none') {{\n",
       "            console.log([gd, 'removed!']);\n",
       "            Plotly.purge(gd);\n",
       "            observer.disconnect();\n",
       "        }}\n",
       "}});\n",
       "\n",
       "// Listen for the removal of the full notebook cells\n",
       "var notebookContainer = gd.closest('#notebook-container');\n",
       "if (notebookContainer) {{\n",
       "    x.observe(notebookContainer, {childList: true});\n",
       "}}\n",
       "\n",
       "// Listen for the clearing of the current output cell\n",
       "var outputEl = gd.closest('.output');\n",
       "if (outputEl) {{\n",
       "    x.observe(outputEl, {childList: true});\n",
       "}}\n",
       "\n",
       "                        })                };                });            </script>        </div>"
      ]
     },
     "metadata": {},
     "output_type": "display_data"
    }
   ],
   "source": [
    "fig = go.Figure()\n",
    "for col in comp_change_df.columns[1:]:\n",
    "    fig.add_trace(go.Scatter(x=comp_change_df['season_start_year'],\n",
    "                             y=comp_change_df[col], name=col))\n",
    "fig.show()"
   ]
  }
 ],
 "metadata": {
  "kernelspec": {
   "display_name": "Python 3 (ipykernel)",
   "language": "python",
   "name": "python3"
  },
  "language_info": {
   "codemirror_mode": {
    "name": "ipython",
    "version": 3
   },
   "file_extension": ".py",
   "mimetype": "text/x-python",
   "name": "python",
   "nbconvert_exporter": "python",
   "pygments_lexer": "ipython3",
   "version": "3.11.5"
  }
 },
 "nbformat": 4,
 "nbformat_minor": 5
}
